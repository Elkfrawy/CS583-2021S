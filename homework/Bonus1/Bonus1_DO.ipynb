{
 "cells": [
  {
   "cell_type": "markdown",
   "metadata": {},
   "source": [
    "# Bonus1: Parallel Algorithms\n",
    "\n",
    "### Name: Ayman Elkfrawy\n"
   ]
  },
  {
   "cell_type": "markdown",
   "metadata": {},
   "source": [
    "## 0. You will do the following:\n",
    "\n",
    "1. Read the lecture note: [click here](https://github.com/wangshusen/DeepLearning/blob/master/LectureNotes/Parallel/Parallel.pdf)\n",
    "\n",
    "2. Implement federated averaging or decentralized optimization.\n",
    "\n",
    "3. Plot the convergence curve. (The x-axis can be ```number of epochs``` or ```number of communication```. You must make sure the label is correct.)\n",
    "\n",
    "4. Convert the .IPYNB file to .HTML file.\n",
    "\n",
    "    * The HTML file must contain **the code** and **the output after execution**.\n",
    "    \n",
    "5. Upload this .HTML file to your Google Drive, Dropbox, or your Github repo. (If it is submitted to Google Drive or Dropbox, you must make the file open-access.)\n",
    "\n",
    "6. Submit the link to this .HTML file to Canvas.\n",
    "\n",
    "    * Example: https://github.com/wangshusen/CS583-2020S/blob/master/homework/Bonus1/Bonus1.html\n",
    "\n"
   ]
  },
  {
   "cell_type": "code",
   "execution_count": 83,
   "metadata": {},
   "outputs": [],
   "source": []
  },
  {
   "cell_type": "markdown",
   "metadata": {},
   "source": [
    "# 1. Data processing\n",
    "\n",
    "- Download the Diabete dataset from https://www.csie.ntu.edu.tw/~cjlin/libsvmtools/datasets/binary/diabetes\n",
    "- Load the data using sklearn.\n",
    "- Preprocess the data."
   ]
  },
  {
   "cell_type": "markdown",
   "metadata": {},
   "source": [
    "## 1.1. Load the data"
   ]
  },
  {
   "cell_type": "code",
   "execution_count": 84,
   "metadata": {},
   "outputs": [
    {
     "name": "stdout",
     "output_type": "stream",
     "text": [
      "Shape of x: (768, 8)\n",
      "Shape of y: (768,)\n"
     ]
    }
   ],
   "source": [
    "from sklearn import datasets\n",
    "import numpy\n",
    "\n",
    "x_sparse, y = datasets.load_svmlight_file('diabetes')\n",
    "x = x_sparse.todense()\n",
    "\n",
    "print('Shape of x: ' + str(x.shape))\n",
    "print('Shape of y: ' + str(y.shape))"
   ]
  },
  {
   "cell_type": "markdown",
   "metadata": {},
   "source": [
    "## 1.2. Partition to training and test sets"
   ]
  },
  {
   "cell_type": "code",
   "execution_count": 85,
   "metadata": {},
   "outputs": [
    {
     "name": "stdout",
     "output_type": "stream",
     "text": [
      "Shape of x_train: (645, 8)\n",
      "Shape of x_test: (123, 8)\n",
      "Shape of y_train: (645, 1)\n",
      "Shape of y_test: (123, 1)\n"
     ]
    }
   ],
   "source": [
    "from sklearn.model_selection import train_test_split\n",
    "\n",
    "split_random_state = 376\n",
    "\n",
    "y = y.reshape(len(y), 1)\n",
    "\n",
    "x_train, x_test, y_train, y_test = train_test_split(x, y, test_size=0.16)\n",
    "\n",
    "print('Shape of x_train: ' + str(x_train.shape))\n",
    "print('Shape of x_test: ' + str(x_test.shape))\n",
    "print('Shape of y_train: ' + str(y_train.shape))\n",
    "print('Shape of y_test: ' + str(y_test.shape))"
   ]
  },
  {
   "cell_type": "markdown",
   "metadata": {},
   "source": [
    "## 1.3. Feature scaling"
   ]
  },
  {
   "cell_type": "markdown",
   "metadata": {},
   "source": [
    "Use the standardization to trainsform both training and test features"
   ]
  },
  {
   "cell_type": "code",
   "execution_count": 86,
   "metadata": {},
   "outputs": [
    {
     "name": "stdout",
     "output_type": "stream",
     "text": [
      "test mean = \n",
      "[[-0.16015059 -0.0308717  -0.06913092  0.01082152  0.1511566   0.05000008\n",
      "   0.01690519 -0.18163769]]\n",
      "test std = \n",
      "[[0.96263827 1.05218948 1.04996419 0.93040867 1.33588875 1.0865578\n",
      "  1.14621725 1.01138687]]\n"
     ]
    }
   ],
   "source": [
    "# Standardization\n",
    "import numpy\n",
    "\n",
    "# calculate mu and sig using the training set\n",
    "d = x_train.shape[1]\n",
    "mu = numpy.mean(x_train, axis=0).reshape(1, d)\n",
    "sig = numpy.std(x_train, axis=0).reshape(1, d)\n",
    "\n",
    "# transform the training features\n",
    "x_train = (x_train - mu) / (sig + 1E-6)\n",
    "\n",
    "# transform the test features\n",
    "x_test = (x_test - mu) / (sig + 1E-6)\n",
    "\n",
    "print('test mean = ')\n",
    "print(numpy.mean(x_test, axis=0))\n",
    "\n",
    "print('test std = ')\n",
    "print(numpy.std(x_test, axis=0))"
   ]
  },
  {
   "cell_type": "markdown",
   "metadata": {},
   "source": [
    "## 1.4. Add a dimension of all ones"
   ]
  },
  {
   "cell_type": "code",
   "execution_count": 87,
   "metadata": {},
   "outputs": [
    {
     "name": "stdout",
     "output_type": "stream",
     "text": [
      "Shape of x_train: (645, 9)\n",
      "Shape of x_test: (123, 9)\n"
     ]
    }
   ],
   "source": [
    "n_train, d = x_train.shape\n",
    "x_train = numpy.concatenate((x_train, numpy.ones((n_train, 1))), axis=1)\n",
    "\n",
    "n_test, d = x_test.shape\n",
    "x_test = numpy.concatenate((x_test, numpy.ones((n_test, 1))), axis=1)\n",
    "\n",
    "print('Shape of x_train: ' + str(x_train.shape))\n",
    "print('Shape of x_test: ' + str(x_test.shape))"
   ]
  },
  {
   "cell_type": "code",
   "metadata": {
    "pycharm": {
     "name": "#%%\n"
    }
   },
   "source": [
    "import math\n",
    "\n",
    "VERBOSE = False\n",
    "\n",
    "\n",
    "class Worker:\n",
    "    def __init__(self, worker_id, x, y):\n",
    "        self.x = x\n",
    "        self.y = y\n",
    "        self.n_samples = x.shape[0]\n",
    "        self.d_features = x.shape[1]\n",
    "        self.w = numpy.zeros((self.d_features, 1))\n",
    "        self.worker_id = worker_id\n",
    "        self.log('Created')\n",
    "        self.neighbors = []\n",
    "        self.grad = 0\n",
    "\n",
    "    def set_neighbors(self, neighbors):\n",
    "        self.neighbors = neighbors\n",
    "\n",
    "    def log(self, message):\n",
    "        if VERBOSE:\n",
    "            print(f'Worker ({self.worker_id}): {message}')\n",
    "\n",
    "    def update_params(self, self_weight=3):\n",
    "        self.log('Collecting and updating Params')\n",
    "\n",
    "        neighbors_w = numpy.zeros((self.d_features, 1))\n",
    "        for neighbor in self.neighbors:\n",
    "            neighbors_w += neighbor.get_params()\n",
    "\n",
    "        self.w = (self_weight * self.w + neighbors_w) / (len(self.neighbors) + self_weight)\n",
    "\n",
    "    def get_params(self):\n",
    "        return self.w\n",
    "\n",
    "    def gradient(self, lam):\n",
    "        self.log('Calculating GD grad')\n",
    "        yx = numpy.multiply(self.y, self.x)\n",
    "        yxw = numpy.dot(yx, self.w)\n",
    "        g_vec = numpy.divide(yx, 1 + numpy.exp(yxw))\n",
    "        self.grad = -numpy.mean(g_vec, axis=0).reshape(self.d_features, 1) + lam * self.w\n",
    "        return self.grad\n",
    "\n",
    "    def objective(self, lam):\n",
    "        self.log('Calculating GD Objective')\n",
    "        yx = numpy.multiply(self.y, self.x)\n",
    "        yxw = numpy.dot(yx, self.w)\n",
    "        loss = numpy.mean(numpy.log(1 + numpy.exp(-yxw)))\n",
    "        obj = loss + lam / 2 * numpy.sum(self.w * self.w)\n",
    "        return obj\n",
    "\n",
    "    def gd(self, learn_rate, lam):\n",
    "        self.log('Performing GD')\n",
    "\n",
    "        self.w -= learn_rate * self.grad\n",
    "\n",
    "        objval = self.objective(lam)\n",
    "\n",
    "        return self.w, objval\n",
    "\n",
    "\n",
    "def create_workers_network(x, y, network):\n",
    "    n_samples, d_features = x.shape\n",
    "    m_workers = len(network)\n",
    "    s = math.floor(n_samples / m_workers)\n",
    "\n",
    "    workers = []\n",
    "\n",
    "    for i in range(m_workers):\n",
    "        indices = list(range(i*s, (i+1) * s))\n",
    "        worker = Worker('worker'+str(i), x[indices, :], y[indices, :])\n",
    "        workers.append(worker)\n",
    "\n",
    "    for i in range(m_workers):\n",
    "        neighbors = list(map(lambda idx: workers[idx], network[i]))  # map each index in the map to corresponding worker\n",
    "        workers[i].set_neighbors(neighbors)\n",
    "\n",
    "    return workers"
   ],
   "execution_count": 88,
   "outputs": []
  },
  {
   "cell_type": "code",
   "execution_count": 89,
   "outputs": [],
   "source": [
    "def run_distributed_optimization(x_train, y_train, self_weight, network_map, lam=1e-6, alpha=1e-1, max_epoch=50):\n",
    "    if len(network_map) < 1:\n",
    "        raise Exception('Network must contain at least one worker!')\n",
    "\n",
    "    workers = create_workers_network(x_train, y_train, network_map)\n",
    "    m_workers = len(workers)\n",
    "\n",
    "    objvals = numpy.zeros(max_epoch)\n",
    "    for epoch in range(max_epoch):\n",
    "        objval = 0\n",
    "\n",
    "        for worker in workers:\n",
    "            worker.gradient(lam)  # Each worker calculate gradient locally\n",
    "            worker.update_params(self_weight)  # Update parameters from neighbors\n",
    "            _, obj = worker.gd(learn_rate=alpha, lam=lam)  # Calculate GD with updated parameters\n",
    "            objval += obj\n",
    "\n",
    "        objval /= m_workers\n",
    "        objvals[epoch] = objval\n",
    "        print('Objective function value = ' + str(objval))\n",
    "\n",
    "    return workers[0].w, objvals  # Assuming all workers converged"
   ],
   "metadata": {
    "collapsed": false,
    "pycharm": {
     "name": "#%%\n"
    }
   }
  },
  {
   "cell_type": "markdown",
   "source": [
    "## Network graph\n",
    "![Distributed Optimization Network](DO_network.png)"
   ],
   "metadata": {
    "collapsed": false,
    "pycharm": {
     "name": "#%% md\n",
     "is_executing": true
    }
   },
   "outputs": [
    {
     "name": "stderr",
     "output_type": "stream",
     "text": [
      "'[alt' is not recognized as an internal or external command,\n",
      "operable program or batch file.\n"
     ]
    }
   ]
  },
  {
   "cell_type": "code",
   "execution_count": 90,
   "outputs": [],
   "source": [
    "#  [0]----[1]-----[3]----[5]\n",
    "#   |     /       /\\      |\n",
    "#   |   /       /    \\    |\n",
    "#   | /       /        \\  |\n",
    "#  [2]------[4]          [6]\n",
    "#\n"
   ],
   "metadata": {
    "collapsed": false,
    "pycharm": {
     "name": "#%%\n"
    }
   }
  },
  {
   "cell_type": "code",
   "execution_count": 91,
   "outputs": [
    {
     "name": "stdout",
     "output_type": "stream",
     "text": [
      "Objective function value = 0.6726036686648535\n",
      "Objective function value = 0.6545475502975693\n",
      "Objective function value = 0.6386104777964471\n",
      "Objective function value = 0.6245512432930378\n",
      "Objective function value = 0.612127246632146\n",
      "Objective function value = 0.6011104040887048\n",
      "Objective function value = 0.5913008275432856\n",
      "Objective function value = 0.5825285546221474\n",
      "Objective function value = 0.5746505597776992\n",
      "Objective function value = 0.567546731021959\n",
      "Objective function value = 0.5611160528704393\n",
      "Objective function value = 0.555273315691676\n",
      "Objective function value = 0.5499463748813359\n",
      "Objective function value = 0.5450738985600171\n",
      "Objective function value = 0.540603526046118\n",
      "Objective function value = 0.5364903639586054\n",
      "Objective function value = 0.5326957570144517\n",
      "Objective function value = 0.5291862813245599\n",
      "Objective function value = 0.5259329176538678\n",
      "Objective function value = 0.5229103702961161\n",
      "Objective function value = 0.5200965039488692\n",
      "Objective function value = 0.5174718764301516\n",
      "Objective function value = 0.5150193494582986\n",
      "Objective function value = 0.5127237632161109\n",
      "Objective function value = 0.5105716632096009\n",
      "Objective function value = 0.5085510701533162\n",
      "Objective function value = 0.506651285384932\n",
      "Objective function value = 0.5048627257251684\n",
      "Objective function value = 0.5031767828296057\n",
      "Objective function value = 0.5015857029855547\n",
      "Objective function value = 0.5000824840362811\n",
      "Objective function value = 0.4986607867030937\n",
      "Objective function value = 0.49731485805190984\n",
      "Objective function value = 0.49603946523752934\n",
      "Objective function value = 0.4948298379738816\n",
      "Objective function value = 0.4936816184360686\n",
      "Objective function value = 0.4925908175113157\n",
      "Objective function value = 0.4915537764898396\n",
      "Objective function value = 0.4905671334302472\n",
      "Objective function value = 0.48962779355304104\n",
      "Objective function value = 0.48873290311466766\n",
      "Objective function value = 0.48787982629695753\n",
      "Objective function value = 0.48706612471571015\n",
      "Objective function value = 0.4862895392099542\n",
      "Objective function value = 0.48554797362200813\n",
      "Objective function value = 0.4848394803194358\n",
      "Objective function value = 0.48416224724464996\n",
      "Objective function value = 0.4835145863072782\n",
      "Objective function value = 0.4828949229593901\n",
      "Objective function value = 0.4823017868149476\n",
      "Objective function value = 0.4817338031930232\n",
      "Objective function value = 0.4811896854798894\n",
      "Objective function value = 0.4806682282184365\n",
      "Objective function value = 0.4801683008448645\n",
      "Objective function value = 0.4796888420024968\n",
      "Objective function value = 0.4792288543711179\n",
      "Objective function value = 0.478787399957643\n",
      "Objective function value = 0.4783635958003512\n",
      "Objective function value = 0.4779566100444984\n",
      "Objective function value = 0.4775656583519897\n",
      "Objective function value = 0.4771900006120324\n",
      "Objective function value = 0.4768289379234037\n",
      "Objective function value = 0.4764818098222122\n",
      "Objective function value = 0.47614799173188616\n",
      "Objective function value = 0.4758268926146247\n",
      "Objective function value = 0.4755179528057543\n",
      "Objective function value = 0.4752206420143797\n",
      "Objective function value = 0.4749344574754336\n",
      "Objective function value = 0.4746589222397533\n",
      "Objective function value = 0.4743935835901581\n",
      "Objective function value = 0.4741380115726958\n",
      "Objective function value = 0.47389179763329453\n",
      "Objective function value = 0.47365455335099554\n",
      "Objective function value = 0.4734259092597946\n",
      "Objective function value = 0.47320551375186376\n",
      "Objective function value = 0.47299303205561005\n",
      "Objective function value = 0.4727881452826197\n",
      "Objective function value = 0.47259054953808555\n",
      "Objective function value = 0.4723999550897967\n",
      "Objective function value = 0.4722160855912093\n",
      "Objective function value = 0.4720386773545061\n",
      "Objective function value = 0.47186747866991025\n",
      "Objective function value = 0.4717022491678381\n",
      "Objective function value = 0.4715427592207635\n",
      "Objective function value = 0.4713887893819268\n",
      "Objective function value = 0.4712401298582621\n",
      "Objective function value = 0.47109658001512555\n",
      "Objective function value = 0.47095794791060974\n",
      "Objective function value = 0.47082404985739695\n",
      "Objective function value = 0.4706947100102747\n",
      "Objective function value = 0.4705697599775772\n",
      "Objective function value = 0.4704490384549537\n",
      "Objective function value = 0.47033239087998535\n",
      "Objective function value = 0.47021966910628493\n",
      "Objective function value = 0.47011073109581447\n",
      "Objective function value = 0.47000544062825117\n",
      "Objective function value = 0.4699036670263168\n",
      "Objective function value = 0.469805284896064\n",
      "Objective function value = 0.4697101738811861\n",
      "Objective function value = 0.4696182184304821\n",
      "-------------------------\n",
      "Objective function value = 0.6760581407184196\n",
      "Objective function value = 0.6610763065380664\n",
      "Objective function value = 0.6477476717355328\n",
      "Objective function value = 0.635785349717155\n",
      "Objective function value = 0.6249859246431898\n",
      "Objective function value = 0.6151931072015852\n",
      "Objective function value = 0.6062805544989897\n",
      "Objective function value = 0.5981429799062613\n",
      "Objective function value = 0.5906910551699367\n",
      "Objective function value = 0.5838481607640462\n",
      "Objective function value = 0.5775481114555291\n",
      "Objective function value = 0.571733447371533\n",
      "Objective function value = 0.5663540869158773\n",
      "Objective function value = 0.5613662324582165\n",
      "Objective function value = 0.5567314649327307\n",
      "Objective function value = 0.5524159863138093\n",
      "Objective function value = 0.5483899813155698\n",
      "Objective function value = 0.5446270769684276\n",
      "Objective function value = 0.5411038834379917\n",
      "Objective function value = 0.537799602743594\n",
      "Objective function value = 0.5346956944826236\n",
      "Objective function value = 0.5317755895703964\n",
      "Objective function value = 0.5290244445274643\n",
      "Objective function value = 0.5264289300848012\n",
      "Objective function value = 0.5239770488954899\n",
      "Objective function value = 0.5216579779837048\n",
      "Objective function value = 0.5194619322609575\n",
      "Objective function value = 0.5173800460214112\n",
      "Objective function value = 0.5154042698131407\n",
      "Objective function value = 0.5135272804871555\n",
      "Objective function value = 0.5117424025645727\n",
      "Objective function value = 0.5100435393457381\n",
      "Objective function value = 0.5084251124227355\n",
      "Objective function value = 0.5068820084562611\n",
      "Objective function value = 0.5054095322456728\n",
      "Objective function value = 0.504003365262443\n",
      "Objective function value = 0.5026595289366025\n",
      "Objective function value = 0.501374352086703\n",
      "Objective function value = 0.5001444419693588\n",
      "Objective function value = 0.49896665849702326\n",
      "Objective function value = 0.4978380912344165\n",
      "Objective function value = 0.49675603883665354\n",
      "Objective function value = 0.4957179906370599\n",
      "Objective function value = 0.49472161013112775\n",
      "Objective function value = 0.49376472013602335\n",
      "Objective function value = 0.4928452894333821\n",
      "Objective function value = 0.49196142072749494\n",
      "Objective function value = 0.4911113397720022\n",
      "Objective function value = 0.49029338553637125\n",
      "Objective function value = 0.4895060012991344\n",
      "Objective function value = 0.48874772656849463\n",
      "Objective function value = 0.4880171897427343\n",
      "Objective function value = 0.4873131014331574\n",
      "Objective function value = 0.48663424838126884\n",
      "Objective function value = 0.4859794879097315\n",
      "Objective function value = 0.48534774285349164\n",
      "Objective function value = 0.484737996923465\n",
      "Objective function value = 0.48414929046044575\n",
      "Objective function value = 0.4835807165415259\n",
      "Objective function value = 0.48303141740538597\n",
      "Objective function value = 0.48250058116641353\n",
      "Objective function value = 0.48198743879076755\n",
      "Objective function value = 0.48149126131032055\n",
      "Objective function value = 0.4810113572528806\n",
      "Objective function value = 0.48054707026930404\n",
      "Objective function value = 0.4800977769400606\n",
      "Objective function value = 0.4796628847455463\n",
      "Objective function value = 0.4792418301859893\n",
      "Objective function value = 0.47883407703817477\n",
      "Objective function value = 0.4784391147374351\n",
      "Objective function value = 0.4780564568744645\n",
      "Objective function value = 0.47768563979748946\n",
      "Objective function value = 0.47732622131121494\n",
      "Objective function value = 0.4769777794647544\n",
      "Objective function value = 0.4766399114214619\n",
      "Objective function value = 0.47631223240422227\n",
      "Objective function value = 0.4759943747103316\n",
      "Objective function value = 0.475685986790617\n",
      "Objective function value = 0.47538673238791057\n",
      "Objective function value = 0.47509628973041745\n",
      "Objective function value = 0.4748143507758957\n",
      "Objective function value = 0.47454062050291285\n",
      "Objective function value = 0.47427481624575624\n",
      "Objective function value = 0.4740166670698569\n",
      "Objective function value = 0.47376591318484607\n",
      "Objective function value = 0.47352230539259493\n",
      "Objective function value = 0.4732856045678019\n",
      "Objective function value = 0.4730555811688854\n",
      "Objective function value = 0.4728320147771178\n",
      "Objective function value = 0.4726146936620926\n",
      "Objective function value = 0.4724034143717702\n",
      "Objective function value = 0.47219798134547725\n",
      "Objective function value = 0.47199820654835717\n",
      "Objective function value = 0.47180390912588605\n",
      "Objective function value = 0.47161491507716624\n",
      "Objective function value = 0.4714310569458059\n",
      "Objective function value = 0.47125217352728205\n",
      "Objective function value = 0.4710781095917594\n",
      "Objective function value = 0.47090871562141395\n",
      "Objective function value = 0.47074384756137716\n"
     ]
    }
   ],
   "source": [
    "network_map = [\n",
    "    [1, 2],\n",
    "    [0, 2, 3],\n",
    "    [0, 1, 4],\n",
    "    [1, 4, 5, 6],\n",
    "    [2, 3],\n",
    "    [3, 6],\n",
    "    [3, 5]\n",
    "]\n",
    "\n",
    "\n",
    "simple_w, do_simple_avg_objvals = run_distributed_optimization(x_train, y_train, network_map=network_map, self_weight=1, lam=1e-6, alpha=1e-1, max_epoch=100)\n",
    "print('-------------------------')\n",
    "_, do_weighted_avg_objvals = run_distributed_optimization(x_train, y_train, network_map=network_map, self_weight=5, lam=1e-6, alpha=1e-1, max_epoch=100)"
   ],
   "metadata": {
    "collapsed": false,
    "pycharm": {
     "name": "#%%\n"
    }
   }
  },
  {
   "cell_type": "code",
   "execution_count": 92,
   "outputs": [
    {
     "data": {
      "text/plain": "<Figure size 432x288 with 1 Axes>",
      "image/png": "[encoded data removed]"
     },
     "metadata": {
      "needs_background": "light"
     },
     "output_type": "display_data"
    }
   ],
   "source": [
    "import matplotlib.pyplot as plt\n",
    "%matplotlib inline\n",
    "\n",
    "fig = plt.figure(figsize=(6, 4))\n",
    "\n",
    "epochs = range(len(do_simple_avg_objvals))\n",
    "\n",
    "line0, = plt.plot(epochs, do_simple_avg_objvals, '--b', linewidth=2)\n",
    "line1, = plt.plot(epochs, do_weighted_avg_objvals, '-r', linewidth=2)\n",
    "\n",
    "plt.xlabel('Epochs', fontsize=20)\n",
    "plt.ylabel('Objective Value', fontsize=20)\n",
    "plt.xticks(fontsize=16)\n",
    "plt.yticks(fontsize=16)\n",
    "plt.legend([line0, line1], ['Simple Averaging', 'Weighted Averaging W=5'], fontsize=16)\n",
    "plt.tight_layout()\n",
    "plt.show()"
   ],
   "metadata": {
    "collapsed": false,
    "pycharm": {
     "name": "#%%\n"
    }
   }
  },
  {
   "cell_type": "code",
   "execution_count": 93,
   "outputs": [
    {
     "name": "stdout",
     "output_type": "stream",
     "text": [
      "Training classification error is 0.22170542635658916\n"
     ]
    }
   ],
   "source": [
    "def predict(w, X):\n",
    "    xw = numpy.dot(X, w)\n",
    "    f = numpy.sign(xw)\n",
    "    return f\n",
    "\n",
    "# evaluate training error using SGD Q=8 params\n",
    "w = simple_w\n",
    "f_train = predict(w, x_train)\n",
    "diff = numpy.abs(f_train - y_train) / 2\n",
    "error_train = numpy.mean(diff)\n",
    "print('Training classification error is ' + str(error_train))"
   ],
   "metadata": {
    "collapsed": false,
    "pycharm": {
     "name": "#%%\n"
    }
   }
  },
  {
   "cell_type": "code",
   "execution_count": 94,
   "outputs": [
    {
     "name": "stdout",
     "output_type": "stream",
     "text": [
      "Test classification error is 0.22764227642276422\n"
     ]
    }
   ],
   "source": [
    "# evaluate test error\n",
    "f_test = predict(w, x_test)\n",
    "diff = numpy.abs(f_test - y_test) / 2\n",
    "error_test = numpy.mean(diff)\n",
    "print('Test classification error is ' + str(error_test))"
   ],
   "metadata": {
    "collapsed": false,
    "pycharm": {
     "name": "#%%\n"
    }
   }
  }
 ],
 "metadata": {
  "kernelspec": {
   "name": "pycharm-d16f93cb",
   "language": "python",
   "display_name": "PyCharm (my_project)"
  },
  "language_info": {
   "codemirror_mode": {
    "name": "ipython",
    "version": 3
   },
   "file_extension": ".py",
   "mimetype": "text/x-python",
   "name": "python",
   "nbconvert_exporter": "python",
   "pygments_lexer": "ipython3",
   "version": "3.6.4"
  }
 },
 "nbformat": 4,
 "nbformat_minor": 2
}