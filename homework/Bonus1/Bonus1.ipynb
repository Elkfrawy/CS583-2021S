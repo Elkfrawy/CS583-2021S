{
 "cells": [
  {
   "cell_type": "markdown",
   "metadata": {},
   "source": [
    "# Bonus1: Parallel Algorithms\n",
    "\n",
    "### Name: Ayman Elkfrawy\n"
   ]
  },
  {
   "cell_type": "markdown",
   "metadata": {},
   "source": [
    "## 0. You will do the following:\n",
    "\n",
    "1. Read the lecture note: [click here](https://github.com/wangshusen/DeepLearning/blob/master/LectureNotes/Parallel/Parallel.pdf)\n",
    "\n",
    "2. Implement federated averaging or decentralized optimization.\n",
    "\n",
    "3. Plot the convergence curve. (The x-axis can be ```number of epochs``` or ```number of communication```. You must make sure the label is correct.)\n",
    "\n",
    "4. Convert the .IPYNB file to .HTML file.\n",
    "\n",
    "    * The HTML file must contain **the code** and **the output after execution**.\n",
    "    \n",
    "5. Upload this .HTML file to your Google Drive, Dropbox, or your Github repo. (If it is submitted to Google Drive or Dropbox, you must make the file open-access.)\n",
    "\n",
    "6. Submit the link to this .HTML file to Canvas.\n",
    "\n",
    "    * Example: https://github.com/wangshusen/CS583-2020S/blob/master/homework/Bonus1/Bonus1.html\n",
    "\n"
   ]
  },
  {
   "cell_type": "code",
   "execution_count": 63,
   "metadata": {},
   "outputs": [],
   "source": []
  },
  {
   "cell_type": "markdown",
   "metadata": {},
   "source": [
    "# 1. Data processing\n",
    "\n",
    "- Download the Diabete dataset from https://www.csie.ntu.edu.tw/~cjlin/libsvmtools/datasets/binary/diabetes\n",
    "- Load the data using sklearn.\n",
    "- Preprocess the data."
   ]
  },
  {
   "cell_type": "markdown",
   "metadata": {},
   "source": [
    "## 1.1. Load the data"
   ]
  },
  {
   "cell_type": "code",
   "execution_count": 64,
   "metadata": {},
   "outputs": [
    {
     "name": "stdout",
     "output_type": "stream",
     "text": [
      "Shape of x: (768, 8)\n",
      "Shape of y: (768,)\n"
     ]
    }
   ],
   "source": [
    "from sklearn import datasets\n",
    "import numpy\n",
    "\n",
    "x_sparse, y = datasets.load_svmlight_file('diabetes')\n",
    "x = x_sparse.todense()\n",
    "\n",
    "print('Shape of x: ' + str(x.shape))\n",
    "print('Shape of y: ' + str(y.shape))"
   ]
  },
  {
   "cell_type": "markdown",
   "metadata": {},
   "source": [
    "## 1.2. Partition to training and test sets"
   ]
  },
  {
   "cell_type": "code",
   "execution_count": 65,
   "metadata": {},
   "outputs": [
    {
     "name": "stdout",
     "output_type": "stream",
     "text": [
      "Shape of x_train: (645, 8)\n",
      "Shape of x_test: (123, 8)\n",
      "Shape of y_train: (645, 1)\n",
      "Shape of y_test: (123, 1)\n"
     ]
    }
   ],
   "source": [
    "from sklearn.model_selection import train_test_split\n",
    "\n",
    "split_random_state = 376\n",
    "\n",
    "y = y.reshape(len(y), 1)\n",
    "\n",
    "x_train, x_test, y_train, y_test = train_test_split(x, y, test_size=0.16)\n",
    "\n",
    "print('Shape of x_train: ' + str(x_train.shape))\n",
    "print('Shape of x_test: ' + str(x_test.shape))\n",
    "print('Shape of y_train: ' + str(y_train.shape))\n",
    "print('Shape of y_test: ' + str(y_test.shape))"
   ]
  },
  {
   "cell_type": "markdown",
   "metadata": {},
   "source": [
    "## 1.3. Feature scaling"
   ]
  },
  {
   "cell_type": "markdown",
   "metadata": {},
   "source": [
    "Use the standardization to trainsform both training and test features"
   ]
  },
  {
   "cell_type": "code",
   "execution_count": 66,
   "metadata": {},
   "outputs": [
    {
     "name": "stdout",
     "output_type": "stream",
     "text": [
      "test mean = \n",
      "[[-0.27864308  0.03758729 -0.02998267  0.10722333  0.106165    0.01002021\n",
      "  -0.00890055 -0.11505426]]\n",
      "test std = \n",
      "[[0.82651628 1.14970787 0.99312144 1.01496174 1.11771912 1.17845981\n",
      "  0.81919962 0.99679393]]\n"
     ]
    }
   ],
   "source": [
    "# Standardization\n",
    "import numpy\n",
    "\n",
    "# calculate mu and sig using the training set\n",
    "d = x_train.shape[1]\n",
    "mu = numpy.mean(x_train, axis=0).reshape(1, d)\n",
    "sig = numpy.std(x_train, axis=0).reshape(1, d)\n",
    "\n",
    "# transform the training features\n",
    "x_train = (x_train - mu) / (sig + 1E-6)\n",
    "\n",
    "# transform the test features\n",
    "x_test = (x_test - mu) / (sig + 1E-6)\n",
    "\n",
    "print('test mean = ')\n",
    "print(numpy.mean(x_test, axis=0))\n",
    "\n",
    "print('test std = ')\n",
    "print(numpy.std(x_test, axis=0))"
   ]
  },
  {
   "cell_type": "markdown",
   "metadata": {},
   "source": [
    "## 1.4. Add a dimension of all ones"
   ]
  },
  {
   "cell_type": "code",
   "execution_count": 67,
   "metadata": {},
   "outputs": [
    {
     "name": "stdout",
     "output_type": "stream",
     "text": [
      "Shape of x_train: (645, 9)\n",
      "Shape of x_test: (123, 9)\n"
     ]
    }
   ],
   "source": [
    "n_train, d = x_train.shape\n",
    "x_train = numpy.concatenate((x_train, numpy.ones((n_train, 1))), axis=1)\n",
    "\n",
    "n_test, d = x_test.shape\n",
    "x_test = numpy.concatenate((x_test, numpy.ones((n_test, 1))), axis=1)\n",
    "\n",
    "print('Shape of x_train: ' + str(x_train.shape))\n",
    "print('Shape of x_test: ' + str(x_test.shape))"
   ]
  },
  {
   "cell_type": "code",
   "execution_count": 68,
   "metadata": {
    "pycharm": {
     "name": "#%%\n"
    }
   },
   "outputs": [],
   "source": [
    "import math\n",
    "\n",
    "VERBOSE = False\n",
    "\n",
    "class Worker:\n",
    "    def __init__(self, worker_id, x, y):\n",
    "        self.x = x\n",
    "        self.y = y\n",
    "        self.n_samples = x.shape[0]\n",
    "        self.d_features = x.shape[1]\n",
    "        self.w = numpy.zeros((d, 1))\n",
    "        self.worker_id = worker_id\n",
    "        self.log('Created')\n",
    "        self.last_index = 0\n",
    "        self.epoch_objs = []\n",
    "        self.sgd_obj_acc = 0  # accumulated SGD objective value\n",
    "\n",
    "    def log(self, message):\n",
    "        if VERBOSE:\n",
    "            print(f'Worker ({self.worker_id}): {message}')\n",
    "\n",
    "    def set_params(self, w):\n",
    "        self.log('Received Updated Params')\n",
    "        self.w = w\n",
    "\n",
    "    def sgd_grad_objective(self, lam):\n",
    "        self.log('Calculating SGD grad/loss')\n",
    "        if self.last_index >= self.n_samples:  # one epoch is done\n",
    "            # Shuffle the samples\n",
    "            rand_indices = numpy.random.permutation(self.n_samples)\n",
    "            self.x = self.x[rand_indices, :]\n",
    "            self.y = self.y[rand_indices, :]\n",
    "            self.epoch_objs.append(self.sgd_obj_acc / self.n_samples)  # add per epoch obj value\n",
    "            self.sgd_obj_acc = 0\n",
    "            self.last_index = 0\n",
    "\n",
    "        xi = self.x[self.last_index, :]\n",
    "        yi = float(self.y[self.last_index, :])\n",
    "        self.last_index += 1\n",
    "\n",
    "        yx = yi * xi\n",
    "        yxw = float(numpy.dot(yx, self.w))\n",
    "\n",
    "        loss = numpy.log(1 + numpy.exp(-yxw))\n",
    "        obj = loss + lam / 2 * numpy.sum(self.w * self.w)\n",
    "        self.sgd_obj_acc += obj\n",
    "\n",
    "        g = -yx.T / (1 + numpy.exp(yxw)) + lam * self.w\n",
    "\n",
    "        return g, obj\n",
    "\n",
    "    def gd_grad_objective(self, lam):\n",
    "        self.log('Calculating GD grad/loss')\n",
    "        yx = numpy.multiply(self.y, self.x)\n",
    "        yxw = numpy.dot(yx, self.w)\n",
    "        loss = numpy.mean(numpy.log(1 + numpy.exp(-yxw)))\n",
    "        obj = loss + lam / 2 * numpy.sum(self.w * self.w)\n",
    "        self.epoch_objs.append(obj)  # add per epoch obj value\n",
    "\n",
    "        g_vec = numpy.divide(yx, 1 + numpy.exp(yxw))\n",
    "        grad = -numpy.mean(g_vec, axis=0).reshape(self.d_features, 1) + lam * self.w\n",
    "        return grad, obj\n",
    "\n",
    "    def fed_avg(self, n_local_grads, algorithm, learn_rate, lam):\n",
    "        self.log('Performing FedAvg')\n",
    "        objval = 0\n",
    "        for iteration in range(n_local_grads):\n",
    "            if algorithm == 'sgd':\n",
    "                g, obj = self.sgd_grad_objective(lam)\n",
    "            else:\n",
    "                g, obj = self.gd_grad_objective(lam)\n",
    "            self.w -= learn_rate * g\n",
    "            objval += obj\n",
    "\n",
    "        objval /= n_local_grads\n",
    "        return self.w, objval\n",
    "\n",
    "\n",
    "class Server:\n",
    "    def __init__(self, m, n, d):\n",
    "        self.m_workers = m\n",
    "        self.n_samples = n\n",
    "        self.d_features = d\n",
    "        self.w = numpy.zeros((d, 1))\n",
    "        self.obj = 0\n",
    "        self.log('Created')\n",
    "\n",
    "    def log(self, message):\n",
    "        if VERBOSE:\n",
    "            print(f'Server: {message}')\n",
    "\n",
    "    def broadcast(self):\n",
    "        self.log('Broadcasting')\n",
    "        return self.w\n",
    "\n",
    "    def aggregate(self, params, objvals):\n",
    "        self.log('Aggregating')\n",
    "        self.w = numpy.zeros((self.d_features, 1))\n",
    "        self.obj = 0\n",
    "        for worker in range(self.m_workers):\n",
    "            self.w += params[worker]\n",
    "            self.obj += objvals[worker]\n",
    "\n",
    "        # Average results\n",
    "        self.w /= self.m_workers\n",
    "        self.obj /= self.m_workers\n",
    "\n",
    "\n",
    "def create_server_workers(m_workers, x, y):\n",
    "    n_samples, d_features = x.shape\n",
    "    s = math.floor(n_samples / m_workers)\n",
    "    server = Server(m_workers, n_samples, d_features)\n",
    "    workers = []\n",
    "\n",
    "    for i in range(m_workers):\n",
    "        indices = list(range(i*s, (i+1) * s))\n",
    "        worker = Worker('worker'+str(i), x[indices, :], y[indices, :])\n",
    "        workers.append(worker)\n",
    "\n",
    "    return server, workers"
   ]
  },
  {
   "cell_type": "code",
   "execution_count": 69,
   "outputs": [
    {
     "name": "stdout",
     "output_type": "stream",
     "text": [
      "Objective function value = 0.6751081205911709\n",
      "Objective function value = 0.6348391633418111\n",
      "Objective function value = 0.6056000297849438\n",
      "Objective function value = 0.5838070309712494\n",
      "Objective function value = 0.5671373789394729\n",
      "Objective function value = 0.5540836983613195\n",
      "Objective function value = 0.543650219585911\n",
      "Objective function value = 0.5351632771130821\n",
      "Objective function value = 0.5281555433526319\n",
      "Objective function value = 0.5222948578792821\n",
      "Objective function value = 0.5173397115710356\n",
      "Objective function value = 0.5131108054301742\n",
      "Objective function value = 0.5094724728676128\n",
      "Objective function value = 0.5063202787943275\n",
      "Objective function value = 0.5035725689721365\n",
      "Objective function value = 0.5011645981698157\n",
      "Objective function value = 0.49904437521072315\n",
      "Objective function value = 0.49716967248177035\n",
      "Objective function value = 0.49550583911968427\n",
      "Objective function value = 0.4940241780270924\n",
      "Objective function value = 0.4927007245775833\n",
      "Objective function value = 0.491515315660208\n",
      "Objective function value = 0.49045087145283073\n",
      "Objective function value = 0.48949283506867747\n",
      "Objective function value = 0.4886287307887317\n",
      "Objective function value = 0.48784781238897423\n",
      "Objective function value = 0.4871407806548414\n",
      "Objective function value = 0.48649955456678406\n",
      "Objective function value = 0.48591708451834703\n",
      "Objective function value = 0.4853871987476249\n",
      "Objective function value = 0.4849044762345655\n",
      "Objective function value = 0.48446414085402645\n",
      "Objective function value = 0.48406197272643864\n",
      "Objective function value = 0.4836942335789768\n",
      "Objective function value = 0.4833576035945761\n",
      "Objective function value = 0.4830491277372215\n",
      "Objective function value = 0.48276616993824106\n",
      "Objective function value = 0.4825063738379807\n",
      "Objective function value = 0.48226762902095355\n",
      "Objective function value = 0.4820480418757198\n",
      "Objective function value = 0.4818459103648531\n",
      "Objective function value = 0.4816597021140778\n",
      "Objective function value = 0.4814880353295823\n",
      "Objective function value = 0.4813296621336736\n",
      "Objective function value = 0.4811834539752135\n",
      "Objective function value = 0.4810483888256625\n",
      "Objective function value = 0.48092353991641584\n",
      "Objective function value = 0.4808080658102661\n",
      "Objective function value = 0.48070120163073726\n",
      "Objective function value = 0.4806022512988563\n",
      "-------------------------\n",
      "Objective function value = 0.5869658458095804\n",
      "Objective function value = 0.5119992072390431\n",
      "Objective function value = 0.4932478482924061\n",
      "Objective function value = 0.48601384588007024\n",
      "Objective function value = 0.48273740747340477\n",
      "Objective function value = 0.4811212908511981\n",
      "Objective function value = 0.48028009111359843\n",
      "-------------------------\n",
      "Objective function value = 0.5274586363471891\n",
      "Objective function value = 0.5320823460850717\n",
      "Objective function value = 0.5295452067498242\n",
      "Objective function value = 0.5117377600478895\n",
      "Objective function value = 0.5246676086461697\n",
      "Objective function value = 0.5097497046748608\n",
      "Objective function value = 0.5054364435013021\n",
      "Objective function value = 0.5047114842729777\n",
      "Objective function value = 0.4976192143651187\n",
      "Objective function value = 0.5095009750215429\n",
      "Objective function value = 0.49576122350605284\n",
      "Objective function value = 0.497884060540972\n",
      "Objective function value = 0.49230229328536823\n",
      "Objective function value = 0.5065237153791322\n",
      "Objective function value = 0.4729135291654071\n",
      "Objective function value = 0.5071730562665799\n",
      "Objective function value = 0.4823451516079191\n",
      "Objective function value = 0.4926144029821113\n",
      "Objective function value = 0.47752011824067053\n",
      "Objective function value = 0.5035261378163657\n",
      "Objective function value = 0.48210754732069655\n",
      "Objective function value = 0.49436367288692057\n",
      "Objective function value = 0.4640785633189836\n",
      "Objective function value = 0.5008331614970402\n",
      "Objective function value = 0.4657142662073733\n",
      "Objective function value = 0.517760355994224\n",
      "Objective function value = 0.4687258173250918\n",
      "Objective function value = 0.48265782465746887\n",
      "Objective function value = 0.48387257432177083\n",
      "Objective function value = 0.48087321340179057\n",
      "Objective function value = 0.49107734509884937\n",
      "Objective function value = 0.4630438340172601\n",
      "Objective function value = 0.48153943545153843\n",
      "Objective function value = 0.4862466902028828\n",
      "Objective function value = 0.4956091891582877\n",
      "Objective function value = 0.44954971478502764\n",
      "Objective function value = 0.48984878235730267\n",
      "Objective function value = 0.4855388751170112\n",
      "Objective function value = 0.4895292692076568\n",
      "Objective function value = 0.47048960094068953\n",
      "Objective function value = 0.4843717629595075\n",
      "Objective function value = 0.47050990603991777\n",
      "Objective function value = 0.48249367254099607\n",
      "Objective function value = 0.48879407249288687\n",
      "Objective function value = 0.4695839404311515\n",
      "Objective function value = 0.49879437215817823\n",
      "Objective function value = 0.48510273297891265\n",
      "Objective function value = 0.4647750371806128\n",
      "Objective function value = 0.4849783231702463\n",
      "Objective function value = 0.44685326932673536\n",
      "-------------------------\n",
      "Objective function value = 0.5318071303376785\n",
      "Objective function value = 0.5283010541373991\n",
      "Objective function value = 0.5330227108809027\n",
      "Objective function value = 0.5087221371711137\n",
      "Objective function value = 0.509206946272782\n",
      "Objective function value = 0.5081230668509049\n",
      "Objective function value = 0.5053001811282584\n",
      "Objective function value = 0.5165341581690245\n",
      "Objective function value = 0.4951811882858285\n",
      "Objective function value = 0.5062632699379149\n",
      "Objective function value = 0.5148805682504846\n",
      "Objective function value = 0.4802510412715006\n",
      "Objective function value = 0.4824024763982795\n",
      "Objective function value = 0.52242537946219\n",
      "Objective function value = 0.47570128215853175\n",
      "Objective function value = 0.5061556346375611\n",
      "Objective function value = 0.4871984594610224\n",
      "Objective function value = 0.5013150313045841\n",
      "Objective function value = 0.46855902799960925\n",
      "Objective function value = 0.49322566072671364\n",
      "Objective function value = 0.49717380931617017\n",
      "Objective function value = 0.4736261077221973\n",
      "Objective function value = 0.48957423212232054\n",
      "Objective function value = 0.4781817488050239\n",
      "Objective function value = 0.4876596132012749\n",
      "Objective function value = 0.48351472964005043\n",
      "Objective function value = 0.4820820861913262\n",
      "Objective function value = 0.4866418032532507\n",
      "Objective function value = 0.49771672919409243\n",
      "Objective function value = 0.46564028333048296\n",
      "Objective function value = 0.4996772800345244\n",
      "Objective function value = 0.4626901491739585\n",
      "Objective function value = 0.4960838727586923\n",
      "Objective function value = 0.48459834183544426\n",
      "Objective function value = 0.4699408760473875\n",
      "Objective function value = 0.48751903178426853\n",
      "Objective function value = 0.48424831541404306\n",
      "Objective function value = 0.47976762167589004\n",
      "Objective function value = 0.48176505476809484\n",
      "Objective function value = 0.47028625053332884\n",
      "Objective function value = 0.47176109564489466\n",
      "Objective function value = 0.4779412721882079\n",
      "Objective function value = 0.49640966162657596\n",
      "Objective function value = 0.47697558552025604\n",
      "Objective function value = 0.47527185404338956\n",
      "Objective function value = 0.4804943812416613\n",
      "Objective function value = 0.4821006063242712\n",
      "Objective function value = 0.47714229707411804\n",
      "Objective function value = 0.4880618359026727\n",
      "Objective function value = 0.4682969923457958\n"
     ]
    }
   ],
   "source": [
    "def run_fed_avg(x_train, y_train, q=8, algorithm='gd', m_workers=4, lam=1e-6, alpha=1e-1, max_epoch=50):\n",
    "    server, workers = create_server_workers(m_workers, x_train, y_train)\n",
    "\n",
    "    iterations_per_epoch = 1\n",
    "    if algorithm == 'sgd':  # Iterate more for SGD to achieve target epochs\n",
    "        iterations_per_epoch = math.ceil(x_train.shape[0] / (q * m_workers))\n",
    "\n",
    "    adjusted_epoch = max_epoch\n",
    "    if algorithm == 'gd':  # Adjust max_epochs in case GD with q > 1\n",
    "        adjusted_epoch = math.ceil(max_epoch / q)\n",
    "\n",
    "    for epoch in range(adjusted_epoch):\n",
    "        objval = 0\n",
    "        for iteration in range(iterations_per_epoch):\n",
    "            w = server.broadcast()\n",
    "            for i in range(m_workers):\n",
    "                workers[i].set_params(w)\n",
    "\n",
    "            params = []\n",
    "            objs = []\n",
    "\n",
    "            for worker in workers:\n",
    "                w_i, obj_i = worker.fed_avg(q, algorithm, alpha, lam)\n",
    "                params.append(w_i)\n",
    "                objs.append(obj_i)\n",
    "\n",
    "            server.aggregate(params, objs)\n",
    "            objval += server.obj\n",
    "\n",
    "        if algorithm == 'sgd':\n",
    "            alpha *= 0.9\n",
    "\n",
    "        objval = objval / iterations_per_epoch\n",
    "        print('Objective function value = ' + str(objval))\n",
    "\n",
    "    objvals = numpy.zeros(max_epoch)\n",
    "    for worker in workers:\n",
    "        objvals += worker.epoch_objs[: max_epoch]\n",
    "    objvals /= m_workers\n",
    "\n",
    "    return server.w, objvals\n",
    "\n",
    "\n",
    "_, gd_1q_objvals = run_fed_avg(x_train, y_train, q=1, algorithm='gd', m_workers=4, lam=1e-6, alpha=1e-1, max_epoch=50)\n",
    "print('-------------------------')\n",
    "_, gd_8q_objvals = run_fed_avg(x_train, y_train, q=8, algorithm='gd', m_workers=4, lam=1e-6, alpha=1e-1, max_epoch=50)\n",
    "print('-------------------------')\n",
    "_, sgd_1q_objvals = run_fed_avg(x_train, y_train, q=1, algorithm='sgd', m_workers=4, lam=1e-6, alpha=1e-1, max_epoch=50)\n",
    "print('-------------------------')\n",
    "w_sgd8, sgd_8q_objvals = run_fed_avg(x_train, y_train, q=8, algorithm='sgd', m_workers=4, lam=1e-6, alpha=1e-1, max_epoch=50)"
   ],
   "metadata": {
    "collapsed": false,
    "pycharm": {
     "name": "#%%\n"
    }
   }
  },
  {
   "cell_type": "code",
   "execution_count": 70,
   "outputs": [
    {
     "data": {
      "text/plain": "<Figure size 432x288 with 1 Axes>",
      "image/png": "[encoded data removed]"
     },
     "metadata": {
      "needs_background": "light"
     },
     "output_type": "display_data"
    }
   ],
   "source": [
    "import matplotlib.pyplot as plt\n",
    "%matplotlib inline\n",
    "\n",
    "fig = plt.figure(figsize=(6, 4))\n",
    "\n",
    "epochs = range(len(gd_1q_objvals))\n",
    "\n",
    "line0, = plt.plot(epochs, gd_1q_objvals, '--b', linewidth=4)\n",
    "line1, = plt.plot(epochs, gd_8q_objvals, '-r', linewidth=2)\n",
    "line2, = plt.plot(epochs, sgd_1q_objvals, '--g', linewidth=1)\n",
    "line3, = plt.plot(epochs, sgd_8q_objvals, '-m', linewidth=2)\n",
    "\n",
    "plt.xlabel('Epochs', fontsize=20)\n",
    "plt.ylabel('Objective Value', fontsize=20)\n",
    "plt.xticks(fontsize=16)\n",
    "plt.yticks(fontsize=16)\n",
    "plt.legend([line0, line1, line2, line3], ['GD Q=1', 'GD Q=8', 'SGD Q=1', 'SGD Q=8'], fontsize=20)\n",
    "plt.tight_layout()\n",
    "plt.show()"
   ],
   "metadata": {
    "collapsed": false,
    "pycharm": {
     "name": "#%%\n"
    }
   }
  },
  {
   "cell_type": "code",
   "execution_count": 71,
   "outputs": [
    {
     "name": "stdout",
     "output_type": "stream",
     "text": [
      "Training classification error is 0.22790697674418606\n"
     ]
    }
   ],
   "source": [
    "def predict(w, X):\n",
    "    xw = numpy.dot(X, w)\n",
    "    f = numpy.sign(xw)\n",
    "    return f\n",
    "\n",
    "# evaluate training error using SGD Q=8 params\n",
    "w = w_sgd8\n",
    "f_train = predict(w, x_train)\n",
    "diff = numpy.abs(f_train - y_train) / 2\n",
    "error_train = numpy.mean(diff)\n",
    "print('Training classification error is ' + str(error_train))"
   ],
   "metadata": {
    "collapsed": false,
    "pycharm": {
     "name": "#%%\n"
    }
   }
  },
  {
   "cell_type": "code",
   "execution_count": 72,
   "outputs": [
    {
     "name": "stdout",
     "output_type": "stream",
     "text": [
      "Test classification error is 0.21138211382113822\n"
     ]
    }
   ],
   "source": [
    "# evaluate test error\n",
    "f_test = predict(w, x_test)\n",
    "diff = numpy.abs(f_test - y_test) / 2\n",
    "error_test = numpy.mean(diff)\n",
    "print('Test classification error is ' + str(error_test))"
   ],
   "metadata": {
    "collapsed": false,
    "pycharm": {
     "name": "#%%\n"
    }
   }
  }
 ],
 "metadata": {
  "kernelspec": {
   "name": "pycharm-d16f93cb",
   "language": "python",
   "display_name": "PyCharm (my_project)"
  },
  "language_info": {
   "codemirror_mode": {
    "name": "ipython",
    "version": 3
   },
   "file_extension": ".py",
   "mimetype": "text/x-python",
   "name": "python",
   "nbconvert_exporter": "python",
   "pygments_lexer": "ipython3",
   "version": "3.6.4"
  }
 },
 "nbformat": 4,
 "nbformat_minor": 2
}