{
 "cells": [
  {
   "cell_type": "markdown",
   "metadata": {},
   "source": [
    "# Bonus1: Parallel Algorithms\n",
    "\n",
    "### Name: Ayman Elkfrawy\n"
   ]
  },
  {
   "cell_type": "markdown",
   "metadata": {},
   "source": [
    "## 0. You will do the following:\n",
    "\n",
    "1. Read the lecture note: [click here](https://github.com/wangshusen/DeepLearning/blob/master/LectureNotes/Parallel/Parallel.pdf)\n",
    "\n",
    "2. Implement federated averaging or decentralized optimization.\n",
    "\n",
    "3. Plot the convergence curve. (The x-axis can be ```number of epochs``` or ```number of communication```. You must make sure the label is correct.)\n",
    "\n",
    "4. Convert the .IPYNB file to .HTML file.\n",
    "\n",
    "    * The HTML file must contain **the code** and **the output after execution**.\n",
    "    \n",
    "5. Upload this .HTML file to your Google Drive, Dropbox, or your Github repo. (If it is submitted to Google Drive or Dropbox, you must make the file open-access.)\n",
    "\n",
    "6. Submit the link to this .HTML file to Canvas.\n",
    "\n",
    "    * Example: https://github.com/wangshusen/CS583-2020S/blob/master/homework/Bonus1/Bonus1.html\n",
    "\n"
   ]
  },
  {
   "cell_type": "code",
   "execution_count": 19,
   "metadata": {},
   "outputs": [],
   "source": []
  },
  {
   "cell_type": "markdown",
   "metadata": {},
   "source": [
    "# 1. Data processing\n",
    "\n",
    "- Download the Diabete dataset from https://www.csie.ntu.edu.tw/~cjlin/libsvmtools/datasets/binary/diabetes\n",
    "- Load the data using sklearn.\n",
    "- Preprocess the data."
   ]
  },
  {
   "cell_type": "markdown",
   "metadata": {},
   "source": [
    "## 1.1. Load the data"
   ]
  },
  {
   "cell_type": "code",
   "execution_count": 20,
   "metadata": {},
   "outputs": [
    {
     "name": "stdout",
     "output_type": "stream",
     "text": [
      "Shape of x: (768, 8)\n",
      "Shape of y: (768,)\n"
     ]
    }
   ],
   "source": [
    "from sklearn import datasets\n",
    "import numpy\n",
    "\n",
    "x_sparse, y = datasets.load_svmlight_file('diabetes')\n",
    "x = x_sparse.todense()\n",
    "\n",
    "print('Shape of x: ' + str(x.shape))\n",
    "print('Shape of y: ' + str(y.shape))"
   ]
  },
  {
   "cell_type": "markdown",
   "metadata": {},
   "source": [
    "## 1.2. Partition to training and test sets"
   ]
  },
  {
   "cell_type": "code",
   "execution_count": 21,
   "metadata": {},
   "outputs": [
    {
     "name": "stdout",
     "output_type": "stream",
     "text": [
      "Shape of x_train: (645, 8)\n",
      "Shape of x_test: (123, 8)\n",
      "Shape of y_train: (645, 1)\n",
      "Shape of y_test: (123, 1)\n"
     ]
    }
   ],
   "source": [
    "from sklearn.model_selection import train_test_split\n",
    "\n",
    "split_random_state = 376\n",
    "\n",
    "y = y.reshape(len(y), 1)\n",
    "\n",
    "x_train, x_test, y_train, y_test = train_test_split(x, y, test_size=0.16)\n",
    "\n",
    "print('Shape of x_train: ' + str(x_train.shape))\n",
    "print('Shape of x_test: ' + str(x_test.shape))\n",
    "print('Shape of y_train: ' + str(y_train.shape))\n",
    "print('Shape of y_test: ' + str(y_test.shape))"
   ]
  },
  {
   "cell_type": "markdown",
   "metadata": {},
   "source": [
    "## 1.3. Feature scaling"
   ]
  },
  {
   "cell_type": "markdown",
   "metadata": {},
   "source": [
    "Use the standardization to trainsform both training and test features"
   ]
  },
  {
   "cell_type": "code",
   "execution_count": 22,
   "metadata": {},
   "outputs": [
    {
     "name": "stdout",
     "output_type": "stream",
     "text": [
      "test mean = \n",
      "[[-0.03153851  0.05243488  0.1889178   0.09972525  0.0240389   0.14461055\n",
      "  -0.00672664 -0.04443469]]\n",
      "test std = \n",
      "[[1.01623487 1.0023203  1.00929593 0.92622694 0.91771648 1.08975501\n",
      "  0.86730217 1.03555845]]\n"
     ]
    }
   ],
   "source": [
    "# Standardization\n",
    "import numpy\n",
    "\n",
    "# calculate mu and sig using the training set\n",
    "d = x_train.shape[1]\n",
    "mu = numpy.mean(x_train, axis=0).reshape(1, d)\n",
    "sig = numpy.std(x_train, axis=0).reshape(1, d)\n",
    "\n",
    "# transform the training features\n",
    "x_train = (x_train - mu) / (sig + 1E-6)\n",
    "\n",
    "# transform the test features\n",
    "x_test = (x_test - mu) / (sig + 1E-6)\n",
    "\n",
    "print('test mean = ')\n",
    "print(numpy.mean(x_test, axis=0))\n",
    "\n",
    "print('test std = ')\n",
    "print(numpy.std(x_test, axis=0))"
   ]
  },
  {
   "cell_type": "markdown",
   "metadata": {},
   "source": [
    "## 1.4. Add a dimension of all ones"
   ]
  },
  {
   "cell_type": "code",
   "execution_count": 23,
   "metadata": {},
   "outputs": [
    {
     "name": "stdout",
     "output_type": "stream",
     "text": [
      "Shape of x_train: (645, 9)\n",
      "Shape of x_test: (123, 9)\n"
     ]
    }
   ],
   "source": [
    "n_train, d = x_train.shape\n",
    "x_train = numpy.concatenate((x_train, numpy.ones((n_train, 1))), axis=1)\n",
    "\n",
    "n_test, d = x_test.shape\n",
    "x_test = numpy.concatenate((x_test, numpy.ones((n_test, 1))), axis=1)\n",
    "\n",
    "print('Shape of x_train: ' + str(x_train.shape))\n",
    "print('Shape of x_test: ' + str(x_test.shape))"
   ]
  },
  {
   "cell_type": "code",
   "execution_count": 24,
   "metadata": {
    "pycharm": {
     "name": "#%%\n"
    }
   },
   "outputs": [],
   "source": [
    "VERBOSE = False\n",
    "\n",
    "import math\n",
    "\n",
    "class Worker:\n",
    "    def __init__(self, worker_id, x, y):\n",
    "        self.x = x\n",
    "        self.y = y\n",
    "        self.n_samples = x.shape[0]\n",
    "        self.d_features = x.shape[1]\n",
    "        self.w = numpy.zeros((d, 1))\n",
    "        self.worker_id = worker_id\n",
    "        self.log('Created')\n",
    "\n",
    "    def log(self, message):\n",
    "        if VERBOSE:\n",
    "            print(f'Worker ({self.worker_id}): {message}')\n",
    "\n",
    "    def set_params(self, w):\n",
    "        self.log('Received Updated Params')\n",
    "        self.w = w\n",
    "\n",
    "    def gd_loss(self):\n",
    "        self.log('Calculating GD loss')\n",
    "        yx = numpy.multiply(self.y, self.x)\n",
    "        yxw = numpy.dot(yx, self.w)\n",
    "        loss = numpy.sum(numpy.log(1 + numpy.exp(-yxw)))\n",
    "        return loss\n",
    "\n",
    "    def sgd_loss(self):\n",
    "        self.log('Calculating SGD loss')\n",
    "        # yx = yi * xi # 1-by-d matrix\n",
    "        # yxw = float(numpy.dot(yx, w)) # scalar\n",
    "        #\n",
    "        # # calculate objective function Q_i\n",
    "        # loss = numpy.log(1 + numpy.exp(-yxw)) # scalar\n",
    "\n",
    "    def gd_gradient(self): # *******\n",
    "        self.log('Calculating GD gradient')\n",
    "        yx = numpy.multiply(self.y, self.x)\n",
    "        yxw = numpy.dot(yx, self.w)\n",
    "        g_vec = numpy.divide(yx, 1 + numpy.exp(yxw))\n",
    "        g = -numpy.sum(g_vec, axis=0).reshape(self.d_features, 1)\n",
    "        return g\n",
    "\n",
    "\n",
    "class Server:\n",
    "    def __init__(self, m, n, d):\n",
    "        self.m_workers = m\n",
    "        self.n_samples = n\n",
    "        self.d_features = d\n",
    "        self.w = numpy.zeros((d, 1))\n",
    "        self.g = numpy.zeros((d, 1))\n",
    "        self.v = numpy.zeros((d, 1))\n",
    "        self.loss = 0\n",
    "        self.obj = 0\n",
    "        self.log('Created')\n",
    "\n",
    "    def log(self, message):\n",
    "        if VERBOSE:\n",
    "            print(f'Server: {message}')\n",
    "\n",
    "    def broadcast(self):\n",
    "        self.log('Broadcasting')\n",
    "        return self.w\n",
    "\n",
    "    def aggregate(self, grads, losses):\n",
    "        self.log('Aggregating')\n",
    "        self.g = numpy.zeros((self.d_features, 1))\n",
    "        self.loss = 0\n",
    "        for worker in range(self.m_workers):\n",
    "            self.g += grads[worker]\n",
    "            self.loss += losses[worker]\n",
    "\n",
    "    def gradient(self, lam): # *****\n",
    "        self.log('Calculating gradient')\n",
    "        self.g = self.g / self.n_samples + lam * self.w\n",
    "\n",
    "    def objective(self, lam): # *******\n",
    "        self.log('Calculating objective fn')\n",
    "        reg = lam / 2 * numpy.sum(self.w * self.w)\n",
    "        self.obj = self.loss / self.n_samples + reg\n",
    "        return self.obj\n",
    "\n",
    "    def agd(self, alpha, beta):\n",
    "        self.log('Calculating AGD')\n",
    "        self.v *= beta\n",
    "        self.v += self.g\n",
    "        self.w -= alpha * self.v\n",
    "\n",
    "    def gd(self, stepsize):\n",
    "        self.log('Calculating GD')\n",
    "        self.w -= stepsize * self.g\n",
    "\n",
    "\n",
    "def create_server_workers(m_workers, x, y):\n",
    "    n_samples, d_features = x.shape\n",
    "    s = math.floor(n_samples / m_workers)\n",
    "    server = Server(m_workers, n_samples, d_features)\n",
    "    workers = []\n",
    "\n",
    "    for i in range(m_workers):\n",
    "        indices = list(range(i*s, (i+1) * s))\n",
    "        worker = Worker('worker'+str(i), x[indices, :], y[indices, :])\n",
    "        workers.append(worker)\n",
    "\n",
    "    return server, workers"
   ]
  },
  {
   "cell_type": "code",
   "execution_count": 25,
   "outputs": [
    {
     "name": "stdout",
     "output_type": "stream",
     "text": [
      "Objective function value = 0.6920725337683795\n",
      "Objective function value = 0.6791027027936841\n",
      "Objective function value = 0.6565195223912504\n",
      "Objective function value = 0.628624488846037\n",
      "Objective function value = 0.5995996040441474\n",
      "Objective function value = 0.5726561749355987\n",
      "Objective function value = 0.5496583775668435\n",
      "Objective function value = 0.5312399737099203\n",
      "Objective function value = 0.5171889007959767\n",
      "Objective function value = 0.5068529841061638\n",
      "Objective function value = 0.4994403416105239\n",
      "Objective function value = 0.4941959021639337\n",
      "Objective function value = 0.4904832049759473\n",
      "Objective function value = 0.4878077139794748\n",
      "Objective function value = 0.4858094527665584\n",
      "Objective function value = 0.48424236821356154\n",
      "Objective function value = 0.4829499778040401\n",
      "Objective function value = 0.4818419733723135\n",
      "Objective function value = 0.48087376072924476\n",
      "Objective function value = 0.48002956621632975\n",
      "Objective function value = 0.47930912955345717\n",
      "Objective function value = 0.47871775372328956\n",
      "Objective function value = 0.4782593893636446\n",
      "Objective function value = 0.47793238954396017\n",
      "Objective function value = 0.4777275383780534\n",
      "Objective function value = 0.4776279244526238\n",
      "Objective function value = 0.4776102034620435\n",
      "Objective function value = 0.47764678354648954\n",
      "Objective function value = 0.4777084794286452\n",
      "Objective function value = 0.4777672212316997\n",
      "Objective function value = 0.47779847023278416\n",
      "Objective function value = 0.4777830821070194\n",
      "Objective function value = 0.47770846018539886\n",
      "Objective function value = 0.4775689460686684\n",
      "Objective function value = 0.4773654910939821\n",
      "Objective function value = 0.47710472961775324\n",
      "Objective function value = 0.4767976270950906\n",
      "Objective function value = 0.4764578998514261\n",
      "Objective function value = 0.476100400602018\n",
      "Objective function value = 0.47573963873333674\n",
      "Objective function value = 0.47538856374545146\n",
      "Objective function value = 0.4750576915601663\n",
      "Objective function value = 0.4747546038659682\n",
      "Objective function value = 0.4744838063743344\n",
      "Objective function value = 0.4742468971036303\n",
      "Objective function value = 0.4740429728525222\n",
      "Objective function value = 0.47386919119365223\n",
      "Objective function value = 0.47372140535098145\n",
      "Objective function value = 0.4735947979143994\n",
      "Objective function value = 0.4734844537042409\n"
     ]
    }
   ],
   "source": [
    "m_workers = 4\n",
    "\n",
    "server, workers = create_server_workers(m_workers, x_train, y_train)\n",
    "\n",
    "lam =  1e-6\n",
    "alpha = 1e-1\n",
    "beta = 0.9\n",
    "max_epoch = 50\n",
    "objvals = numpy.zeros(max_epoch)\n",
    "\n",
    "for epoch in range(max_epoch):\n",
    "    w = server.broadcast()\n",
    "    for i in range(m_workers):\n",
    "        workers[i].set_params(w)\n",
    "\n",
    "    grads = []\n",
    "    losses = []\n",
    "\n",
    "    for i in range(m_workers):\n",
    "        g = workers[i].gd_gradient()\n",
    "        grads.append(g)\n",
    "        l = workers[i].gd_loss()\n",
    "        losses.append(l)\n",
    "\n",
    "    server.aggregate(grads, losses)\n",
    "\n",
    "    server.gradient(lam)\n",
    "    obj = server.objective(lam)\n",
    "    objvals[epoch] = obj\n",
    "    print('Objective function value = ' + str(obj))\n",
    "    server.agd(alpha, beta)\n",
    "    # server.gd(alpha)\n"
   ],
   "metadata": {
    "collapsed": false,
    "pycharm": {
     "name": "#%%\n"
    }
   }
  },
  {
   "cell_type": "code",
   "execution_count": 26,
   "outputs": [
    {
     "data": {
      "text/plain": "<Figure size 432x288 with 1 Axes>",
      "image/png": "[encoded data removed]"
     },
     "metadata": {
      "needs_background": "light"
     },
     "output_type": "display_data"
    }
   ],
   "source": [
    "import matplotlib.pyplot as plt\n",
    "%matplotlib inline\n",
    "\n",
    "fig = plt.figure(figsize=(6, 4))\n",
    "\n",
    "epochs_gd = range(len(objvals))\n",
    "# epochs_sgd = range(len(objvals_sgd))\n",
    "\n",
    "line0, = plt.plot(epochs_gd, objvals, '--b', linewidth=4)\n",
    "# line1, = plt.plot(epochs_sgd, objvals_sgd, '-r', linewidth=2)\n",
    "plt.xlabel('Epochs', fontsize=20)\n",
    "plt.ylabel('Objective Value', fontsize=20)\n",
    "plt.xticks(fontsize=16)\n",
    "plt.yticks(fontsize=16)\n",
    "# plt.legend([line0, line1], ['GD', 'SGD'], fontsize=20)\n",
    "plt.tight_layout()\n",
    "plt.show()\n",
    "\n",
    "\n"
   ],
   "metadata": {
    "collapsed": false,
    "pycharm": {
     "name": "#%%\n"
    }
   }
  },
  {
   "cell_type": "code",
   "execution_count": 27,
   "outputs": [
    {
     "name": "stdout",
     "output_type": "stream",
     "text": [
      "Training classification error is 0.21550387596899226\n"
     ]
    }
   ],
   "source": [
    "def predict(w, X):\n",
    "    xw = numpy.dot(X, w)\n",
    "    f = numpy.sign(xw)\n",
    "    return f\n",
    "\n",
    "# evaluate training error\n",
    "w = server.broadcast()\n",
    "f_train = predict(w, x_train)\n",
    "diff = numpy.abs(f_train - y_train) / 2\n",
    "error_train = numpy.mean(diff)\n",
    "print('Training classification error is ' + str(error_train))"
   ],
   "metadata": {
    "collapsed": false,
    "pycharm": {
     "name": "#%%\n"
    }
   }
  },
  {
   "cell_type": "code",
   "execution_count": 28,
   "outputs": [
    {
     "name": "stdout",
     "output_type": "stream",
     "text": [
      "Test classification error is 0.21138211382113822\n"
     ]
    }
   ],
   "source": [
    "# evaluate test error\n",
    "f_test = predict(w, x_test)\n",
    "diff = numpy.abs(f_test - y_test) / 2\n",
    "error_test = numpy.mean(diff)\n",
    "print('Test classification error is ' + str(error_test))"
   ],
   "metadata": {
    "collapsed": false,
    "pycharm": {
     "name": "#%%\n"
    }
   }
  }
 ],
 "metadata": {
  "kernelspec": {
   "name": "pycharm-d16f93cb",
   "language": "python",
   "display_name": "PyCharm (my_project)"
  },
  "language_info": {
   "codemirror_mode": {
    "name": "ipython",
    "version": 3
   },
   "file_extension": ".py",
   "mimetype": "text/x-python",
   "name": "python",
   "nbconvert_exporter": "python",
   "pygments_lexer": "ipython3",
   "version": "3.6.4"
  }
 },
 "nbformat": 4,
 "nbformat_minor": 2
}