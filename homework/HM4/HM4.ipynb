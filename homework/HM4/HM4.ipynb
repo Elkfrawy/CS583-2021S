{
 "cells": [
  {
   "cell_type": "markdown",
   "metadata": {},
   "source": [
    "# Home 4: Build a CNN for image recognition.\n",
    "\n",
    "### Name: Ayman Elkfrawy\n"
   ]
  },
  {
   "cell_type": "markdown",
   "metadata": {},
   "source": [
    "## 0. You will do the following:\n",
    "\n",
    "1. Read, complete, and run the code.\n",
    "\n",
    "2. **Make substantial improvements** to maximize the accurcy.\n",
    "    \n",
    "3. Convert the .IPYNB file to .HTML file.\n",
    "\n",
    "    * The HTML file must contain the code and the output after execution.\n",
    "    \n",
    "    * Missing **the output after execution** will not be graded.\n",
    "    \n",
    "4. Upload this .HTML file to your Google Drive, Dropbox, or Github repo. (If you submit the file to Google Drive or Dropbox, you must make the file \"open-access\". The delay caused by \"deny of access\" may result in late penalty.)\n",
    "\n",
    "4. Submit the link to this .HTML file to Canvas.\n",
    "\n",
    "    * Example: https://github.com/wangshusen/CS583-2020S/blob/master/homework/HM4/HM4.html\n",
    "\n",
    "\n",
    "## Requirements:\n",
    "\n",
    "1. You can use whatever CNN architecture, including VGG, Inception, and ResNet. However, you must build the networks layer by layer. You must NOT import the archetectures from ```keras.applications```.\n",
    "\n",
    "2. Make sure ```BatchNormalization``` is between a ```Conv```/```Dense``` layer and an ```activation``` layer.\n",
    "\n",
    "3. If you want to regularize a ```Conv```/```Dense``` layer, you should place a ```Dropout``` layer **before** the ```Conv```/```Dense``` layer.\n",
    "\n",
    "4. An accuracy above 70% is considered reasonable. An accuracy above 80% is considered good. Without data augmentation, achieving 80% accuracy is difficult.\n",
    "\n",
    "\n",
    "## Google Colab\n",
    "\n",
    "- If you do not have GPU, the training of a CNN can be slow. Google Colab is a good option.\n",
    "\n",
    "- Keep in mind that you must download it as an IPYNB file and then use IPython Notebook to convert it to HTML.\n",
    "\n",
    "- Also keep in mind that the IPYNB and HTML files must contain the outputs. (Otherwise, the instructor will not be able to know the correctness and performance.) Do the followings to keep the outputs.\n",
    "\n",
    "- In Colab, go to ```Runtime``` --> ```Change runtime type``` --> Do NOT check ```Omit code cell output when saving this notebook```. In this way, the downloaded IPYNB file contains the outputs."
   ]
  },
  {
   "cell_type": "markdown",
   "metadata": {},
   "source": [
    "## 1. Data preparation"
   ]
  },
  {
   "cell_type": "markdown",
   "metadata": {},
   "source": [
    "### 1.1. Load data\n"
   ]
  },
  {
   "cell_type": "code",
   "execution_count": 24,
   "metadata": {},
   "outputs": [
    {
     "name": "stdout",
     "output_type": "stream",
     "text": [
      "shape of x_train: (50000, 32, 32, 3)\n",
      "shape of y_train: (50000, 1)\n",
      "shape of x_test: (10000, 32, 32, 3)\n",
      "shape of y_test: (10000, 1)\n",
      "number of classes: 10\n"
     ]
    }
   ],
   "source": [
    "from keras.datasets import cifar10\n",
    "import numpy\n",
    "\n",
    "(x_train, y_train), (x_test, y_test) = cifar10.load_data()\n",
    "\n",
    "x_train = x_train.astype('float32')\n",
    "x_test = x_test.astype('float32')\n",
    "\n",
    "x_train = x_train / 255.0\n",
    "x_test = x_test / 255.0\n",
    "\n",
    "print('shape of x_train: ' + str(x_train.shape))\n",
    "print('shape of y_train: ' + str(y_train.shape))\n",
    "print('shape of x_test: ' + str(x_test.shape))\n",
    "print('shape of y_test: ' + str(y_test.shape))\n",
    "print('number of classes: ' + str(numpy.max(y_train) - numpy.min(y_train) + 1))"
   ]
  },
  {
   "cell_type": "markdown",
   "metadata": {},
   "source": [
    "### 1.2. One-hot encode the labels\n",
    "\n",
    "In the input, a label is a scalar in $\\{0, 1, \\cdots , 9\\}$. One-hot encode transform such a scalar to a $10$-dim vector. E.g., a scalar ```y_train[j]=3``` is transformed to the vector ```y_train_vec[j]=[0, 0, 0, 1, 0, 0, 0, 0, 0, 0]```.\n",
    "\n",
    "1. Define a function ```to_one_hot``` that transforms an $n\\times 1$ array to a $n\\times 10$ matrix.\n",
    "\n",
    "2. Apply the function to ```y_train``` and ```y_test```."
   ]
  },
  {
   "cell_type": "code",
   "execution_count": 25,
   "metadata": {},
   "outputs": [
    {
     "name": "stdout",
     "output_type": "stream",
     "text": [
      "Shape of y_train_vec: (50000, 10)\n",
      "Shape of y_test_vec: (10000, 10)\n",
      "[6]\n",
      "[0. 0. 0. 0. 0. 0. 1. 0. 0. 0.]\n"
     ]
    }
   ],
   "source": [
    "def to_one_hot(y, num_class=10):\n",
    "    result = numpy.zeros((len(y), num_class))\n",
    "    for i, y_value in enumerate(y):\n",
    "      result[i, y_value] = 1.0\n",
    "    return result\n",
    "\n",
    "y_train_vec = to_one_hot(y_train)\n",
    "y_test_vec = to_one_hot(y_test)\n",
    "\n",
    "print('Shape of y_train_vec: ' + str(y_train_vec.shape))\n",
    "print('Shape of y_test_vec: ' + str(y_test_vec.shape))\n",
    "\n",
    "print(y_train[0])\n",
    "print(y_train_vec[0])"
   ]
  },
  {
   "cell_type": "markdown",
   "metadata": {},
   "source": [
    "#### Remark: the outputs should be\n",
    "* Shape of y_train_vec: (50000, 10)\n",
    "* Shape of y_test_vec: (10000, 10)\n",
    "* [6]\n",
    "* [0. 0. 0. 0. 0. 0. 1. 0. 0. 0.]"
   ]
  },
  {
   "cell_type": "markdown",
   "metadata": {},
   "source": [
    "### 1.3. Randomly partition the training set to training and validation sets\n",
    "\n",
    "Randomly partition the 50K training samples to 2 sets:\n",
    "* a training set containing 40K samples\n",
    "* a validation set containing 10K samples\n"
   ]
  },
  {
   "cell_type": "code",
   "execution_count": 26,
   "metadata": {},
   "outputs": [
    {
     "name": "stdout",
     "output_type": "stream",
     "text": [
      "Shape of x_tr: (40000, 32, 32, 3)\n",
      "Shape of y_tr: (40000, 10)\n",
      "Shape of x_val: (10000, 32, 32, 3)\n",
      "Shape of y_val: (10000, 10)\n"
     ]
    }
   ],
   "source": [
    "rand_indices = numpy.random.permutation(50000)\n",
    "train_indices = rand_indices[0:40000]\n",
    "valid_indices = rand_indices[40000:50000]\n",
    "\n",
    "x_val = x_train[valid_indices, :]\n",
    "y_val = y_train_vec[valid_indices, :]\n",
    "\n",
    "x_tr = x_train[train_indices, :]\n",
    "y_tr = y_train_vec[train_indices, :]\n",
    "\n",
    "print('Shape of x_tr: ' + str(x_tr.shape))\n",
    "print('Shape of y_tr: ' + str(y_tr.shape))\n",
    "print('Shape of x_val: ' + str(x_val.shape))\n",
    "print('Shape of y_val: ' + str(y_val.shape))"
   ]
  },
  {
   "cell_type": "markdown",
   "metadata": {},
   "source": [
    "## 2. Build a CNN and tune its hyper-parameters\n",
    "\n",
    "1. Build a convolutional neural network model\n",
    "2. Use the validation data to tune the hyper-parameters (e.g., network structure, and optimization algorithm)\n",
    "    * Do NOT use test data for hyper-parameter tuning!!!\n",
    "3. Try to achieve a validation accuracy as high as possible."
   ]
  },
  {
   "cell_type": "markdown",
   "metadata": {},
   "source": [
    "### Remark: \n",
    "\n",
    "The following CNN is just an example. You are supposed to make **substantial improvements** such as:\n",
    "* Add more layers.\n",
    "* Use regularizations, e.g., dropout.\n",
    "* Use batch normalization."
   ]
  },
  {
   "cell_type": "code",
   "execution_count": 6,
   "outputs": [
    {
     "name": "stdout",
     "output_type": "stream",
     "text": [
      "Num GPUs Available:  1\n"
     ]
    }
   ],
   "source": [
    "import tensorflow as tf\n",
    "print(\"Num GPUs Available: \", len(tf.config.list_physical_devices('GPU')))\n"
   ],
   "metadata": {
    "collapsed": false,
    "pycharm": {
     "name": "#%%\n"
    }
   }
  },
  {
   "cell_type": "code",
   "execution_count": 27,
   "metadata": {},
   "outputs": [
    {
     "name": "stdout",
     "output_type": "stream",
     "text": [
      "Model: \"sequential_6\"\n",
      "_________________________________________________________________\n",
      "Layer (type)                 Output Shape              Param #   \n",
      "=================================================================\n",
      "conv2d_31 (Conv2D)           (None, 32, 32, 32)        896       \n",
      "_________________________________________________________________\n",
      "batch_normalization_36 (Batc (None, 32, 32, 32)        128       \n",
      "_________________________________________________________________\n",
      "activation_41 (Activation)   (None, 32, 32, 32)        0         \n",
      "_________________________________________________________________\n",
      "conv2d_32 (Conv2D)           (None, 32, 32, 32)        9248      \n",
      "_________________________________________________________________\n",
      "batch_normalization_37 (Batc (None, 32, 32, 32)        128       \n",
      "_________________________________________________________________\n",
      "activation_42 (Activation)   (None, 32, 32, 32)        0         \n",
      "_________________________________________________________________\n",
      "max_pooling2d_16 (MaxPooling (None, 16, 16, 32)        0         \n",
      "_________________________________________________________________\n",
      "conv2d_33 (Conv2D)           (None, 16, 16, 64)        18496     \n",
      "_________________________________________________________________\n",
      "batch_normalization_38 (Batc (None, 16, 16, 64)        256       \n",
      "_________________________________________________________________\n",
      "activation_43 (Activation)   (None, 16, 16, 64)        0         \n",
      "_________________________________________________________________\n",
      "conv2d_34 (Conv2D)           (None, 16, 16, 64)        36928     \n",
      "_________________________________________________________________\n",
      "batch_normalization_39 (Batc (None, 16, 16, 64)        256       \n",
      "_________________________________________________________________\n",
      "activation_44 (Activation)   (None, 16, 16, 64)        0         \n",
      "_________________________________________________________________\n",
      "max_pooling2d_17 (MaxPooling (None, 8, 8, 64)          0         \n",
      "_________________________________________________________________\n",
      "conv2d_35 (Conv2D)           (None, 8, 8, 128)         73856     \n",
      "_________________________________________________________________\n",
      "batch_normalization_40 (Batc (None, 8, 8, 128)         512       \n",
      "_________________________________________________________________\n",
      "activation_45 (Activation)   (None, 8, 8, 128)         0         \n",
      "_________________________________________________________________\n",
      "conv2d_36 (Conv2D)           (None, 8, 8, 128)         147584    \n",
      "_________________________________________________________________\n",
      "batch_normalization_41 (Batc (None, 8, 8, 128)         512       \n",
      "_________________________________________________________________\n",
      "activation_46 (Activation)   (None, 8, 8, 128)         0         \n",
      "_________________________________________________________________\n",
      "max_pooling2d_18 (MaxPooling (None, 4, 4, 128)         0         \n",
      "_________________________________________________________________\n",
      "flatten_6 (Flatten)          (None, 2048)              0         \n",
      "_________________________________________________________________\n",
      "dropout_6 (Dropout)          (None, 2048)              0         \n",
      "_________________________________________________________________\n",
      "dense_11 (Dense)             (None, 128)               262272    \n",
      "_________________________________________________________________\n",
      "batch_normalization_42 (Batc (None, 128)               512       \n",
      "_________________________________________________________________\n",
      "activation_47 (Activation)   (None, 128)               0         \n",
      "_________________________________________________________________\n",
      "dense_12 (Dense)             (None, 10)                1290      \n",
      "_________________________________________________________________\n",
      "activation_48 (Activation)   (None, 10)                0         \n",
      "=================================================================\n",
      "Total params: 552,874\n",
      "Trainable params: 551,722\n",
      "Non-trainable params: 1,152\n",
      "_________________________________________________________________\n"
     ]
    }
   ],
   "source": [
    "from keras.layers import Conv2D, MaxPooling2D, Flatten, Dense, Dropout, Activation, BatchNormalization\n",
    "from keras.models import Sequential\n",
    "from keras import optimizers\n",
    "\n",
    "def get_model():\n",
    "    model = Sequential()\n",
    "    model.add(Conv2D(32, (3, 3), padding='same', input_shape=(32, 32, 3)))\n",
    "    model.add(BatchNormalization())\n",
    "    model.add(Activation('relu'))\n",
    "    # model.add(MaxPooling2D((2, 2)))\n",
    "\n",
    "    model.add(Conv2D(32, (3, 3), padding='same', input_shape=(32, 32, 3)))\n",
    "    model.add(BatchNormalization())\n",
    "    model.add(Activation('relu'))\n",
    "    model.add(MaxPooling2D((2, 2)))\n",
    "\n",
    "    model.add(Conv2D(64, (3, 3), padding='same'))\n",
    "    model.add(BatchNormalization())\n",
    "    model.add(Activation('relu'))\n",
    "    # model.add(MaxPooling2D((2, 2)))\n",
    "\n",
    "    model.add(Conv2D(64, (3, 3), padding='same'))\n",
    "    model.add(BatchNormalization())\n",
    "    model.add(Activation('relu'))\n",
    "    model.add(MaxPooling2D((2, 2)))\n",
    "\n",
    "    model.add(Conv2D(128, (3, 3), padding='same'))\n",
    "    model.add(BatchNormalization())\n",
    "    model.add(Activation('relu'))\n",
    "    # model.add(MaxPooling2D((2, 2)))\n",
    "\n",
    "    model.add(Conv2D(128, (3, 3), padding='same'))\n",
    "    model.add(BatchNormalization())\n",
    "    model.add(Activation('relu'))\n",
    "    model.add(MaxPooling2D((2, 2)))\n",
    "\n",
    "    model.add(Flatten())\n",
    "\n",
    "    model.add(Dropout(0.4))\n",
    "    model.add(Dense(128))\n",
    "    model.add(BatchNormalization())\n",
    "    model.add(Activation('relu'))\n",
    "\n",
    "    model.add(Dense(10))\n",
    "    model.add(Activation('softmax'))\n",
    "\n",
    "    model.summary()\n",
    "\n",
    "    learning_rate = 1E-3 # to be tuned!\n",
    "\n",
    "    model.compile(loss='categorical_crossentropy',\n",
    "                  optimizer=optimizers.RMSprop(lr=learning_rate),\n",
    "                  metrics=['acc'])\n",
    "\n",
    "    return model\n",
    "\n",
    "model = get_model()"
   ]
  },
  {
   "cell_type": "code",
   "execution_count": 28,
   "metadata": {},
   "outputs": [
    {
     "name": "stdout",
     "output_type": "stream",
     "text": [
      "Epoch 1/50\n",
      " - 211s - loss: 1.4019 - acc: 0.4938 - val_loss: 1.3377 - val_acc: 0.5444\n",
      "Epoch 2/50\n",
      " - 66s - loss: 1.0131 - acc: 0.6398 - val_loss: 1.0755 - val_acc: 0.6442\n",
      "Epoch 3/50\n",
      " - 65s - loss: 0.8788 - acc: 0.6890 - val_loss: 1.0191 - val_acc: 0.6561\n",
      "Epoch 4/50\n",
      " - 54s - loss: 0.7995 - acc: 0.7210 - val_loss: 0.8971 - val_acc: 0.6965\n",
      "Epoch 5/50\n",
      " - 53s - loss: 0.7402 - acc: 0.7406 - val_loss: 0.9292 - val_acc: 0.7095\n",
      "Epoch 6/50\n",
      " - 52s - loss: 0.6927 - acc: 0.7582 - val_loss: 0.8710 - val_acc: 0.7223\n",
      "Epoch 7/50\n",
      " - 51s - loss: 0.6566 - acc: 0.7708 - val_loss: 0.6745 - val_acc: 0.7630\n",
      "Epoch 8/50\n",
      " - 53s - loss: 0.6254 - acc: 0.7836 - val_loss: 0.7168 - val_acc: 0.7562\n",
      "Epoch 9/50\n",
      " - 52s - loss: 0.6059 - acc: 0.7890 - val_loss: 0.8186 - val_acc: 0.7428\n",
      "Epoch 10/50\n",
      " - 52s - loss: 0.5816 - acc: 0.7995 - val_loss: 0.5779 - val_acc: 0.8013\n",
      "Epoch 11/50\n",
      " - 51s - loss: 0.5624 - acc: 0.8045 - val_loss: 0.6352 - val_acc: 0.7942\n",
      "Epoch 12/50\n",
      " - 101s - loss: 0.5435 - acc: 0.8114 - val_loss: 0.8079 - val_acc: 0.7338\n",
      "Epoch 13/50\n",
      " - 51s - loss: 0.5269 - acc: 0.8192 - val_loss: 0.6855 - val_acc: 0.7760\n",
      "Epoch 14/50\n",
      " - 51s - loss: 0.5185 - acc: 0.8218 - val_loss: 1.1620 - val_acc: 0.6784\n",
      "Epoch 15/50\n",
      " - 51s - loss: 0.5030 - acc: 0.8243 - val_loss: 0.7183 - val_acc: 0.7807\n",
      "Epoch 16/50\n",
      " - 52s - loss: 0.4918 - acc: 0.8314 - val_loss: 0.7303 - val_acc: 0.7694\n",
      "Epoch 17/50\n",
      " - 52s - loss: 0.4794 - acc: 0.8350 - val_loss: 0.5629 - val_acc: 0.8133\n",
      "Epoch 18/50\n",
      " - 53s - loss: 0.4687 - acc: 0.8403 - val_loss: 0.5867 - val_acc: 0.8086\n",
      "Epoch 19/50\n",
      " - 51s - loss: 0.4625 - acc: 0.8410 - val_loss: 0.5522 - val_acc: 0.8281\n",
      "Epoch 20/50\n",
      " - 60s - loss: 0.4470 - acc: 0.8469 - val_loss: 0.6198 - val_acc: 0.8125\n",
      "Epoch 21/50\n",
      " - 217s - loss: 0.4409 - acc: 0.8475 - val_loss: 0.7253 - val_acc: 0.7968\n",
      "Epoch 22/50\n",
      " - 64s - loss: 0.4402 - acc: 0.8483 - val_loss: 0.6011 - val_acc: 0.8210\n",
      "Epoch 23/50\n",
      " - 53s - loss: 0.4268 - acc: 0.8539 - val_loss: 0.5470 - val_acc: 0.8342\n",
      "Epoch 24/50\n",
      " - 51s - loss: 0.4213 - acc: 0.8565 - val_loss: 0.4716 - val_acc: 0.8457\n",
      "Epoch 25/50\n",
      " - 52s - loss: 0.4215 - acc: 0.8573 - val_loss: 0.4680 - val_acc: 0.8438\n",
      "Epoch 26/50\n",
      " - 52s - loss: 0.4074 - acc: 0.8611 - val_loss: 0.4982 - val_acc: 0.8339\n",
      "Epoch 27/50\n",
      " - 51s - loss: 0.4019 - acc: 0.8624 - val_loss: 0.6308 - val_acc: 0.8008\n",
      "Epoch 28/50\n",
      " - 52s - loss: 0.3967 - acc: 0.8659 - val_loss: 0.4986 - val_acc: 0.8408\n",
      "Epoch 29/50\n",
      " - 51s - loss: 0.3983 - acc: 0.8633 - val_loss: 0.5298 - val_acc: 0.8394\n",
      "Epoch 30/50\n",
      " - 51s - loss: 0.3907 - acc: 0.8651 - val_loss: 0.6923 - val_acc: 0.7888\n",
      "Epoch 31/50\n",
      " - 51s - loss: 0.3838 - acc: 0.8694 - val_loss: 0.5594 - val_acc: 0.8301\n",
      "Epoch 32/50\n",
      " - 52s - loss: 0.3874 - acc: 0.8683 - val_loss: 0.5125 - val_acc: 0.8425\n",
      "Epoch 33/50\n",
      " - 106s - loss: 0.3745 - acc: 0.8715 - val_loss: 0.6326 - val_acc: 0.8230\n",
      "Epoch 34/50\n",
      " - 50s - loss: 0.3713 - acc: 0.8717 - val_loss: 0.5622 - val_acc: 0.8212\n",
      "Epoch 35/50\n",
      " - 51s - loss: 0.3697 - acc: 0.8736 - val_loss: 0.5591 - val_acc: 0.8408\n",
      "Epoch 36/50\n",
      " - 51s - loss: 0.3703 - acc: 0.8750 - val_loss: 0.4243 - val_acc: 0.8634\n",
      "Epoch 37/50\n",
      " - 52s - loss: 0.3600 - acc: 0.8777 - val_loss: 0.6120 - val_acc: 0.8215\n",
      "Epoch 38/50\n",
      " - 51s - loss: 0.3549 - acc: 0.8783 - val_loss: 0.7026 - val_acc: 0.8085\n",
      "Epoch 39/50\n",
      " - 51s - loss: 0.3515 - acc: 0.8773 - val_loss: 0.5224 - val_acc: 0.8452\n",
      "Epoch 40/50\n",
      " - 54s - loss: 0.3511 - acc: 0.8800 - val_loss: 0.4959 - val_acc: 0.8518\n",
      "Epoch 41/50\n",
      " - 144s - loss: 0.3470 - acc: 0.8827 - val_loss: 0.6352 - val_acc: 0.8238\n",
      "Epoch 42/50\n",
      " - 50s - loss: 0.3478 - acc: 0.8810 - val_loss: 0.4714 - val_acc: 0.8477\n",
      "Epoch 43/50\n",
      " - 50s - loss: 0.3419 - acc: 0.8841 - val_loss: 0.4621 - val_acc: 0.8623\n",
      "Epoch 44/50\n",
      " - 51s - loss: 0.3380 - acc: 0.8824 - val_loss: 0.7565 - val_acc: 0.8063\n",
      "Epoch 45/50\n",
      " - 51s - loss: 0.3307 - acc: 0.8881 - val_loss: 0.6689 - val_acc: 0.8121\n",
      "Epoch 46/50\n",
      " - 51s - loss: 0.3366 - acc: 0.8834 - val_loss: 0.4754 - val_acc: 0.8551\n",
      "Epoch 47/50\n",
      " - 51s - loss: 0.3287 - acc: 0.8862 - val_loss: 0.4416 - val_acc: 0.8626\n",
      "Epoch 48/50\n",
      " - 117s - loss: 0.3204 - acc: 0.8902 - val_loss: 0.3918 - val_acc: 0.8811\n",
      "Epoch 49/50\n",
      " - 124s - loss: 0.3202 - acc: 0.8908 - val_loss: 0.4687 - val_acc: 0.8624\n",
      "Epoch 50/50\n",
      " - 51s - loss: 0.3229 - acc: 0.8895 - val_loss: 0.4455 - val_acc: 0.8609\n"
     ]
    }
   ],
   "source": [
    "from keras_preprocessing.image import ImageDataGenerator\n",
    "train_datagen = ImageDataGenerator(\n",
    "    rotation_range=20,\n",
    "    width_shift_range=0.1,\n",
    "    height_shift_range=0.1,\n",
    "    # shear_range=0.2,\n",
    "    # zoom_range=0.5,\n",
    "    horizontal_flip=True,\n",
    ")\n",
    "train_datagen.fit(x_tr)\n",
    "\n",
    "batch_size = 64\n",
    "train_gen = train_datagen.flow(x_tr, y_tr, batch_size=batch_size)\n",
    "\n",
    "# for sample in train_gen:\n",
    "#     print(sample.shape)\n",
    "\n",
    "# validation_dataget = ImageDataGenerator()\n",
    "# validation_gen = validation_dataget.flow(x_val, y_val)\n",
    "\n",
    "history = model.fit_generator(train_gen, steps_per_epoch=int(x_tr.shape[0]/batch_size), epochs=50,\n",
    "                              validation_data=(x_val, y_val), verbose=2)\n",
    "\n"
   ]
  },
  {
   "cell_type": "code",
   "execution_count": 29,
   "metadata": {},
   "outputs": [
    {
     "data": {
      "text/plain": "<Figure size 432x288 with 1 Axes>",
      "image/png": "[encoded data removed]"
     },
     "metadata": {
      "needs_background": "light"
     },
     "output_type": "display_data"
    }
   ],
   "source": [
    "import matplotlib.pyplot as plt\n",
    "%matplotlib inline\n",
    "\n",
    "acc = history.history['acc']\n",
    "val_acc = history.history['val_acc']\n",
    "\n",
    "epochs = range(len(acc))\n",
    "\n",
    "plt.plot(epochs, acc, 'bo', label='Training acc')\n",
    "plt.plot(epochs, val_acc, 'r', label='Validation acc')\n",
    "plt.xlabel('Epochs')\n",
    "plt.ylabel('Accuracy')\n",
    "plt.legend()\n",
    "plt.show()"
   ]
  },
  {
   "cell_type": "markdown",
   "metadata": {},
   "source": [
    "## 3. Train (again) and evaluate the model\n",
    "\n",
    "- To this end, you have found the \"best\" hyper-parameters. \n",
    "- Now, fix the hyper-parameters and train the network on the entire training set (all the 50K training samples)\n",
    "- Evaluate your model on the test set."
   ]
  },
  {
   "cell_type": "markdown",
   "metadata": {},
   "source": [
    "### 3.1. Train the model on the entire training set\n",
    "\n",
    "Why? Previously, you used 40K samples for training; you wasted 10K samples for the sake of hyper-parameter tuning. Now you already know the hyper-parameters, so why not using all the 50K samples for training?"
   ]
  },
  {
   "cell_type": "code",
   "execution_count": 30,
   "metadata": {},
   "outputs": [
    {
     "name": "stdout",
     "output_type": "stream",
     "text": [
      "Model: \"sequential_7\"\n",
      "_________________________________________________________________\n",
      "Layer (type)                 Output Shape              Param #   \n",
      "=================================================================\n",
      "conv2d_37 (Conv2D)           (None, 32, 32, 32)        896       \n",
      "_________________________________________________________________\n",
      "batch_normalization_43 (Batc (None, 32, 32, 32)        128       \n",
      "_________________________________________________________________\n",
      "activation_49 (Activation)   (None, 32, 32, 32)        0         \n",
      "_________________________________________________________________\n",
      "conv2d_38 (Conv2D)           (None, 32, 32, 32)        9248      \n",
      "_________________________________________________________________\n",
      "batch_normalization_44 (Batc (None, 32, 32, 32)        128       \n",
      "_________________________________________________________________\n",
      "activation_50 (Activation)   (None, 32, 32, 32)        0         \n",
      "_________________________________________________________________\n",
      "max_pooling2d_19 (MaxPooling (None, 16, 16, 32)        0         \n",
      "_________________________________________________________________\n",
      "conv2d_39 (Conv2D)           (None, 16, 16, 64)        18496     \n",
      "_________________________________________________________________\n",
      "batch_normalization_45 (Batc (None, 16, 16, 64)        256       \n",
      "_________________________________________________________________\n",
      "activation_51 (Activation)   (None, 16, 16, 64)        0         \n",
      "_________________________________________________________________\n",
      "conv2d_40 (Conv2D)           (None, 16, 16, 64)        36928     \n",
      "_________________________________________________________________\n",
      "batch_normalization_46 (Batc (None, 16, 16, 64)        256       \n",
      "_________________________________________________________________\n",
      "activation_52 (Activation)   (None, 16, 16, 64)        0         \n",
      "_________________________________________________________________\n",
      "max_pooling2d_20 (MaxPooling (None, 8, 8, 64)          0         \n",
      "_________________________________________________________________\n",
      "conv2d_41 (Conv2D)           (None, 8, 8, 128)         73856     \n",
      "_________________________________________________________________\n",
      "batch_normalization_47 (Batc (None, 8, 8, 128)         512       \n",
      "_________________________________________________________________\n",
      "activation_53 (Activation)   (None, 8, 8, 128)         0         \n",
      "_________________________________________________________________\n",
      "conv2d_42 (Conv2D)           (None, 8, 8, 128)         147584    \n",
      "_________________________________________________________________\n",
      "batch_normalization_48 (Batc (None, 8, 8, 128)         512       \n",
      "_________________________________________________________________\n",
      "activation_54 (Activation)   (None, 8, 8, 128)         0         \n",
      "_________________________________________________________________\n",
      "max_pooling2d_21 (MaxPooling (None, 4, 4, 128)         0         \n",
      "_________________________________________________________________\n",
      "flatten_7 (Flatten)          (None, 2048)              0         \n",
      "_________________________________________________________________\n",
      "dropout_7 (Dropout)          (None, 2048)              0         \n",
      "_________________________________________________________________\n",
      "dense_13 (Dense)             (None, 128)               262272    \n",
      "_________________________________________________________________\n",
      "batch_normalization_49 (Batc (None, 128)               512       \n",
      "_________________________________________________________________\n",
      "activation_55 (Activation)   (None, 128)               0         \n",
      "_________________________________________________________________\n",
      "dense_14 (Dense)             (None, 10)                1290      \n",
      "_________________________________________________________________\n",
      "activation_56 (Activation)   (None, 10)                0         \n",
      "=================================================================\n",
      "Total params: 552,874\n",
      "Trainable params: 551,722\n",
      "Non-trainable params: 1,152\n",
      "_________________________________________________________________\n"
     ]
    }
   ],
   "source": [
    "model = get_model()"
   ]
  },
  {
   "cell_type": "code",
   "execution_count": 31,
   "metadata": {},
   "outputs": [
    {
     "name": "stdout",
     "output_type": "stream",
     "text": [
      "Epoch 1/50\n",
      " - 57s - loss: 1.3433 - acc: 0.5154\n",
      "Epoch 2/50\n",
      " - 55s - loss: 0.9598 - acc: 0.6602\n",
      "Epoch 3/50\n",
      " - 55s - loss: 0.8414 - acc: 0.7067\n",
      "Epoch 4/50\n",
      " - 55s - loss: 0.7605 - acc: 0.7317\n",
      "Epoch 5/50\n",
      " - 55s - loss: 0.7120 - acc: 0.7527\n",
      "Epoch 6/50\n",
      " - 55s - loss: 0.6625 - acc: 0.7683\n",
      "Epoch 7/50\n",
      " - 55s - loss: 0.6336 - acc: 0.7803\n",
      "Epoch 8/50\n",
      " - 55s - loss: 0.6077 - acc: 0.7908\n",
      "Epoch 9/50\n",
      " - 52s - loss: 0.5826 - acc: 0.7995\n",
      "Epoch 10/50\n",
      " - 50s - loss: 0.5613 - acc: 0.8066\n",
      "Epoch 11/50\n",
      " - 51s - loss: 0.5470 - acc: 0.8105\n",
      "Epoch 12/50\n",
      " - 51s - loss: 0.5279 - acc: 0.8204\n",
      "Epoch 13/50\n",
      " - 51s - loss: 0.5161 - acc: 0.8238\n",
      "Epoch 14/50\n",
      " - 51s - loss: 0.5021 - acc: 0.8291\n",
      "Epoch 15/50\n",
      " - 51s - loss: 0.4875 - acc: 0.8319\n",
      "Epoch 16/50\n",
      " - 51s - loss: 0.4771 - acc: 0.8362\n",
      "Epoch 17/50\n",
      " - 51s - loss: 0.4686 - acc: 0.8401\n",
      "Epoch 18/50\n",
      " - 51s - loss: 0.4576 - acc: 0.8426\n",
      "Epoch 19/50\n",
      " - 51s - loss: 0.4490 - acc: 0.8484\n",
      "Epoch 20/50\n",
      " - 51s - loss: 0.4443 - acc: 0.8477\n",
      "Epoch 21/50\n",
      " - 51s - loss: 0.4371 - acc: 0.8512\n",
      "Epoch 22/50\n",
      " - 53s - loss: 0.4310 - acc: 0.8543\n",
      "Epoch 23/50\n",
      " - 51s - loss: 0.4239 - acc: 0.8558\n",
      "Epoch 24/50\n",
      " - 51s - loss: 0.4179 - acc: 0.8568\n",
      "Epoch 25/50\n",
      " - 51s - loss: 0.4141 - acc: 0.8590\n",
      "Epoch 26/50\n",
      " - 51s - loss: 0.4045 - acc: 0.8622\n",
      "Epoch 27/50\n",
      " - 51s - loss: 0.3980 - acc: 0.8650\n",
      "Epoch 28/50\n",
      " - 52s - loss: 0.3938 - acc: 0.8661\n",
      "Epoch 29/50\n",
      " - 52s - loss: 0.3908 - acc: 0.8660\n",
      "Epoch 30/50\n",
      " - 51s - loss: 0.3821 - acc: 0.8703\n",
      "Epoch 31/50\n",
      " - 51s - loss: 0.3820 - acc: 0.8705\n",
      "Epoch 32/50\n",
      " - 51s - loss: 0.3773 - acc: 0.8714\n",
      "Epoch 33/50\n",
      " - 51s - loss: 0.3744 - acc: 0.8713\n",
      "Epoch 34/50\n",
      " - 51s - loss: 0.3671 - acc: 0.8745\n",
      "Epoch 35/50\n",
      " - 51s - loss: 0.3642 - acc: 0.8760\n",
      "Epoch 36/50\n",
      " - 51s - loss: 0.3615 - acc: 0.8780\n",
      "Epoch 37/50\n",
      " - 51s - loss: 0.3610 - acc: 0.8776\n",
      "Epoch 38/50\n",
      " - 51s - loss: 0.3509 - acc: 0.8799\n",
      "Epoch 39/50\n",
      " - 51s - loss: 0.3480 - acc: 0.8815\n",
      "Epoch 40/50\n",
      " - 52s - loss: 0.3468 - acc: 0.8814\n",
      "Epoch 41/50\n",
      " - 51s - loss: 0.3410 - acc: 0.8839\n",
      "Epoch 42/50\n",
      " - 51s - loss: 0.3492 - acc: 0.8814\n",
      "Epoch 43/50\n",
      " - 51s - loss: 0.3378 - acc: 0.8840\n",
      "Epoch 44/50\n",
      " - 51s - loss: 0.3368 - acc: 0.8848\n",
      "Epoch 45/50\n",
      " - 51s - loss: 0.3381 - acc: 0.8843\n",
      "Epoch 46/50\n",
      " - 51s - loss: 0.3332 - acc: 0.8857\n",
      "Epoch 47/50\n",
      " - 51s - loss: 0.3262 - acc: 0.8883\n",
      "Epoch 48/50\n",
      " - 51s - loss: 0.3244 - acc: 0.8901\n",
      "Epoch 49/50\n",
      " - 51s - loss: 0.3281 - acc: 0.8894\n",
      "Epoch 50/50\n",
      " - 51s - loss: 0.3208 - acc: 0.8893\n"
     ]
    }
   ],
   "source": [
    "train_datagen = ImageDataGenerator(\n",
    "    rotation_range=20,\n",
    "    width_shift_range=0.1,\n",
    "    height_shift_range=0.1,\n",
    "    # shear_range=0.2,\n",
    "    # zoom_range=0.5,\n",
    "    horizontal_flip=True,\n",
    ")\n",
    "train_datagen.fit(x_train)\n",
    "\n",
    "batch_size = 64\n",
    "train_gen = train_datagen.flow(x_train, y_train_vec, batch_size=batch_size)\n",
    "\n",
    "history = model.fit_generator(train_gen, steps_per_epoch=int(x_train.shape[0]/batch_size), epochs=50, verbose=2)"
   ]
  },
  {
   "cell_type": "markdown",
   "metadata": {},
   "source": [
    "### 3.2. Evaluate the model on the test set\n",
    "\n",
    "Do NOT used the test set until now. Make sure that your model parameters and hyper-parameters are independent of the test set."
   ]
  },
  {
   "cell_type": "code",
   "execution_count": 33,
   "metadata": {
    "pycharm": {
     "name": "#%%\n"
    }
   },
   "outputs": [
    {
     "name": "stdout",
     "output_type": "stream",
     "text": [
      "loss = 0.5388658176898956\n",
      "accuracy = 0.8544999957084656\n"
     ]
    }
   ],
   "source": [
    "loss_and_acc = model.evaluate(x_test, y_test_vec, verbose=0)\n",
    "print('loss = ' + str(loss_and_acc[0]))\n",
    "print('accuracy = ' + str(loss_and_acc[1]))\n",
    "\n"
   ]
  }
 ],
 "metadata": {
  "kernelspec": {
   "name": "pycharm-d16f93cb",
   "language": "python",
   "display_name": "PyCharm (my_project)"
  },
  "language_info": {
   "codemirror_mode": {
    "name": "ipython",
    "version": 3
   },
   "file_extension": ".py",
   "mimetype": "text/x-python",
   "name": "python",
   "nbconvert_exporter": "python",
   "pygments_lexer": "ipython3",
   "version": "3.8.5-final"
  }
 },
 "nbformat": 4,
 "nbformat_minor": 2
}