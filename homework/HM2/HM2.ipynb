{
 "cells": [
  {
   "cell_type": "markdown",
   "metadata": {},
   "source": [
    "# HM2: Numerical Optimization for Logistic Regression.\n",
    "\n",
    "### Name: Ayman Elkfrawy\n"
   ]
  },
  {
   "cell_type": "markdown",
   "metadata": {},
   "source": [
    "## 0. You will do the following:\n",
    "\n",
    "1. Read the lecture note: [click here](https://github.com/wangshusen/DeepLearning/blob/master/LectureNotes/Logistic/paper/logistic.pdf)\n",
    "\n",
    "2. Read, complete, and run my code.\n",
    "\n",
    "3. **Implement mini-batch SGD** and evaluate the performance.\n",
    "\n",
    "4. Convert the .IPYNB file to .HTML file.\n",
    "\n",
    "    * The HTML file must contain **the code** and **the output after execution**.\n",
    "    \n",
    "    * Missing **the output after execution** will not be graded.\n",
    "    \n",
    "5. Upload this .HTML file to your Google Drive, Dropbox, or your Github repo.  (If you submit the file to Google Drive or Dropbox, you must make the file \"open-access\". The delay caused by \"deny of access\" may result in late penalty.)\n",
    "\n",
    "6. Submit the link to this .HTML file to Canvas.\n",
    "\n",
    "    * Example: https://github.com/wangshusen/CS583-2020S/blob/master/homework/HM2/HM2.html\n",
    "\n",
    "\n",
    "## Grading criteria:\n",
    "\n",
    "1. When computing the ```gradient``` and ```objective function value``` using a batch of samples, use **matrix-vector multiplication** rather than a FOR LOOP of **vector-vector multiplications**.\n",
    "\n",
    "2. Plot ```objective function value``` against ```epochs```. In the plot, compare GD, SGD, and MB-SGD (with $b=8$ and $b=64$). The plot must look reasonable."
   ]
  },
  {
   "cell_type": "code",
   "execution_count": 0,
   "metadata": {},
   "outputs": [],
   "source": []
  },
  {
   "cell_type": "markdown",
   "metadata": {},
   "source": [
    "# 1. Data processing\n",
    "\n",
    "- Download the Diabete dataset from https://www.csie.ntu.edu.tw/~cjlin/libsvmtools/datasets/binary/diabetes\n",
    "- Load the data using sklearn.\n",
    "- Preprocess the data."
   ]
  },
  {
   "cell_type": "markdown",
   "metadata": {},
   "source": [
    "## 1.1. Load the data"
   ]
  },
  {
   "cell_type": "code",
   "execution_count": 56,
   "metadata": {},
   "outputs": [
    {
     "output_type": "stream",
     "name": "stdout",
     "text": [
      "Shape of x: (768, 8)\nShape of y: (768,)\n"
     ]
    }
   ],
   "source": [
    "from sklearn import datasets\n",
    "import numpy\n",
    "\n",
    "x_sparse, y = datasets.load_svmlight_file('diabetes')\n",
    "x = x_sparse.todense()\n",
    "\n",
    "print('Shape of x: ' + str(x.shape))\n",
    "print('Shape of y: ' + str(y.shape))"
   ]
  },
  {
   "cell_type": "markdown",
   "metadata": {},
   "source": [
    "## 1.2. Partition to training and test sets"
   ]
  },
  {
   "cell_type": "code",
   "execution_count": 57,
   "metadata": {},
   "outputs": [
    {
     "output_type": "stream",
     "name": "stdout",
     "text": [
      "Shape of x_train: (640, 8)\nShape of x_test: (128, 8)\nShape of y_train: (640, 1)\nShape of y_test: (128, 1)\n"
     ]
    }
   ],
   "source": [
    "# partition the data to training and test sets\n",
    "n = x.shape[0]\n",
    "n_train = 640\n",
    "n_test = n - n_train\n",
    "\n",
    "rand_indices = numpy.random.permutation(n)\n",
    "train_indices = rand_indices[0:n_train]\n",
    "test_indices = rand_indices[n_train:n]\n",
    "\n",
    "x_train = x[train_indices, :]\n",
    "x_test = x[test_indices, :]\n",
    "y_train = y[train_indices].reshape(n_train, 1)\n",
    "y_test = y[test_indices].reshape(n_test, 1)\n",
    "\n",
    "print('Shape of x_train: ' + str(x_train.shape))\n",
    "print('Shape of x_test: ' + str(x_test.shape))\n",
    "print('Shape of y_train: ' + str(y_train.shape))\n",
    "print('Shape of y_test: ' + str(y_test.shape))"
   ]
  },
  {
   "cell_type": "markdown",
   "metadata": {},
   "source": [
    "## 1.3. Feature scaling"
   ]
  },
  {
   "cell_type": "markdown",
   "metadata": {},
   "source": [
    "Use the standardization to trainsform both training and test features"
   ]
  },
  {
   "cell_type": "code",
   "execution_count": 58,
   "metadata": {},
   "outputs": [
    {
     "output_type": "stream",
     "name": "stdout",
     "text": [
      "test mean = \n[[-0.19294391  0.12865014 -0.0136432   0.2780052   0.0886159   0.23253197\n   0.07399359 -0.10689095]]\ntest std = \n[[0.99632642 0.97875587 0.92371044 0.97255336 0.92888181 0.84234669\n  1.14153197 0.957331  ]]\n"
     ]
    }
   ],
   "source": [
    "# Standardization\n",
    "import numpy\n",
    "\n",
    "# calculate mu and sig using the training set\n",
    "d = x_train.shape[1]\n",
    "mu = numpy.mean(x_train, axis=0).reshape(1, d)\n",
    "sig = numpy.std(x_train, axis=0).reshape(1, d)\n",
    "\n",
    "# transform the training features\n",
    "x_train = (x_train - mu) / (sig + 1E-6)\n",
    "\n",
    "# transform the test features\n",
    "x_test = (x_test - mu) / (sig + 1E-6)\n",
    "\n",
    "print('test mean = ')\n",
    "print(numpy.mean(x_test, axis=0))\n",
    "\n",
    "print('test std = ')\n",
    "print(numpy.std(x_test, axis=0))"
   ]
  },
  {
   "cell_type": "markdown",
   "metadata": {},
   "source": [
    "## 1.4. Add a dimension of all ones"
   ]
  },
  {
   "cell_type": "code",
   "execution_count": 59,
   "metadata": {},
   "outputs": [
    {
     "output_type": "stream",
     "name": "stdout",
     "text": [
      "Shape of x_train: (640, 9)\nShape of x_test: (128, 9)\n"
     ]
    }
   ],
   "source": [
    "n_train, d = x_train.shape\n",
    "x_train = numpy.concatenate((x_train, numpy.ones((n_train, 1))), axis=1)\n",
    "\n",
    "n_test, d = x_test.shape\n",
    "x_test = numpy.concatenate((x_test, numpy.ones((n_test, 1))), axis=1)\n",
    "\n",
    "print('Shape of x_train: ' + str(x_train.shape))\n",
    "print('Shape of x_test: ' + str(x_test.shape))"
   ]
  },
  {
   "cell_type": "markdown",
   "metadata": {},
   "source": [
    "# 2. Logistic regression model\n",
    "\n",
    "The objective function is $Q (w; X, y) = \\frac{1}{n} \\sum_{i=1}^n \\log \\Big( 1 + \\exp \\big( - y_i x_i^T w \\big) \\Big) + \\frac{\\lambda}{2} \\| w \\|_2^2 $."
   ]
  },
  {
   "cell_type": "code",
   "execution_count": 60,
   "metadata": {},
   "outputs": [],
   "source": [
    "# Calculate the objective function value\n",
    "# Inputs:\n",
    "#     w: d-by-1 matrix\n",
    "#     x: n-by-d matrix\n",
    "#     y: n-by-1 matrix\n",
    "#     lam: scalar, the regularization parameter\n",
    "# Return:\n",
    "#     objective function value (scalar)\n",
    "def objective(w, x, y, lam):\n",
    "    n, d = x.shape\n",
    "    yx = numpy.multiply(y, x) # n-by-d matrix\n",
    "    yxw = numpy.dot(yx, w) # n-by-1 matrix\n",
    "    vec1 = numpy.exp(-yxw) # n-by-1 matrix\n",
    "    vec2 = numpy.log(1 + vec1) # n-by-1 matrix\n",
    "    loss = numpy.mean(vec2) # scalar\n",
    "    reg = lam / 2 * numpy.sum(w * w) # scalar\n",
    "    return loss + reg\n",
    "    "
   ]
  },
  {
   "cell_type": "code",
   "execution_count": 61,
   "metadata": {},
   "outputs": [
    {
     "output_type": "stream",
     "name": "stdout",
     "text": [
      "Initial objective function value = 0.6931471805599453\n"
     ]
    }
   ],
   "source": [
    "# initialize w\n",
    "d = x_train.shape[1]\n",
    "w = numpy.zeros((d, 1))\n",
    "\n",
    "# evaluate the objective function value at w\n",
    "lam = 1E-6\n",
    "objval0 = objective(w, x_train, y_train, lam)\n",
    "print('Initial objective function value = ' + str(objval0))"
   ]
  },
  {
   "cell_type": "markdown",
   "metadata": {},
   "source": [
    "# 3. Numerical optimization"
   ]
  },
  {
   "cell_type": "markdown",
   "metadata": {},
   "source": [
    "## 3.1. Gradient descent\n"
   ]
  },
  {
   "cell_type": "markdown",
   "metadata": {},
   "source": [
    "The gradient at $w$ is $g = - \\frac{1}{n} \\sum_{i=1}^n \\frac{y_i x_i }{1 + \\exp ( y_i x_i^T w)} + \\lambda w$"
   ]
  },
  {
   "cell_type": "code",
   "execution_count": 62,
   "metadata": {},
   "outputs": [],
   "source": [
    "# Calculate the gradient\n",
    "# Inputs:\n",
    "#     w: d-by-1 matrix\n",
    "#     x: n-by-d matrix\n",
    "#     y: n-by-1 matrix\n",
    "#     lam: scalar, the regularization parameter\n",
    "# Return:\n",
    "#     g: g: d-by-1 matrix, full gradient\n",
    "def gradient(w, x, y, lam):\n",
    "    n, d = x.shape\n",
    "    yx = numpy.multiply(y, x) # n-by-d matrix\n",
    "    yxw = numpy.dot(yx, w) # n-by-1 matrix\n",
    "    vec1 = numpy.exp(yxw) # n-by-1 matrix\n",
    "    vec2 = numpy.divide(yx, 1+vec1) # n-by-d matrix\n",
    "    vec3 = -numpy.mean(vec2, axis=0).reshape(d, 1) # d-by-1 matrix\n",
    "    g = vec3 + lam * w\n",
    "    return g"
   ]
  },
  {
   "cell_type": "code",
   "execution_count": 63,
   "metadata": {},
   "outputs": [],
   "source": [
    "# Gradient descent for solving logistic regression\n",
    "# Inputs:\n",
    "#     x: n-by-d matrix\n",
    "#     y: n-by-1 matrix\n",
    "#     lam: scalar, the regularization parameter\n",
    "#     stepsize: scalar\n",
    "#     max_iter: integer, the maximal iterations\n",
    "#     w: d-by-1 matrix, initialization of w\n",
    "# Return:\n",
    "#     w: d-by-1 matrix, the solution\n",
    "#     objvals: a record of each iteration's objective value\n",
    "def grad_descent(x, y, lam, stepsize, max_iter=100, w=None):\n",
    "    n, d = x.shape\n",
    "    objvals = numpy.zeros(max_iter) # store the objective values\n",
    "    if w is None:\n",
    "        w = numpy.zeros((d, 1)) # zero initialization\n",
    "    \n",
    "    for t in range(max_iter):\n",
    "        objval = objective(w, x, y, lam)\n",
    "        objvals[t] = objval\n",
    "        print('Objective value at t=' + str(t) + ' is ' + str(objval))\n",
    "        g = gradient(w, x, y, lam)\n",
    "        w -= stepsize * g\n",
    "    \n",
    "    return w, objvals"
   ]
  },
  {
   "cell_type": "markdown",
   "metadata": {},
   "source": [
    "Run gradient descent."
   ]
  },
  {
   "cell_type": "code",
   "execution_count": 64,
   "metadata": {},
   "outputs": [
    {
     "output_type": "stream",
     "name": "stdout",
     "text": [
      "Objective value at t=0 is 0.6931471805599453\n",
      "Objective value at t=1 is 0.5895779740101081\n",
      "Objective value at t=2 is 0.5467770126953535\n",
      "Objective value at t=3 is 0.5237914000032132\n",
      "Objective value at t=4 is 0.5095145120385643\n",
      "Objective value at t=5 is 0.4998914308790323\n",
      "Objective value at t=6 is 0.4930667837970798\n",
      "Objective value at t=7 is 0.4880567377667344\n",
      "Objective value at t=8 is 0.48428518175690777\n",
      "Objective value at t=9 is 0.4813906126822278\n",
      "Objective value at t=10 is 0.47913457379005797\n",
      "Objective value at t=11 is 0.4773537609011862\n",
      "Objective value at t=12 is 0.47593301701125806\n",
      "Objective value at t=13 is 0.4747891971538707\n",
      "Objective value at t=14 is 0.47386108141204347\n",
      "Objective value at t=15 is 0.4731028372080686\n",
      "Objective value at t=16 is 0.47247965545206033\n",
      "Objective value at t=17 is 0.4719647652848757\n",
      "Objective value at t=18 is 0.4715373486497792\n",
      "Objective value at t=19 is 0.4711810566705479\n",
      "Objective value at t=20 is 0.4708829370462625\n",
      "Objective value at t=21 is 0.47063264736449406\n",
      "Objective value at t=22 is 0.4704218705873211\n",
      "Objective value at t=23 is 0.47024387561245784\n",
      "Objective value at t=24 is 0.4700931833381537\n",
      "Objective value at t=25 is 0.46996531039817124\n",
      "Objective value at t=26 is 0.469856570722725\n",
      "Objective value at t=27 is 0.4697639206003827\n",
      "Objective value at t=28 is 0.4696848367803632\n",
      "Objective value at t=29 is 0.4696172198944925\n",
      "Objective value at t=30 is 0.4695593174432281\n",
      "Objective value at t=31 is 0.4695096620150274\n",
      "Objective value at t=32 is 0.4694670214519673\n",
      "Objective value at t=33 is 0.4694303584462572\n",
      "Objective value at t=34 is 0.4693987976280747\n",
      "Objective value at t=35 is 0.469371598638402\n",
      "Objective value at t=36 is 0.4693481340091371\n",
      "Objective value at t=37 is 0.46932787092384587\n",
      "Objective value at t=38 is 0.4693103561257685\n",
      "Objective value at t=39 is 0.46929520338941233\n",
      "Objective value at t=40 is 0.46928208308879\n",
      "Objective value at t=41 is 0.46927071348692634\n",
      "Objective value at t=42 is 0.4692608534434684\n",
      "Objective value at t=43 is 0.4692522962945096\n",
      "Objective value at t=44 is 0.46924486470437726\n",
      "Objective value at t=45 is 0.469238406325686\n",
      "Objective value at t=46 is 0.469232790133356\n",
      "Objective value at t=47 is 0.46922790332205316\n",
      "Objective value at t=48 is 0.4692236486757627\n",
      "Objective value at t=49 is 0.469219942333894\n",
      "Objective value at t=50 is 0.4692167118911296\n",
      "Objective value at t=51 is 0.46921389477872744\n",
      "Objective value at t=52 is 0.46921143688363554\n",
      "Objective value at t=53 is 0.4692092913688915\n",
      "Objective value at t=54 is 0.46920741766468693\n",
      "Objective value at t=55 is 0.46920578060435586\n",
      "Objective value at t=56 is 0.4692043496836206\n",
      "Objective value at t=57 is 0.4692030984248139\n",
      "Objective value at t=58 is 0.46920200383062993\n",
      "Objective value at t=59 is 0.46920104591432943\n",
      "Objective value at t=60 is 0.46920020729531153\n",
      "Objective value at t=61 is 0.46919947285063945\n",
      "Objective value at t=62 is 0.4691988294145178\n",
      "Objective value at t=63 is 0.46919826551890226\n",
      "Objective value at t=64 is 0.4691977711694358\n",
      "Objective value at t=65 is 0.46919733765174576\n",
      "Objective value at t=66 is 0.46919695736386885\n",
      "Objective value at t=67 is 0.4691966236711687\n",
      "Objective value at t=68 is 0.46919633078064715\n",
      "Objective value at t=69 is 0.46919607363198\n",
      "Objective value at t=70 is 0.46919584780299184\n",
      "Objective value at t=71 is 0.4691956494276068\n",
      "Objective value at t=72 is 0.4691954751245844\n",
      "Objective value at t=73 is 0.4691953219355883\n",
      "Objective value at t=74 is 0.46919518727133364\n",
      "Objective value at t=75 is 0.469195068864736\n",
      "Objective value at t=76 is 0.4691949647301277\n",
      "Objective value at t=77 is 0.46919487312774005\n",
      "Objective value at t=78 is 0.4691947925327539\n",
      "Objective value at t=79 is 0.4691947216083203\n",
      "Objective value at t=80 is 0.4691946591820288\n",
      "Objective value at t=81 is 0.46919460422537507\n",
      "Objective value at t=82 is 0.46919455583583847\n",
      "Objective value at t=83 is 0.4691945132212273\n",
      "Objective value at t=84 is 0.4691944756860048\n",
      "Objective value at t=85 is 0.4691944426193352\n",
      "Objective value at t=86 is 0.46919441348463303\n",
      "Objective value at t=87 is 0.46919438781042144\n",
      "Objective value at t=88 is 0.46919436518233315\n",
      "Objective value at t=89 is 0.46919434523610815\n",
      "Objective value at t=90 is 0.4691943276514633\n",
      "Objective value at t=91 is 0.46919431214672136\n",
      "Objective value at t=92 is 0.469194298474106\n",
      "Objective value at t=93 is 0.46919428641561645\n",
      "Objective value at t=94 is 0.4691942757794122\n",
      "Objective value at t=95 is 0.4691942663966416\n",
      "Objective value at t=96 is 0.4691942581186585\n",
      "Objective value at t=97 is 0.46919425081458216\n",
      "Objective value at t=98 is 0.46919424436915314\n",
      "Objective value at t=99 is 0.4691942386808522\n"
     ]
    }
   ],
   "source": [
    "lam = 1E-6\n",
    "stepsize = 1.0\n",
    "w, objvals_gd = grad_descent(x_train, y_train, lam, stepsize)"
   ]
  },
  {
   "cell_type": "markdown",
   "metadata": {},
   "source": [
    "## 3.2. Stochastic gradient descent (SGD)\n",
    "\n",
    "Define $Q_i (w) = \\log \\Big( 1 + \\exp \\big( - y_i x_i^T w \\big) \\Big) + \\frac{\\lambda}{2} \\| w \\|_2^2 $.\n",
    "\n",
    "The stochastic gradient at $w$ is $g_i = \\frac{\\partial Q_i }{ \\partial w} = -\\frac{y_i x_i }{1 + \\exp ( y_i x_i^T w)} + \\lambda w$."
   ]
  },
  {
   "cell_type": "code",
   "execution_count": 65,
   "metadata": {},
   "outputs": [],
   "source": [
    "# Calculate the objective Q_i and the gradient of Q_i\n",
    "# Inputs:\n",
    "#     w: d-by-1 matrix\n",
    "#     xi: 1-by-d matrix\n",
    "#     yi: scalar\n",
    "#     lam: scalar, the regularization parameter\n",
    "# Return:\n",
    "#     obj: scalar, the objective Q_i\n",
    "#     g: d-by-1 matrix, gradient of Q_i\n",
    "def stochastic_objective_gradient(w, xi, yi, lam):\n",
    "    d = xi.shape[0]\n",
    "    yx = yi * xi # 1-by-d matrix\n",
    "    yxw = float(numpy.dot(yx, w)) # scalar\n",
    "    \n",
    "    # calculate objective function Q_i\n",
    "    loss = numpy.log(1 + numpy.exp(-yxw)) # scalar\n",
    "    reg = lam / 2 * numpy.sum(w * w) # scalar\n",
    "    obj = loss + reg\n",
    "    \n",
    "    # calculate stochastic gradient\n",
    "    g_loss = -yx.T / (1 + numpy.exp(yxw)) # d-by-1 matrix\n",
    "    g = g_loss + lam * w # d-by-1 matrix\n",
    "    \n",
    "    return obj, g"
   ]
  },
  {
   "cell_type": "code",
   "execution_count": 66,
   "metadata": {},
   "outputs": [],
   "source": [
    "# SGD for solving logistic regression\n",
    "# Inputs:\n",
    "#     x: n-by-d matrix\n",
    "#     y: n-by-1 matrix\n",
    "#     lam: scalar, the regularization parameter\n",
    "#     stepsize: scalar\n",
    "#     max_epoch: integer, the maximal epochs\n",
    "#     w: d-by-1 matrix, initialization of w\n",
    "# Return:\n",
    "#     w: the solution\n",
    "#     objvals: record of each iteration's objective value\n",
    "def sgd(x, y, lam, stepsize, max_epoch=100, w=None):\n",
    "    n, d = x.shape\n",
    "    objvals = numpy.zeros(max_epoch) # store the objective values\n",
    "    if w is None:\n",
    "        w = numpy.zeros((d, 1)) # zero initialization\n",
    "    \n",
    "    for t in range(max_epoch):\n",
    "        # randomly shuffle the samples\n",
    "        rand_indices = numpy.random.permutation(n)\n",
    "        x_rand = x[rand_indices, :]\n",
    "        y_rand = y[rand_indices, :]\n",
    "        \n",
    "        objval = 0 # accumulate the objective values\n",
    "        for i in range(n):\n",
    "            xi = x_rand[i, :] # 1-by-d matrix\n",
    "            yi = float(y_rand[i, :]) # scalar\n",
    "            obj, g = stochastic_objective_gradient(w, xi, yi, lam)\n",
    "            objval += obj\n",
    "            w -= stepsize * g\n",
    "        \n",
    "        stepsize *= 0.9 # decrease step size\n",
    "        objval /= n\n",
    "        objvals[t] = objval\n",
    "        print('Objective value at epoch t=' + str(t) + ' is ' + str(objval))\n",
    "    \n",
    "    return w, objvals"
   ]
  },
  {
   "cell_type": "markdown",
   "metadata": {},
   "source": [
    "Run SGD."
   ]
  },
  {
   "cell_type": "code",
   "execution_count": 67,
   "metadata": {},
   "outputs": [
    {
     "output_type": "stream",
     "name": "stdout",
     "text": [
      "Objective value at epoch t=0 is 0.523193678007566\n",
      "Objective value at epoch t=1 is 0.5194463936949739\n",
      "Objective value at epoch t=2 is 0.5074430055633787\n",
      "Objective value at epoch t=3 is 0.5078452458696856\n",
      "Objective value at epoch t=4 is 0.497989275628233\n",
      "Objective value at epoch t=5 is 0.5019730152822587\n",
      "Objective value at epoch t=6 is 0.49567733469671554\n",
      "Objective value at epoch t=7 is 0.4967335410279176\n",
      "Objective value at epoch t=8 is 0.49338376525573924\n",
      "Objective value at epoch t=9 is 0.48919153468336374\n",
      "Objective value at epoch t=10 is 0.4910733051153538\n",
      "Objective value at epoch t=11 is 0.4850289418315736\n",
      "Objective value at epoch t=12 is 0.4853343913729612\n",
      "Objective value at epoch t=13 is 0.47995005291090764\n",
      "Objective value at epoch t=14 is 0.4843185056183823\n",
      "Objective value at epoch t=15 is 0.48175878699379304\n",
      "Objective value at epoch t=16 is 0.47870598945243215\n",
      "Objective value at epoch t=17 is 0.47883051610883626\n",
      "Objective value at epoch t=18 is 0.47883900060614304\n",
      "Objective value at epoch t=19 is 0.47789404891164755\n",
      "Objective value at epoch t=20 is 0.47682684170460343\n",
      "Objective value at epoch t=21 is 0.47671337290257976\n",
      "Objective value at epoch t=22 is 0.4755546090197216\n",
      "Objective value at epoch t=23 is 0.4744516729190066\n",
      "Objective value at epoch t=24 is 0.47473912604478297\n",
      "Objective value at epoch t=25 is 0.4740655965916198\n",
      "Objective value at epoch t=26 is 0.4727701696047628\n",
      "Objective value at epoch t=27 is 0.4730700193060241\n",
      "Objective value at epoch t=28 is 0.47255816451377786\n",
      "Objective value at epoch t=29 is 0.4725247432854925\n",
      "Objective value at epoch t=30 is 0.472019553019918\n",
      "Objective value at epoch t=31 is 0.4718249983265263\n",
      "Objective value at epoch t=32 is 0.47144844760502236\n",
      "Objective value at epoch t=33 is 0.47138933127225097\n",
      "Objective value at epoch t=34 is 0.4711133750123088\n",
      "Objective value at epoch t=35 is 0.47092214468111504\n",
      "Objective value at epoch t=36 is 0.4707320739690418\n",
      "Objective value at epoch t=37 is 0.4705380495177459\n",
      "Objective value at epoch t=38 is 0.4704684009751607\n",
      "Objective value at epoch t=39 is 0.470343588582048\n",
      "Objective value at epoch t=40 is 0.4702415987049517\n",
      "Objective value at epoch t=41 is 0.47013044126684883\n",
      "Objective value at epoch t=42 is 0.47004191752026003\n",
      "Objective value at epoch t=43 is 0.4699494009620217\n",
      "Objective value at epoch t=44 is 0.4698764368605204\n",
      "Objective value at epoch t=45 is 0.469813707746406\n",
      "Objective value at epoch t=46 is 0.4697514577594051\n",
      "Objective value at epoch t=47 is 0.4696896936454628\n",
      "Objective value at epoch t=48 is 0.4696458439979181\n",
      "Objective value at epoch t=49 is 0.46960178745743625\n",
      "Objective value at epoch t=50 is 0.46956058617643226\n",
      "Objective value at epoch t=51 is 0.4695216904988276\n",
      "Objective value at epoch t=52 is 0.4694909973455954\n",
      "Objective value at epoch t=53 is 0.4694613749600034\n",
      "Objective value at epoch t=54 is 0.4694357308437701\n",
      "Objective value at epoch t=55 is 0.4694110834295688\n",
      "Objective value at epoch t=56 is 0.4693894576702372\n",
      "Objective value at epoch t=57 is 0.46936994310262536\n",
      "Objective value at epoch t=58 is 0.4693529168438054\n",
      "Objective value at epoch t=59 is 0.4693371011587453\n",
      "Objective value at epoch t=60 is 0.46932299620351436\n",
      "Objective value at epoch t=61 is 0.4693100761338994\n",
      "Objective value at epoch t=62 is 0.4692985559010749\n",
      "Objective value at epoch t=63 is 0.469288104574875\n",
      "Objective value at epoch t=64 is 0.4692786090833666\n",
      "Objective value at epoch t=65 is 0.46927031033023214\n",
      "Objective value at epoch t=66 is 0.46926256962700624\n",
      "Objective value at epoch t=67 is 0.46925571381835257\n",
      "Objective value at epoch t=68 is 0.46924961579146807\n",
      "Objective value at epoch t=69 is 0.46924416959164084\n",
      "Objective value at epoch t=70 is 0.46923923336948803\n",
      "Objective value at epoch t=71 is 0.4692347164900884\n",
      "Objective value at epoch t=72 is 0.4692306843273828\n",
      "Objective value at epoch t=73 is 0.4692270761852603\n",
      "Objective value at epoch t=74 is 0.4692238160839052\n",
      "Objective value at epoch t=75 is 0.4692208705032764\n",
      "Objective value at epoch t=76 is 0.4692182157651678\n",
      "Objective value at epoch t=77 is 0.4692158265408877\n",
      "Objective value at epoch t=78 is 0.46921368249052636\n",
      "Objective value at epoch t=79 is 0.4692117438927773\n",
      "Objective value at epoch t=80 is 0.4692100093712825\n",
      "Objective value at epoch t=81 is 0.46920843779825094\n",
      "Objective value at epoch t=82 is 0.46920703308730466\n",
      "Objective value at epoch t=83 is 0.46920576598258573\n",
      "Objective value at epoch t=84 is 0.46920462443271704\n",
      "Objective value at epoch t=85 is 0.4692035954826044\n",
      "Objective value at epoch t=86 is 0.46920267147424094\n",
      "Objective value at epoch t=87 is 0.46920183964091294\n",
      "Objective value at epoch t=88 is 0.46920108990761167\n",
      "Objective value at epoch t=89 is 0.46920041520285755\n",
      "Objective value at epoch t=90 is 0.46919980957697377\n",
      "Objective value at epoch t=91 is 0.4691992634899876\n",
      "Objective value at epoch t=92 is 0.4691987716501663\n",
      "Objective value at epoch t=93 is 0.46919832962328173\n",
      "Objective value at epoch t=94 is 0.4691979312655346\n",
      "Objective value at epoch t=95 is 0.4691975730922574\n",
      "Objective value at epoch t=96 is 0.46919725054564615\n",
      "Objective value at epoch t=97 is 0.4691969603132546\n",
      "Objective value at epoch t=98 is 0.46919669913931594\n",
      "Objective value at epoch t=99 is 0.46919646395518877\n"
     ]
    }
   ],
   "source": [
    "lam = 1E-6\n",
    "stepsize = 0.1\n",
    "w, objvals_sgd = sgd(x_train, y_train, lam, stepsize)"
   ]
  },
  {
   "cell_type": "markdown",
   "metadata": {},
   "source": [
    "# 4. Compare GD with SGD\n",
    "\n",
    "Plot objective function values against epochs."
   ]
  },
  {
   "cell_type": "code",
   "execution_count": 68,
   "metadata": {},
   "outputs": [
    {
     "output_type": "display_data",
     "data": {
      "text/plain": "<Figure size 432x288 with 1 Axes>",
      "image/svg+xml": "<?xml version=\"1.0\" encoding=\"utf-8\" standalone=\"no\"?>\r\n<!DOCTYPE svg PUBLIC \"-//W3C//DTD SVG 1.1//EN\"\r\n  \"http://www.w3.org/Graphics/SVG/1.1/DTD/svg11.dtd\">\r\n<!-- Created with matplotlib (https://matplotlib.org/) -->\r\n<svg height=\"281.688342pt\" version=\"1.1\" viewBox=\"0 0 425.047572 281.688342\" width=\"425.047572pt\" xmlns=\"http://www.w3.org/2000/svg\" xmlns:xlink=\"http://www.w3.org/1999/xlink\">\r\n <metadata>\r\n  <rdf:RDF xmlns:cc=\"http://creativecommons.org/ns#\" xmlns:dc=\"http://purl.org/dc/elements/1.1/\" xmlns:rdf=\"http://www.w3.org/1999/02/22-rdf-syntax-ns#\">\r\n   <cc:Work>\r\n    <dc:type rdf:resource=\"http://purl.org/dc/dcmitype/StillImage\"/>\r\n    <dc:date>2021-03-07T13:12:26.668139</dc:date>\r\n    <dc:format>image/svg+xml</dc:format>\r\n    <dc:creator>\r\n     <cc:Agent>\r\n      <dc:title>Matplotlib v3.3.3, https://matplotlib.org/</dc:title>\r\n     </cc:Agent>\r\n    </dc:creator>\r\n   </cc:Work>\r\n  </rdf:RDF>\r\n </metadata>\r\n <defs>\r\n  <style type=\"text/css\">*{stroke-linecap:butt;stroke-linejoin:round;}</style>\r\n </defs>\r\n <g id=\"figure_1\">\r\n  <g id=\"patch_1\">\r\n   <path d=\"M 0 281.688342 \r\nL 425.047572 281.688342 \r\nL 425.047572 0 \r\nL 0 0 \r\nz\r\n\" style=\"fill:none;\"/>\r\n  </g>\r\n  <g id=\"axes_1\">\r\n   <g id=\"patch_2\">\r\n    <path d=\"M 73.18125 228.647092 \r\nL 414.975052 228.647092 \r\nL 414.975052 9.412117 \r\nL 73.18125 9.412117 \r\nz\r\n\" style=\"fill:#ffffff;\"/>\r\n   </g>\r\n   <g id=\"matplotlib.axis_1\">\r\n    <g id=\"xtick_1\">\r\n     <g id=\"line2d_1\">\r\n      <defs>\r\n       <path d=\"M 0 0 \r\nL 0 3.5 \r\n\" id=\"m70aa5e506f\" style=\"stroke:#000000;stroke-width:0.8;\"/>\r\n      </defs>\r\n      <g>\r\n       <use style=\"stroke:#000000;stroke-width:0.8;\" x=\"88.717332\" xlink:href=\"#m70aa5e506f\" y=\"228.647092\"/>\r\n      </g>\r\n     </g>\r\n     <g id=\"text_1\">\r\n      <!-- 0 -->\r\n      <g transform=\"translate(83.627332 247.804592)scale(0.16 -0.16)\">\r\n       <defs>\r\n        <path d=\"M 31.78125 66.40625 \r\nQ 24.171875 66.40625 20.328125 58.90625 \r\nQ 16.5 51.421875 16.5 36.375 \r\nQ 16.5 21.390625 20.328125 13.890625 \r\nQ 24.171875 6.390625 31.78125 6.390625 \r\nQ 39.453125 6.390625 43.28125 13.890625 \r\nQ 47.125 21.390625 47.125 36.375 \r\nQ 47.125 51.421875 43.28125 58.90625 \r\nQ 39.453125 66.40625 31.78125 66.40625 \r\nz\r\nM 31.78125 74.21875 \r\nQ 44.046875 74.21875 50.515625 64.515625 \r\nQ 56.984375 54.828125 56.984375 36.375 \r\nQ 56.984375 17.96875 50.515625 8.265625 \r\nQ 44.046875 -1.421875 31.78125 -1.421875 \r\nQ 19.53125 -1.421875 13.0625 8.265625 \r\nQ 6.59375 17.96875 6.59375 36.375 \r\nQ 6.59375 54.828125 13.0625 64.515625 \r\nQ 19.53125 74.21875 31.78125 74.21875 \r\nz\r\n\" id=\"DejaVuSans-48\"/>\r\n       </defs>\r\n       <use xlink:href=\"#DejaVuSans-48\"/>\r\n      </g>\r\n     </g>\r\n    </g>\r\n    <g id=\"xtick_2\">\r\n     <g id=\"line2d_2\">\r\n      <g>\r\n       <use style=\"stroke:#000000;stroke-width:0.8;\" x=\"151.48938\" xlink:href=\"#m70aa5e506f\" y=\"228.647092\"/>\r\n      </g>\r\n     </g>\r\n     <g id=\"text_2\">\r\n      <!-- 20 -->\r\n      <g transform=\"translate(141.30938 247.804592)scale(0.16 -0.16)\">\r\n       <defs>\r\n        <path d=\"M 19.1875 8.296875 \r\nL 53.609375 8.296875 \r\nL 53.609375 0 \r\nL 7.328125 0 \r\nL 7.328125 8.296875 \r\nQ 12.9375 14.109375 22.625 23.890625 \r\nQ 32.328125 33.6875 34.8125 36.53125 \r\nQ 39.546875 41.84375 41.421875 45.53125 \r\nQ 43.3125 49.21875 43.3125 52.78125 \r\nQ 43.3125 58.59375 39.234375 62.25 \r\nQ 35.15625 65.921875 28.609375 65.921875 \r\nQ 23.96875 65.921875 18.8125 64.3125 \r\nQ 13.671875 62.703125 7.8125 59.421875 \r\nL 7.8125 69.390625 \r\nQ 13.765625 71.78125 18.9375 73 \r\nQ 24.125 74.21875 28.421875 74.21875 \r\nQ 39.75 74.21875 46.484375 68.546875 \r\nQ 53.21875 62.890625 53.21875 53.421875 \r\nQ 53.21875 48.921875 51.53125 44.890625 \r\nQ 49.859375 40.875 45.40625 35.40625 \r\nQ 44.1875 33.984375 37.640625 27.21875 \r\nQ 31.109375 20.453125 19.1875 8.296875 \r\nz\r\n\" id=\"DejaVuSans-50\"/>\r\n       </defs>\r\n       <use xlink:href=\"#DejaVuSans-50\"/>\r\n       <use x=\"63.623047\" xlink:href=\"#DejaVuSans-48\"/>\r\n      </g>\r\n     </g>\r\n    </g>\r\n    <g id=\"xtick_3\">\r\n     <g id=\"line2d_3\">\r\n      <g>\r\n       <use style=\"stroke:#000000;stroke-width:0.8;\" x=\"214.261428\" xlink:href=\"#m70aa5e506f\" y=\"228.647092\"/>\r\n      </g>\r\n     </g>\r\n     <g id=\"text_3\">\r\n      <!-- 40 -->\r\n      <g transform=\"translate(204.081428 247.804592)scale(0.16 -0.16)\">\r\n       <defs>\r\n        <path d=\"M 37.796875 64.3125 \r\nL 12.890625 25.390625 \r\nL 37.796875 25.390625 \r\nz\r\nM 35.203125 72.90625 \r\nL 47.609375 72.90625 \r\nL 47.609375 25.390625 \r\nL 58.015625 25.390625 \r\nL 58.015625 17.1875 \r\nL 47.609375 17.1875 \r\nL 47.609375 0 \r\nL 37.796875 0 \r\nL 37.796875 17.1875 \r\nL 4.890625 17.1875 \r\nL 4.890625 26.703125 \r\nz\r\n\" id=\"DejaVuSans-52\"/>\r\n       </defs>\r\n       <use xlink:href=\"#DejaVuSans-52\"/>\r\n       <use x=\"63.623047\" xlink:href=\"#DejaVuSans-48\"/>\r\n      </g>\r\n     </g>\r\n    </g>\r\n    <g id=\"xtick_4\">\r\n     <g id=\"line2d_4\">\r\n      <g>\r\n       <use style=\"stroke:#000000;stroke-width:0.8;\" x=\"277.033476\" xlink:href=\"#m70aa5e506f\" y=\"228.647092\"/>\r\n      </g>\r\n     </g>\r\n     <g id=\"text_4\">\r\n      <!-- 60 -->\r\n      <g transform=\"translate(266.853476 247.804592)scale(0.16 -0.16)\">\r\n       <defs>\r\n        <path d=\"M 33.015625 40.375 \r\nQ 26.375 40.375 22.484375 35.828125 \r\nQ 18.609375 31.296875 18.609375 23.390625 \r\nQ 18.609375 15.53125 22.484375 10.953125 \r\nQ 26.375 6.390625 33.015625 6.390625 \r\nQ 39.65625 6.390625 43.53125 10.953125 \r\nQ 47.40625 15.53125 47.40625 23.390625 \r\nQ 47.40625 31.296875 43.53125 35.828125 \r\nQ 39.65625 40.375 33.015625 40.375 \r\nz\r\nM 52.59375 71.296875 \r\nL 52.59375 62.3125 \r\nQ 48.875 64.0625 45.09375 64.984375 \r\nQ 41.3125 65.921875 37.59375 65.921875 \r\nQ 27.828125 65.921875 22.671875 59.328125 \r\nQ 17.53125 52.734375 16.796875 39.40625 \r\nQ 19.671875 43.65625 24.015625 45.921875 \r\nQ 28.375 48.1875 33.59375 48.1875 \r\nQ 44.578125 48.1875 50.953125 41.515625 \r\nQ 57.328125 34.859375 57.328125 23.390625 \r\nQ 57.328125 12.15625 50.6875 5.359375 \r\nQ 44.046875 -1.421875 33.015625 -1.421875 \r\nQ 20.359375 -1.421875 13.671875 8.265625 \r\nQ 6.984375 17.96875 6.984375 36.375 \r\nQ 6.984375 53.65625 15.1875 63.9375 \r\nQ 23.390625 74.21875 37.203125 74.21875 \r\nQ 40.921875 74.21875 44.703125 73.484375 \r\nQ 48.484375 72.75 52.59375 71.296875 \r\nz\r\n\" id=\"DejaVuSans-54\"/>\r\n       </defs>\r\n       <use xlink:href=\"#DejaVuSans-54\"/>\r\n       <use x=\"63.623047\" xlink:href=\"#DejaVuSans-48\"/>\r\n      </g>\r\n     </g>\r\n    </g>\r\n    <g id=\"xtick_5\">\r\n     <g id=\"line2d_5\">\r\n      <g>\r\n       <use style=\"stroke:#000000;stroke-width:0.8;\" x=\"339.805524\" xlink:href=\"#m70aa5e506f\" y=\"228.647092\"/>\r\n      </g>\r\n     </g>\r\n     <g id=\"text_5\">\r\n      <!-- 80 -->\r\n      <g transform=\"translate(329.625524 247.804592)scale(0.16 -0.16)\">\r\n       <defs>\r\n        <path d=\"M 31.78125 34.625 \r\nQ 24.75 34.625 20.71875 30.859375 \r\nQ 16.703125 27.09375 16.703125 20.515625 \r\nQ 16.703125 13.921875 20.71875 10.15625 \r\nQ 24.75 6.390625 31.78125 6.390625 \r\nQ 38.8125 6.390625 42.859375 10.171875 \r\nQ 46.921875 13.96875 46.921875 20.515625 \r\nQ 46.921875 27.09375 42.890625 30.859375 \r\nQ 38.875 34.625 31.78125 34.625 \r\nz\r\nM 21.921875 38.8125 \r\nQ 15.578125 40.375 12.03125 44.71875 \r\nQ 8.5 49.078125 8.5 55.328125 \r\nQ 8.5 64.0625 14.71875 69.140625 \r\nQ 20.953125 74.21875 31.78125 74.21875 \r\nQ 42.671875 74.21875 48.875 69.140625 \r\nQ 55.078125 64.0625 55.078125 55.328125 \r\nQ 55.078125 49.078125 51.53125 44.71875 \r\nQ 48 40.375 41.703125 38.8125 \r\nQ 48.828125 37.15625 52.796875 32.3125 \r\nQ 56.78125 27.484375 56.78125 20.515625 \r\nQ 56.78125 9.90625 50.3125 4.234375 \r\nQ 43.84375 -1.421875 31.78125 -1.421875 \r\nQ 19.734375 -1.421875 13.25 4.234375 \r\nQ 6.78125 9.90625 6.78125 20.515625 \r\nQ 6.78125 27.484375 10.78125 32.3125 \r\nQ 14.796875 37.15625 21.921875 38.8125 \r\nz\r\nM 18.3125 54.390625 \r\nQ 18.3125 48.734375 21.84375 45.5625 \r\nQ 25.390625 42.390625 31.78125 42.390625 \r\nQ 38.140625 42.390625 41.71875 45.5625 \r\nQ 45.3125 48.734375 45.3125 54.390625 \r\nQ 45.3125 60.0625 41.71875 63.234375 \r\nQ 38.140625 66.40625 31.78125 66.40625 \r\nQ 25.390625 66.40625 21.84375 63.234375 \r\nQ 18.3125 60.0625 18.3125 54.390625 \r\nz\r\n\" id=\"DejaVuSans-56\"/>\r\n       </defs>\r\n       <use xlink:href=\"#DejaVuSans-56\"/>\r\n       <use x=\"63.623047\" xlink:href=\"#DejaVuSans-48\"/>\r\n      </g>\r\n     </g>\r\n    </g>\r\n    <g id=\"xtick_6\">\r\n     <g id=\"line2d_6\">\r\n      <g>\r\n       <use style=\"stroke:#000000;stroke-width:0.8;\" x=\"402.577572\" xlink:href=\"#m70aa5e506f\" y=\"228.647092\"/>\r\n      </g>\r\n     </g>\r\n     <g id=\"text_6\">\r\n      <!-- 100 -->\r\n      <g transform=\"translate(387.307572 247.804592)scale(0.16 -0.16)\">\r\n       <defs>\r\n        <path d=\"M 12.40625 8.296875 \r\nL 28.515625 8.296875 \r\nL 28.515625 63.921875 \r\nL 10.984375 60.40625 \r\nL 10.984375 69.390625 \r\nL 28.421875 72.90625 \r\nL 38.28125 72.90625 \r\nL 38.28125 8.296875 \r\nL 54.390625 8.296875 \r\nL 54.390625 0 \r\nL 12.40625 0 \r\nz\r\n\" id=\"DejaVuSans-49\"/>\r\n       </defs>\r\n       <use xlink:href=\"#DejaVuSans-49\"/>\r\n       <use x=\"63.623047\" xlink:href=\"#DejaVuSans-48\"/>\r\n       <use x=\"127.246094\" xlink:href=\"#DejaVuSans-48\"/>\r\n      </g>\r\n     </g>\r\n    </g>\r\n    <g id=\"text_7\">\r\n     <!-- Epochs -->\r\n     <g transform=\"translate(208.246901 270.328967)scale(0.2 -0.2)\">\r\n      <defs>\r\n       <path d=\"M 9.8125 72.90625 \r\nL 55.90625 72.90625 \r\nL 55.90625 64.59375 \r\nL 19.671875 64.59375 \r\nL 19.671875 43.015625 \r\nL 54.390625 43.015625 \r\nL 54.390625 34.71875 \r\nL 19.671875 34.71875 \r\nL 19.671875 8.296875 \r\nL 56.78125 8.296875 \r\nL 56.78125 0 \r\nL 9.8125 0 \r\nz\r\n\" id=\"DejaVuSans-69\"/>\r\n       <path d=\"M 18.109375 8.203125 \r\nL 18.109375 -20.796875 \r\nL 9.078125 -20.796875 \r\nL 9.078125 54.6875 \r\nL 18.109375 54.6875 \r\nL 18.109375 46.390625 \r\nQ 20.953125 51.265625 25.265625 53.625 \r\nQ 29.59375 56 35.59375 56 \r\nQ 45.5625 56 51.78125 48.09375 \r\nQ 58.015625 40.1875 58.015625 27.296875 \r\nQ 58.015625 14.40625 51.78125 6.484375 \r\nQ 45.5625 -1.421875 35.59375 -1.421875 \r\nQ 29.59375 -1.421875 25.265625 0.953125 \r\nQ 20.953125 3.328125 18.109375 8.203125 \r\nz\r\nM 48.6875 27.296875 \r\nQ 48.6875 37.203125 44.609375 42.84375 \r\nQ 40.53125 48.484375 33.40625 48.484375 \r\nQ 26.265625 48.484375 22.1875 42.84375 \r\nQ 18.109375 37.203125 18.109375 27.296875 \r\nQ 18.109375 17.390625 22.1875 11.75 \r\nQ 26.265625 6.109375 33.40625 6.109375 \r\nQ 40.53125 6.109375 44.609375 11.75 \r\nQ 48.6875 17.390625 48.6875 27.296875 \r\nz\r\n\" id=\"DejaVuSans-112\"/>\r\n       <path d=\"M 30.609375 48.390625 \r\nQ 23.390625 48.390625 19.1875 42.75 \r\nQ 14.984375 37.109375 14.984375 27.296875 \r\nQ 14.984375 17.484375 19.15625 11.84375 \r\nQ 23.34375 6.203125 30.609375 6.203125 \r\nQ 37.796875 6.203125 41.984375 11.859375 \r\nQ 46.1875 17.53125 46.1875 27.296875 \r\nQ 46.1875 37.015625 41.984375 42.703125 \r\nQ 37.796875 48.390625 30.609375 48.390625 \r\nz\r\nM 30.609375 56 \r\nQ 42.328125 56 49.015625 48.375 \r\nQ 55.71875 40.765625 55.71875 27.296875 \r\nQ 55.71875 13.875 49.015625 6.21875 \r\nQ 42.328125 -1.421875 30.609375 -1.421875 \r\nQ 18.84375 -1.421875 12.171875 6.21875 \r\nQ 5.515625 13.875 5.515625 27.296875 \r\nQ 5.515625 40.765625 12.171875 48.375 \r\nQ 18.84375 56 30.609375 56 \r\nz\r\n\" id=\"DejaVuSans-111\"/>\r\n       <path d=\"M 48.78125 52.59375 \r\nL 48.78125 44.1875 \r\nQ 44.96875 46.296875 41.140625 47.34375 \r\nQ 37.3125 48.390625 33.40625 48.390625 \r\nQ 24.65625 48.390625 19.8125 42.84375 \r\nQ 14.984375 37.3125 14.984375 27.296875 \r\nQ 14.984375 17.28125 19.8125 11.734375 \r\nQ 24.65625 6.203125 33.40625 6.203125 \r\nQ 37.3125 6.203125 41.140625 7.25 \r\nQ 44.96875 8.296875 48.78125 10.40625 \r\nL 48.78125 2.09375 \r\nQ 45.015625 0.34375 40.984375 -0.53125 \r\nQ 36.96875 -1.421875 32.421875 -1.421875 \r\nQ 20.0625 -1.421875 12.78125 6.34375 \r\nQ 5.515625 14.109375 5.515625 27.296875 \r\nQ 5.515625 40.671875 12.859375 48.328125 \r\nQ 20.21875 56 33.015625 56 \r\nQ 37.15625 56 41.109375 55.140625 \r\nQ 45.0625 54.296875 48.78125 52.59375 \r\nz\r\n\" id=\"DejaVuSans-99\"/>\r\n       <path d=\"M 54.890625 33.015625 \r\nL 54.890625 0 \r\nL 45.90625 0 \r\nL 45.90625 32.71875 \r\nQ 45.90625 40.484375 42.875 44.328125 \r\nQ 39.84375 48.1875 33.796875 48.1875 \r\nQ 26.515625 48.1875 22.3125 43.546875 \r\nQ 18.109375 38.921875 18.109375 30.90625 \r\nL 18.109375 0 \r\nL 9.078125 0 \r\nL 9.078125 75.984375 \r\nL 18.109375 75.984375 \r\nL 18.109375 46.1875 \r\nQ 21.34375 51.125 25.703125 53.5625 \r\nQ 30.078125 56 35.796875 56 \r\nQ 45.21875 56 50.046875 50.171875 \r\nQ 54.890625 44.34375 54.890625 33.015625 \r\nz\r\n\" id=\"DejaVuSans-104\"/>\r\n       <path d=\"M 44.28125 53.078125 \r\nL 44.28125 44.578125 \r\nQ 40.484375 46.53125 36.375 47.5 \r\nQ 32.28125 48.484375 27.875 48.484375 \r\nQ 21.1875 48.484375 17.84375 46.4375 \r\nQ 14.5 44.390625 14.5 40.28125 \r\nQ 14.5 37.15625 16.890625 35.375 \r\nQ 19.28125 33.59375 26.515625 31.984375 \r\nL 29.59375 31.296875 \r\nQ 39.15625 29.25 43.1875 25.515625 \r\nQ 47.21875 21.78125 47.21875 15.09375 \r\nQ 47.21875 7.46875 41.1875 3.015625 \r\nQ 35.15625 -1.421875 24.609375 -1.421875 \r\nQ 20.21875 -1.421875 15.453125 -0.5625 \r\nQ 10.6875 0.296875 5.421875 2 \r\nL 5.421875 11.28125 \r\nQ 10.40625 8.6875 15.234375 7.390625 \r\nQ 20.0625 6.109375 24.8125 6.109375 \r\nQ 31.15625 6.109375 34.5625 8.28125 \r\nQ 37.984375 10.453125 37.984375 14.40625 \r\nQ 37.984375 18.0625 35.515625 20.015625 \r\nQ 33.0625 21.96875 24.703125 23.78125 \r\nL 21.578125 24.515625 \r\nQ 13.234375 26.265625 9.515625 29.90625 \r\nQ 5.8125 33.546875 5.8125 39.890625 \r\nQ 5.8125 47.609375 11.28125 51.796875 \r\nQ 16.75 56 26.8125 56 \r\nQ 31.78125 56 36.171875 55.265625 \r\nQ 40.578125 54.546875 44.28125 53.078125 \r\nz\r\n\" id=\"DejaVuSans-115\"/>\r\n      </defs>\r\n      <use xlink:href=\"#DejaVuSans-69\"/>\r\n      <use x=\"63.183594\" xlink:href=\"#DejaVuSans-112\"/>\r\n      <use x=\"126.660156\" xlink:href=\"#DejaVuSans-111\"/>\r\n      <use x=\"187.841797\" xlink:href=\"#DejaVuSans-99\"/>\r\n      <use x=\"242.822266\" xlink:href=\"#DejaVuSans-104\"/>\r\n      <use x=\"306.201172\" xlink:href=\"#DejaVuSans-115\"/>\r\n     </g>\r\n    </g>\r\n   </g>\r\n   <g id=\"matplotlib.axis_2\">\r\n    <g id=\"ytick_1\">\r\n     <g id=\"line2d_7\">\r\n      <defs>\r\n       <path d=\"M 0 0 \r\nL -3.5 0 \r\n\" id=\"m8d231d9611\" style=\"stroke:#000000;stroke-width:0.8;\"/>\r\n      </defs>\r\n      <g>\r\n       <use style=\"stroke:#000000;stroke-width:0.8;\" x=\"73.18125\" xlink:href=\"#m8d231d9611\" y=\"191.266609\"/>\r\n      </g>\r\n     </g>\r\n     <g id=\"text_8\">\r\n      <!-- 0.50 -->\r\n      <g transform=\"translate(30.55625 197.345359)scale(0.16 -0.16)\">\r\n       <defs>\r\n        <path d=\"M 10.6875 12.40625 \r\nL 21 12.40625 \r\nL 21 0 \r\nL 10.6875 0 \r\nz\r\n\" id=\"DejaVuSans-46\"/>\r\n        <path d=\"M 10.796875 72.90625 \r\nL 49.515625 72.90625 \r\nL 49.515625 64.59375 \r\nL 19.828125 64.59375 \r\nL 19.828125 46.734375 \r\nQ 21.96875 47.46875 24.109375 47.828125 \r\nQ 26.265625 48.1875 28.421875 48.1875 \r\nQ 40.625 48.1875 47.75 41.5 \r\nQ 54.890625 34.8125 54.890625 23.390625 \r\nQ 54.890625 11.625 47.5625 5.09375 \r\nQ 40.234375 -1.421875 26.90625 -1.421875 \r\nQ 22.3125 -1.421875 17.546875 -0.640625 \r\nQ 12.796875 0.140625 7.71875 1.703125 \r\nL 7.71875 11.625 \r\nQ 12.109375 9.234375 16.796875 8.0625 \r\nQ 21.484375 6.890625 26.703125 6.890625 \r\nQ 35.15625 6.890625 40.078125 11.328125 \r\nQ 45.015625 15.765625 45.015625 23.390625 \r\nQ 45.015625 31 40.078125 35.4375 \r\nQ 35.15625 39.890625 26.703125 39.890625 \r\nQ 22.75 39.890625 18.8125 39.015625 \r\nQ 14.890625 38.140625 10.796875 36.28125 \r\nz\r\n\" id=\"DejaVuSans-53\"/>\r\n       </defs>\r\n       <use xlink:href=\"#DejaVuSans-48\"/>\r\n       <use x=\"63.623047\" xlink:href=\"#DejaVuSans-46\"/>\r\n       <use x=\"95.410156\" xlink:href=\"#DejaVuSans-53\"/>\r\n       <use x=\"159.033203\" xlink:href=\"#DejaVuSans-48\"/>\r\n      </g>\r\n     </g>\r\n    </g>\r\n    <g id=\"ytick_2\">\r\n     <g id=\"line2d_8\">\r\n      <g>\r\n       <use style=\"stroke:#000000;stroke-width:0.8;\" x=\"73.18125\" xlink:href=\"#m8d231d9611\" y=\"146.769644\"/>\r\n      </g>\r\n     </g>\r\n     <g id=\"text_9\">\r\n      <!-- 0.55 -->\r\n      <g transform=\"translate(30.55625 152.848394)scale(0.16 -0.16)\">\r\n       <use xlink:href=\"#DejaVuSans-48\"/>\r\n       <use x=\"63.623047\" xlink:href=\"#DejaVuSans-46\"/>\r\n       <use x=\"95.410156\" xlink:href=\"#DejaVuSans-53\"/>\r\n       <use x=\"159.033203\" xlink:href=\"#DejaVuSans-53\"/>\r\n      </g>\r\n     </g>\r\n    </g>\r\n    <g id=\"ytick_3\">\r\n     <g id=\"line2d_9\">\r\n      <g>\r\n       <use style=\"stroke:#000000;stroke-width:0.8;\" x=\"73.18125\" xlink:href=\"#m8d231d9611\" y=\"102.272679\"/>\r\n      </g>\r\n     </g>\r\n     <g id=\"text_10\">\r\n      <!-- 0.60 -->\r\n      <g transform=\"translate(30.55625 108.351429)scale(0.16 -0.16)\">\r\n       <use xlink:href=\"#DejaVuSans-48\"/>\r\n       <use x=\"63.623047\" xlink:href=\"#DejaVuSans-46\"/>\r\n       <use x=\"95.410156\" xlink:href=\"#DejaVuSans-54\"/>\r\n       <use x=\"159.033203\" xlink:href=\"#DejaVuSans-48\"/>\r\n      </g>\r\n     </g>\r\n    </g>\r\n    <g id=\"ytick_4\">\r\n     <g id=\"line2d_10\">\r\n      <g>\r\n       <use style=\"stroke:#000000;stroke-width:0.8;\" x=\"73.18125\" xlink:href=\"#m8d231d9611\" y=\"57.775715\"/>\r\n      </g>\r\n     </g>\r\n     <g id=\"text_11\">\r\n      <!-- 0.65 -->\r\n      <g transform=\"translate(30.55625 63.854465)scale(0.16 -0.16)\">\r\n       <use xlink:href=\"#DejaVuSans-48\"/>\r\n       <use x=\"63.623047\" xlink:href=\"#DejaVuSans-46\"/>\r\n       <use x=\"95.410156\" xlink:href=\"#DejaVuSans-54\"/>\r\n       <use x=\"159.033203\" xlink:href=\"#DejaVuSans-53\"/>\r\n      </g>\r\n     </g>\r\n    </g>\r\n    <g id=\"ytick_5\">\r\n     <g id=\"line2d_11\">\r\n      <g>\r\n       <use style=\"stroke:#000000;stroke-width:0.8;\" x=\"73.18125\" xlink:href=\"#m8d231d9611\" y=\"13.27875\"/>\r\n      </g>\r\n     </g>\r\n     <g id=\"text_12\">\r\n      <!-- 0.70 -->\r\n      <g transform=\"translate(30.55625 19.3575)scale(0.16 -0.16)\">\r\n       <defs>\r\n        <path d=\"M 8.203125 72.90625 \r\nL 55.078125 72.90625 \r\nL 55.078125 68.703125 \r\nL 28.609375 0 \r\nL 18.3125 0 \r\nL 43.21875 64.59375 \r\nL 8.203125 64.59375 \r\nz\r\n\" id=\"DejaVuSans-55\"/>\r\n       </defs>\r\n       <use xlink:href=\"#DejaVuSans-48\"/>\r\n       <use x=\"63.623047\" xlink:href=\"#DejaVuSans-46\"/>\r\n       <use x=\"95.410156\" xlink:href=\"#DejaVuSans-55\"/>\r\n       <use x=\"159.033203\" xlink:href=\"#DejaVuSans-48\"/>\r\n      </g>\r\n     </g>\r\n    </g>\r\n    <g id=\"text_13\">\r\n     <!-- Objective Value -->\r\n     <g transform=\"translate(22.396875 197.090542)rotate(-90)scale(0.2 -0.2)\">\r\n      <defs>\r\n       <path d=\"M 39.40625 66.21875 \r\nQ 28.65625 66.21875 22.328125 58.203125 \r\nQ 16.015625 50.203125 16.015625 36.375 \r\nQ 16.015625 22.609375 22.328125 14.59375 \r\nQ 28.65625 6.59375 39.40625 6.59375 \r\nQ 50.140625 6.59375 56.421875 14.59375 \r\nQ 62.703125 22.609375 62.703125 36.375 \r\nQ 62.703125 50.203125 56.421875 58.203125 \r\nQ 50.140625 66.21875 39.40625 66.21875 \r\nz\r\nM 39.40625 74.21875 \r\nQ 54.734375 74.21875 63.90625 63.9375 \r\nQ 73.09375 53.65625 73.09375 36.375 \r\nQ 73.09375 19.140625 63.90625 8.859375 \r\nQ 54.734375 -1.421875 39.40625 -1.421875 \r\nQ 24.03125 -1.421875 14.8125 8.828125 \r\nQ 5.609375 19.09375 5.609375 36.375 \r\nQ 5.609375 53.65625 14.8125 63.9375 \r\nQ 24.03125 74.21875 39.40625 74.21875 \r\nz\r\n\" id=\"DejaVuSans-79\"/>\r\n       <path d=\"M 48.6875 27.296875 \r\nQ 48.6875 37.203125 44.609375 42.84375 \r\nQ 40.53125 48.484375 33.40625 48.484375 \r\nQ 26.265625 48.484375 22.1875 42.84375 \r\nQ 18.109375 37.203125 18.109375 27.296875 \r\nQ 18.109375 17.390625 22.1875 11.75 \r\nQ 26.265625 6.109375 33.40625 6.109375 \r\nQ 40.53125 6.109375 44.609375 11.75 \r\nQ 48.6875 17.390625 48.6875 27.296875 \r\nz\r\nM 18.109375 46.390625 \r\nQ 20.953125 51.265625 25.265625 53.625 \r\nQ 29.59375 56 35.59375 56 \r\nQ 45.5625 56 51.78125 48.09375 \r\nQ 58.015625 40.1875 58.015625 27.296875 \r\nQ 58.015625 14.40625 51.78125 6.484375 \r\nQ 45.5625 -1.421875 35.59375 -1.421875 \r\nQ 29.59375 -1.421875 25.265625 0.953125 \r\nQ 20.953125 3.328125 18.109375 8.203125 \r\nL 18.109375 0 \r\nL 9.078125 0 \r\nL 9.078125 75.984375 \r\nL 18.109375 75.984375 \r\nz\r\n\" id=\"DejaVuSans-98\"/>\r\n       <path d=\"M 9.421875 54.6875 \r\nL 18.40625 54.6875 \r\nL 18.40625 -0.984375 \r\nQ 18.40625 -11.421875 14.421875 -16.109375 \r\nQ 10.453125 -20.796875 1.609375 -20.796875 \r\nL -1.8125 -20.796875 \r\nL -1.8125 -13.1875 \r\nL 0.59375 -13.1875 \r\nQ 5.71875 -13.1875 7.5625 -10.8125 \r\nQ 9.421875 -8.453125 9.421875 -0.984375 \r\nz\r\nM 9.421875 75.984375 \r\nL 18.40625 75.984375 \r\nL 18.40625 64.59375 \r\nL 9.421875 64.59375 \r\nz\r\n\" id=\"DejaVuSans-106\"/>\r\n       <path d=\"M 56.203125 29.59375 \r\nL 56.203125 25.203125 \r\nL 14.890625 25.203125 \r\nQ 15.484375 15.921875 20.484375 11.0625 \r\nQ 25.484375 6.203125 34.421875 6.203125 \r\nQ 39.59375 6.203125 44.453125 7.46875 \r\nQ 49.3125 8.734375 54.109375 11.28125 \r\nL 54.109375 2.78125 \r\nQ 49.265625 0.734375 44.1875 -0.34375 \r\nQ 39.109375 -1.421875 33.890625 -1.421875 \r\nQ 20.796875 -1.421875 13.15625 6.1875 \r\nQ 5.515625 13.8125 5.515625 26.8125 \r\nQ 5.515625 40.234375 12.765625 48.109375 \r\nQ 20.015625 56 32.328125 56 \r\nQ 43.359375 56 49.78125 48.890625 \r\nQ 56.203125 41.796875 56.203125 29.59375 \r\nz\r\nM 47.21875 32.234375 \r\nQ 47.125 39.59375 43.09375 43.984375 \r\nQ 39.0625 48.390625 32.421875 48.390625 \r\nQ 24.90625 48.390625 20.390625 44.140625 \r\nQ 15.875 39.890625 15.1875 32.171875 \r\nz\r\n\" id=\"DejaVuSans-101\"/>\r\n       <path d=\"M 18.3125 70.21875 \r\nL 18.3125 54.6875 \r\nL 36.8125 54.6875 \r\nL 36.8125 47.703125 \r\nL 18.3125 47.703125 \r\nL 18.3125 18.015625 \r\nQ 18.3125 11.328125 20.140625 9.421875 \r\nQ 21.96875 7.515625 27.59375 7.515625 \r\nL 36.8125 7.515625 \r\nL 36.8125 0 \r\nL 27.59375 0 \r\nQ 17.1875 0 13.234375 3.875 \r\nQ 9.28125 7.765625 9.28125 18.015625 \r\nL 9.28125 47.703125 \r\nL 2.6875 47.703125 \r\nL 2.6875 54.6875 \r\nL 9.28125 54.6875 \r\nL 9.28125 70.21875 \r\nz\r\n\" id=\"DejaVuSans-116\"/>\r\n       <path d=\"M 9.421875 54.6875 \r\nL 18.40625 54.6875 \r\nL 18.40625 0 \r\nL 9.421875 0 \r\nz\r\nM 9.421875 75.984375 \r\nL 18.40625 75.984375 \r\nL 18.40625 64.59375 \r\nL 9.421875 64.59375 \r\nz\r\n\" id=\"DejaVuSans-105\"/>\r\n       <path d=\"M 2.984375 54.6875 \r\nL 12.5 54.6875 \r\nL 29.59375 8.796875 \r\nL 46.6875 54.6875 \r\nL 56.203125 54.6875 \r\nL 35.6875 0 \r\nL 23.484375 0 \r\nz\r\n\" id=\"DejaVuSans-118\"/>\r\n       <path id=\"DejaVuSans-32\"/>\r\n       <path d=\"M 28.609375 0 \r\nL 0.78125 72.90625 \r\nL 11.078125 72.90625 \r\nL 34.1875 11.53125 \r\nL 57.328125 72.90625 \r\nL 67.578125 72.90625 \r\nL 39.796875 0 \r\nz\r\n\" id=\"DejaVuSans-86\"/>\r\n       <path d=\"M 34.28125 27.484375 \r\nQ 23.390625 27.484375 19.1875 25 \r\nQ 14.984375 22.515625 14.984375 16.5 \r\nQ 14.984375 11.71875 18.140625 8.90625 \r\nQ 21.296875 6.109375 26.703125 6.109375 \r\nQ 34.1875 6.109375 38.703125 11.40625 \r\nQ 43.21875 16.703125 43.21875 25.484375 \r\nL 43.21875 27.484375 \r\nz\r\nM 52.203125 31.203125 \r\nL 52.203125 0 \r\nL 43.21875 0 \r\nL 43.21875 8.296875 \r\nQ 40.140625 3.328125 35.546875 0.953125 \r\nQ 30.953125 -1.421875 24.3125 -1.421875 \r\nQ 15.921875 -1.421875 10.953125 3.296875 \r\nQ 6 8.015625 6 15.921875 \r\nQ 6 25.140625 12.171875 29.828125 \r\nQ 18.359375 34.515625 30.609375 34.515625 \r\nL 43.21875 34.515625 \r\nL 43.21875 35.40625 \r\nQ 43.21875 41.609375 39.140625 45 \r\nQ 35.0625 48.390625 27.6875 48.390625 \r\nQ 23 48.390625 18.546875 47.265625 \r\nQ 14.109375 46.140625 10.015625 43.890625 \r\nL 10.015625 52.203125 \r\nQ 14.9375 54.109375 19.578125 55.046875 \r\nQ 24.21875 56 28.609375 56 \r\nQ 40.484375 56 46.34375 49.84375 \r\nQ 52.203125 43.703125 52.203125 31.203125 \r\nz\r\n\" id=\"DejaVuSans-97\"/>\r\n       <path d=\"M 9.421875 75.984375 \r\nL 18.40625 75.984375 \r\nL 18.40625 0 \r\nL 9.421875 0 \r\nz\r\n\" id=\"DejaVuSans-108\"/>\r\n       <path d=\"M 8.5 21.578125 \r\nL 8.5 54.6875 \r\nL 17.484375 54.6875 \r\nL 17.484375 21.921875 \r\nQ 17.484375 14.15625 20.5 10.265625 \r\nQ 23.53125 6.390625 29.59375 6.390625 \r\nQ 36.859375 6.390625 41.078125 11.03125 \r\nQ 45.3125 15.671875 45.3125 23.6875 \r\nL 45.3125 54.6875 \r\nL 54.296875 54.6875 \r\nL 54.296875 0 \r\nL 45.3125 0 \r\nL 45.3125 8.40625 \r\nQ 42.046875 3.421875 37.71875 1 \r\nQ 33.40625 -1.421875 27.6875 -1.421875 \r\nQ 18.265625 -1.421875 13.375 4.4375 \r\nQ 8.5 10.296875 8.5 21.578125 \r\nz\r\nM 31.109375 56 \r\nz\r\n\" id=\"DejaVuSans-117\"/>\r\n      </defs>\r\n      <use xlink:href=\"#DejaVuSans-79\"/>\r\n      <use x=\"78.710938\" xlink:href=\"#DejaVuSans-98\"/>\r\n      <use x=\"142.1875\" xlink:href=\"#DejaVuSans-106\"/>\r\n      <use x=\"169.970703\" xlink:href=\"#DejaVuSans-101\"/>\r\n      <use x=\"231.494141\" xlink:href=\"#DejaVuSans-99\"/>\r\n      <use x=\"286.474609\" xlink:href=\"#DejaVuSans-116\"/>\r\n      <use x=\"325.683594\" xlink:href=\"#DejaVuSans-105\"/>\r\n      <use x=\"353.466797\" xlink:href=\"#DejaVuSans-118\"/>\r\n      <use x=\"412.646484\" xlink:href=\"#DejaVuSans-101\"/>\r\n      <use x=\"474.169922\" xlink:href=\"#DejaVuSans-32\"/>\r\n      <use x=\"505.957031\" xlink:href=\"#DejaVuSans-86\"/>\r\n      <use x=\"566.615234\" xlink:href=\"#DejaVuSans-97\"/>\r\n      <use x=\"627.894531\" xlink:href=\"#DejaVuSans-108\"/>\r\n      <use x=\"655.677734\" xlink:href=\"#DejaVuSans-117\"/>\r\n      <use x=\"719.056641\" xlink:href=\"#DejaVuSans-101\"/>\r\n     </g>\r\n    </g>\r\n   </g>\r\n   <g id=\"line2d_12\">\r\n    <path clip-path=\"url(#p46d84b8a85)\" d=\"M 88.717332 19.377343 \r\nL 91.855934 111.54765 \r\nL 94.994537 149.637907 \r\nL 98.133139 170.093707 \r\nL 101.271742 182.79927 \r\nL 104.410344 191.363228 \r\nL 107.548946 197.43675 \r\nL 110.687549 201.895387 \r\nL 113.826151 205.251843 \r\nL 116.964754 207.827834 \r\nL 120.103356 209.835571 \r\nL 123.241958 211.420387 \r\nL 126.380561 212.684762 \r\nL 129.519163 213.702693 \r\nL 132.657766 214.528659 \r\nL 135.796368 215.203451 \r\nL 138.93497 215.758045 \r\nL 142.073573 216.216266 \r\nL 145.212175 216.59664 \r\nL 148.350778 216.913719 \r\nL 151.48938 217.179027 \r\nL 154.627982 217.40177 \r\nL 157.766585 217.589348 \r\nL 160.905187 217.747753 \r\nL 164.04379 217.88186 \r\nL 167.182392 217.995659 \r\nL 170.320994 218.092431 \r\nL 173.459597 218.174884 \r\nL 176.598199 218.245263 \r\nL 179.736802 218.305438 \r\nL 182.875404 218.356968 \r\nL 186.014006 218.401158 \r\nL 189.152609 218.439106 \r\nL 192.291211 218.471734 \r\nL 195.429814 218.499821 \r\nL 198.568416 218.524026 \r\nL 201.707018 218.544909 \r\nL 204.845621 218.562941 \r\nL 207.984223 218.578529 \r\nL 211.122826 218.592014 \r\nL 214.261428 218.60369 \r\nL 217.40003 218.613808 \r\nL 220.538633 218.622583 \r\nL 223.677235 218.630198 \r\nL 226.815838 218.636812 \r\nL 229.95444 218.642559 \r\nL 233.093042 218.647558 \r\nL 236.231645 218.651907 \r\nL 239.370247 218.655693 \r\nL 242.50885 218.658991 \r\nL 245.647452 218.661866 \r\nL 248.786054 218.664373 \r\nL 251.924657 218.666561 \r\nL 255.063259 218.66847 \r\nL 258.201862 218.670138 \r\nL 261.340464 218.671594 \r\nL 264.479066 218.672868 \r\nL 267.617669 218.673981 \r\nL 270.756271 218.674955 \r\nL 273.894874 218.675808 \r\nL 277.033476 218.676554 \r\nL 280.172078 218.677208 \r\nL 283.310681 218.677781 \r\nL 286.449283 218.678282 \r\nL 289.587886 218.678722 \r\nL 292.726488 218.679108 \r\nL 295.86509 218.679447 \r\nL 299.003693 218.679744 \r\nL 302.142295 218.680004 \r\nL 305.280898 218.680233 \r\nL 308.4195 218.680434 \r\nL 311.558102 218.680611 \r\nL 314.696705 218.680766 \r\nL 317.835307 218.680902 \r\nL 320.97391 218.681022 \r\nL 324.112512 218.681127 \r\nL 327.251114 218.68122 \r\nL 330.389717 218.681301 \r\nL 333.528319 218.681373 \r\nL 336.666922 218.681436 \r\nL 339.805524 218.681492 \r\nL 342.944127 218.681541 \r\nL 346.082729 218.681584 \r\nL 349.221331 218.681622 \r\nL 352.359934 218.681655 \r\nL 355.498536 218.681685 \r\nL 358.637139 218.68171 \r\nL 361.775741 218.681733 \r\nL 364.914343 218.681753 \r\nL 368.052946 218.681771 \r\nL 371.191548 218.681787 \r\nL 374.330151 218.681801 \r\nL 377.468753 218.681813 \r\nL 380.607355 218.681824 \r\nL 383.745958 218.681833 \r\nL 386.88456 218.681841 \r\nL 390.023163 218.681849 \r\nL 393.161765 218.681855 \r\nL 396.300367 218.681861 \r\nL 399.43897 218.681866 \r\n\" style=\"fill:none;stroke:#0000ff;stroke-dasharray:14.8,6.4;stroke-dashoffset:0;stroke-width:4;\"/>\r\n   </g>\r\n   <g id=\"line2d_13\">\r\n    <path clip-path=\"url(#p46d84b8a85)\" d=\"M 88.717332 170.625643 \r\nL 91.855934 173.960499 \r\nL 94.994537 184.642785 \r\nL 98.133139 184.284816 \r\nL 101.271742 193.056031 \r\nL 104.410344 189.510745 \r\nL 107.548946 195.113518 \r\nL 110.687549 194.173559 \r\nL 113.826151 197.154656 \r\nL 116.964754 200.885487 \r\nL 120.103356 199.210825 \r\nL 123.241958 204.589941 \r\nL 126.380561 204.31811 \r\nL 129.519163 209.109844 \r\nL 132.657766 205.222187 \r\nL 135.796368 207.500181 \r\nL 138.93497 210.216985 \r\nL 142.073573 210.106164 \r\nL 145.212175 210.098613 \r\nL 148.350778 210.939563 \r\nL 151.48938 211.889313 \r\nL 154.627982 211.990293 \r\nL 157.766585 213.021523 \r\nL 160.905187 214.003069 \r\nL 164.04379 213.747253 \r\nL 167.182392 214.346653 \r\nL 170.320994 215.499505 \r\nL 173.459597 215.232657 \r\nL 176.598199 215.688176 \r\nL 179.736802 215.717919 \r\nL 182.875404 216.167508 \r\nL 186.014006 216.34065 \r\nL 189.152609 216.675757 \r\nL 192.291211 216.728367 \r\nL 195.429814 216.973951 \r\nL 198.568416 217.144135 \r\nL 201.707018 217.313286 \r\nL 204.845621 217.485956 \r\nL 207.984223 217.547939 \r\nL 211.122826 217.659014 \r\nL 214.261428 217.749779 \r\nL 217.40003 217.848703 \r\nL 220.538633 217.927483 \r\nL 223.677235 218.009817 \r\nL 226.815838 218.074751 \r\nL 229.95444 218.130576 \r\nL 233.093042 218.185975 \r\nL 236.231645 218.240941 \r\nL 239.370247 218.279965 \r\nL 242.50885 218.319172 \r\nL 245.647452 218.355839 \r\nL 248.786054 218.390454 \r\nL 251.924657 218.417769 \r\nL 255.063259 218.444131 \r\nL 258.201862 218.466953 \r\nL 261.340464 218.488887 \r\nL 264.479066 218.508133 \r\nL 267.617669 218.5255 \r\nL 270.756271 218.540652 \r\nL 273.894874 218.554727 \r\nL 277.033476 218.56728 \r\nL 280.172078 218.578778 \r\nL 283.310681 218.58903 \r\nL 286.449283 218.598331 \r\nL 289.587886 218.606781 \r\nL 292.726488 218.614167 \r\nL 295.86509 218.621056 \r\nL 299.003693 218.627157 \r\nL 302.142295 218.632584 \r\nL 305.280898 218.637431 \r\nL 308.4195 218.641823 \r\nL 311.558102 218.645843 \r\nL 314.696705 218.649432 \r\nL 317.835307 218.652643 \r\nL 320.97391 218.655544 \r\nL 324.112512 218.658165 \r\nL 327.251114 218.660528 \r\nL 330.389717 218.662654 \r\nL 333.528319 218.664562 \r\nL 336.666922 218.666287 \r\nL 339.805524 218.667831 \r\nL 342.944127 218.66923 \r\nL 346.082729 218.67048 \r\nL 349.221331 218.671607 \r\nL 352.359934 218.672623 \r\nL 355.498536 218.673539 \r\nL 358.637139 218.674361 \r\nL 361.775741 218.675102 \r\nL 364.914343 218.675769 \r\nL 368.052946 218.676369 \r\nL 371.191548 218.676908 \r\nL 374.330151 218.677394 \r\nL 377.468753 218.677832 \r\nL 380.607355 218.678225 \r\nL 383.745958 218.67858 \r\nL 386.88456 218.678899 \r\nL 390.023163 218.679186 \r\nL 393.161765 218.679444 \r\nL 396.300367 218.679676 \r\nL 399.43897 218.679886 \r\n\" style=\"fill:none;stroke:#ff0000;stroke-linecap:square;stroke-width:2;\"/>\r\n   </g>\r\n   <g id=\"patch_3\">\r\n    <path d=\"M 73.18125 228.647092 \r\nL 73.18125 9.412117 \r\n\" style=\"fill:none;stroke:#000000;stroke-linecap:square;stroke-linejoin:miter;stroke-width:0.8;\"/>\r\n   </g>\r\n   <g id=\"patch_4\">\r\n    <path d=\"M 414.975052 228.647092 \r\nL 414.975052 9.412117 \r\n\" style=\"fill:none;stroke:#000000;stroke-linecap:square;stroke-linejoin:miter;stroke-width:0.8;\"/>\r\n   </g>\r\n   <g id=\"patch_5\">\r\n    <path d=\"M 73.18125 228.647092 \r\nL 414.975052 228.647092 \r\n\" style=\"fill:none;stroke:#000000;stroke-linecap:square;stroke-linejoin:miter;stroke-width:0.8;\"/>\r\n   </g>\r\n   <g id=\"patch_6\">\r\n    <path d=\"M 73.18125 9.412117 \r\nL 414.975052 9.412117 \r\n\" style=\"fill:none;stroke:#000000;stroke-linecap:square;stroke-linejoin:miter;stroke-width:0.8;\"/>\r\n   </g>\r\n   <g id=\"legend_1\">\r\n    <g id=\"patch_7\">\r\n     <path d=\"M 293.381302 84.124617 \r\nL 400.975052 84.124617 \r\nQ 404.975052 84.124617 404.975052 80.124617 \r\nL 404.975052 23.412117 \r\nQ 404.975052 19.412117 400.975052 19.412117 \r\nL 293.381302 19.412117 \r\nQ 289.381302 19.412117 289.381302 23.412117 \r\nL 289.381302 80.124617 \r\nQ 289.381302 84.124617 293.381302 84.124617 \r\nz\r\n\" style=\"fill:#ffffff;opacity:0.8;stroke:#cccccc;stroke-linejoin:miter;\"/>\r\n    </g>\r\n    <g id=\"line2d_14\">\r\n     <path d=\"M 297.381302 35.608992 \r\nL 337.381302 35.608992 \r\n\" style=\"fill:none;stroke:#0000ff;stroke-dasharray:14.8,6.4;stroke-dashoffset:0;stroke-width:4;\"/>\r\n    </g>\r\n    <g id=\"line2d_15\"/>\r\n    <g id=\"text_14\">\r\n     <!-- GD -->\r\n     <g transform=\"translate(353.381302 42.608992)scale(0.2 -0.2)\">\r\n      <defs>\r\n       <path d=\"M 59.515625 10.40625 \r\nL 59.515625 29.984375 \r\nL 43.40625 29.984375 \r\nL 43.40625 38.09375 \r\nL 69.28125 38.09375 \r\nL 69.28125 6.78125 \r\nQ 63.578125 2.734375 56.6875 0.65625 \r\nQ 49.8125 -1.421875 42 -1.421875 \r\nQ 24.90625 -1.421875 15.25 8.5625 \r\nQ 5.609375 18.5625 5.609375 36.375 \r\nQ 5.609375 54.25 15.25 64.234375 \r\nQ 24.90625 74.21875 42 74.21875 \r\nQ 49.125 74.21875 55.546875 72.453125 \r\nQ 61.96875 70.703125 67.390625 67.28125 \r\nL 67.390625 56.78125 \r\nQ 61.921875 61.421875 55.765625 63.765625 \r\nQ 49.609375 66.109375 42.828125 66.109375 \r\nQ 29.4375 66.109375 22.71875 58.640625 \r\nQ 16.015625 51.171875 16.015625 36.375 \r\nQ 16.015625 21.625 22.71875 14.15625 \r\nQ 29.4375 6.6875 42.828125 6.6875 \r\nQ 48.046875 6.6875 52.140625 7.59375 \r\nQ 56.25 8.5 59.515625 10.40625 \r\nz\r\n\" id=\"DejaVuSans-71\"/>\r\n       <path d=\"M 19.671875 64.796875 \r\nL 19.671875 8.109375 \r\nL 31.59375 8.109375 \r\nQ 46.6875 8.109375 53.6875 14.9375 \r\nQ 60.6875 21.78125 60.6875 36.53125 \r\nQ 60.6875 51.171875 53.6875 57.984375 \r\nQ 46.6875 64.796875 31.59375 64.796875 \r\nz\r\nM 9.8125 72.90625 \r\nL 30.078125 72.90625 \r\nQ 51.265625 72.90625 61.171875 64.09375 \r\nQ 71.09375 55.28125 71.09375 36.53125 \r\nQ 71.09375 17.671875 61.125 8.828125 \r\nQ 51.171875 0 30.078125 0 \r\nL 9.8125 0 \r\nz\r\n\" id=\"DejaVuSans-68\"/>\r\n      </defs>\r\n      <use xlink:href=\"#DejaVuSans-71\"/>\r\n      <use x=\"77.490234\" xlink:href=\"#DejaVuSans-68\"/>\r\n     </g>\r\n    </g>\r\n    <g id=\"line2d_16\">\r\n     <path d=\"M 297.381302 64.965242 \r\nL 337.381302 64.965242 \r\n\" style=\"fill:none;stroke:#ff0000;stroke-linecap:square;stroke-width:2;\"/>\r\n    </g>\r\n    <g id=\"line2d_17\"/>\r\n    <g id=\"text_15\">\r\n     <!-- SGD -->\r\n     <g transform=\"translate(353.381302 71.965242)scale(0.2 -0.2)\">\r\n      <defs>\r\n       <path d=\"M 53.515625 70.515625 \r\nL 53.515625 60.890625 \r\nQ 47.90625 63.578125 42.921875 64.890625 \r\nQ 37.9375 66.21875 33.296875 66.21875 \r\nQ 25.25 66.21875 20.875 63.09375 \r\nQ 16.5 59.96875 16.5 54.203125 \r\nQ 16.5 49.359375 19.40625 46.890625 \r\nQ 22.3125 44.4375 30.421875 42.921875 \r\nL 36.375 41.703125 \r\nQ 47.40625 39.59375 52.65625 34.296875 \r\nQ 57.90625 29 57.90625 20.125 \r\nQ 57.90625 9.515625 50.796875 4.046875 \r\nQ 43.703125 -1.421875 29.984375 -1.421875 \r\nQ 24.8125 -1.421875 18.96875 -0.25 \r\nQ 13.140625 0.921875 6.890625 3.21875 \r\nL 6.890625 13.375 \r\nQ 12.890625 10.015625 18.65625 8.296875 \r\nQ 24.421875 6.59375 29.984375 6.59375 \r\nQ 38.421875 6.59375 43.015625 9.90625 \r\nQ 47.609375 13.234375 47.609375 19.390625 \r\nQ 47.609375 24.75 44.3125 27.78125 \r\nQ 41.015625 30.8125 33.5 32.328125 \r\nL 27.484375 33.5 \r\nQ 16.453125 35.6875 11.515625 40.375 \r\nQ 6.59375 45.0625 6.59375 53.421875 \r\nQ 6.59375 63.09375 13.40625 68.65625 \r\nQ 20.21875 74.21875 32.171875 74.21875 \r\nQ 37.3125 74.21875 42.625 73.28125 \r\nQ 47.953125 72.359375 53.515625 70.515625 \r\nz\r\n\" id=\"DejaVuSans-83\"/>\r\n      </defs>\r\n      <use xlink:href=\"#DejaVuSans-83\"/>\r\n      <use x=\"63.476562\" xlink:href=\"#DejaVuSans-71\"/>\r\n      <use x=\"140.966797\" xlink:href=\"#DejaVuSans-68\"/>\r\n     </g>\r\n    </g>\r\n   </g>\r\n  </g>\r\n </g>\r\n <defs>\r\n  <clipPath id=\"p46d84b8a85\">\r\n   <rect height=\"219.234975\" width=\"341.793802\" x=\"73.18125\" y=\"9.412117\"/>\r\n  </clipPath>\r\n </defs>\r\n</svg>\r\n",
      "image/png": "[encoded data removed]"
     },
     "metadata": {
      "needs_background": "light"
     }
    }
   ],
   "source": [
    "import matplotlib.pyplot as plt\n",
    "%matplotlib inline\n",
    "\n",
    "fig = plt.figure(figsize=(6, 4))\n",
    "\n",
    "epochs_gd = range(len(objvals_gd))\n",
    "epochs_sgd = range(len(objvals_sgd))\n",
    "\n",
    "line0, = plt.plot(epochs_gd, objvals_gd, '--b', linewidth=4)\n",
    "line1, = plt.plot(epochs_sgd, objvals_sgd, '-r', linewidth=2)\n",
    "plt.xlabel('Epochs', fontsize=20)\n",
    "plt.ylabel('Objective Value', fontsize=20)\n",
    "plt.xticks(fontsize=16)\n",
    "plt.yticks(fontsize=16)\n",
    "plt.legend([line0, line1], ['GD', 'SGD'], fontsize=20)\n",
    "plt.tight_layout()\n",
    "plt.show()\n",
    "fig.savefig('compare_gd_sgd.pdf', format='pdf', dpi=1200)"
   ]
  },
  {
   "cell_type": "markdown",
   "metadata": {},
   "source": [
    "# 5. Prediction"
   ]
  },
  {
   "cell_type": "code",
   "execution_count": 69,
   "metadata": {},
   "outputs": [],
   "source": [
    "# Predict class label\n",
    "# Inputs:\n",
    "#     w: d-by-1 matrix\n",
    "#     X: m-by-d matrix\n",
    "# Return:\n",
    "#     f: m-by-1 matrix, the predictions\n",
    "def predict(w, X):\n",
    "    xw = numpy.dot(X, w)\n",
    "    f = numpy.sign(xw)\n",
    "    return f"
   ]
  },
  {
   "cell_type": "code",
   "execution_count": 70,
   "metadata": {},
   "outputs": [
    {
     "output_type": "stream",
     "name": "stdout",
     "text": [
      "Training classification error is 0.21875\n"
     ]
    }
   ],
   "source": [
    "# evaluate training error\n",
    "f_train = predict(w, x_train)\n",
    "diff = numpy.abs(f_train - y_train) / 2\n",
    "error_train = numpy.mean(diff)\n",
    "print('Training classification error is ' + str(error_train))"
   ]
  },
  {
   "cell_type": "code",
   "execution_count": 71,
   "metadata": {},
   "outputs": [
    {
     "output_type": "stream",
     "name": "stdout",
     "text": [
      "Test classification error is 0.2421875\n"
     ]
    }
   ],
   "source": [
    "# evaluate test error\n",
    "f_test = predict(w, x_test)\n",
    "diff = numpy.abs(f_test - y_test) / 2\n",
    "error_test = numpy.mean(diff)\n",
    "print('Test classification error is ' + str(error_test))"
   ]
  },
  {
   "cell_type": "markdown",
   "metadata": {},
   "source": [
    "# 6. Mini-batch SGD (fill the code)\n",
    "\n"
   ]
  },
  {
   "cell_type": "markdown",
   "metadata": {},
   "source": [
    "## 6.1. Compute the objective $Q_I$ and its gradient using a batch of samples\n",
    "\n",
    "Define $Q_I (w) = \\frac{1}{b} \\sum_{i \\in I} \\log \\Big( 1 + \\exp \\big( - y_i x_i^T w \\big) \\Big) + \\frac{\\lambda}{2} \\| w \\|_2^2 $, where $I$ is a set containing $b$ indices randomly drawn from $\\{ 1, \\cdots , n \\}$ without replacement.\n",
    "\n",
    "The stochastic gradient at $w$ is $g_I = \\frac{\\partial Q_I }{ \\partial w} = \\frac{1}{b} \\sum_{i \\in I} \\frac{- y_i x_i }{1 + \\exp ( y_i x_i^T w)} + \\lambda w$."
   ]
  },
  {
   "cell_type": "code",
   "execution_count": 72,
   "metadata": {},
   "outputs": [],
   "source": [
    "# Calculate the objective Q_I and the gradient of Q_I\n",
    "# Inputs:\n",
    "#     w: d-by-1 matrix\n",
    "#     xi: b-by-d matrix\n",
    "#     yi: b-by-1 matrix\n",
    "#     lam: scalar, the regularization parameter\n",
    "#     b: integer, the batch size\n",
    "# Return:\n",
    "#     obj: scalar, the objective Q_i\n",
    "#     g: d-by-1 matrix, gradient of Q_i\n",
    "def mb_stochastic_objective_gradient(w, xi, yi, lam, b):\n",
    "    # Fill the function\n",
    "    # Follow the implementation of stochastic_objective_gradient\n",
    "    # Use matrix-vector multiplication; do not use FOR LOOP of vector-vector multiplications\n",
    "    yx = numpy.multiply(yi, xi)\n",
    "    yxw = numpy.dot(yx, w)\n",
    "\n",
    "    obj_vec1 = numpy.log(1 + numpy.exp(-yxw))\n",
    "    obj_loss = numpy.mean(obj_vec1)\n",
    "    obj = obj_loss + lam / 2 * numpy.sum(w * w)\n",
    "\n",
    "    g_vec1 = numpy.divide(yx, 1 + numpy.exp(yxw))\n",
    "    g_loss = -numpy.mean(g_vec1, axis=0).reshape(d, 1)\n",
    "    g = g_loss + lam * w\n",
    "\n",
    "    return obj, g"
   ]
  },
  {
   "cell_type": "markdown",
   "metadata": {},
   "source": [
    "## 6.2. Implement mini-batch SGD\n",
    "\n",
    "Hints:\n",
    "1. In every epoch, randomly permute the $n$ samples (just like SGD).\n",
    "2. Each epoch has $\\frac{n}{b}$ iterations. In every iteration, use $b$ samples, and compute the gradient and objective using the ``mb_stochastic_objective_gradient`` function. In the next iteration, use the next $b$ samples, and so on.\n"
   ]
  },
  {
   "cell_type": "code",
   "execution_count": 73,
   "metadata": {},
   "outputs": [],
   "source": [
    "# Mini-Batch SGD for solving logistic regression\n",
    "# Inputs:\n",
    "#     x: n-by-d matrix\n",
    "#     y: n-by-1 matrix\n",
    "#     lam: scalar, the regularization parameter\n",
    "#     b: integer, the batch size\n",
    "#     stepsize: scalar\n",
    "#     max_epoch: integer, the maximal epochs\n",
    "#     w: d-by-1 matrix, initialization of w\n",
    "# Return:\n",
    "#     w: the solution\n",
    "#     objvals: record of each iteration's objective value\n",
    "def mb_sgd(x, y, lam, b, stepsize, max_epoch=100, w=None):\n",
    "    # Fill the function\n",
    "    # Follow the implementation of sgd\n",
    "    # Record one objective value per epoch (not per iteration!)\n",
    "    n, d = x.shape\n",
    "    objvals = numpy.zeros(max_epoch)\n",
    "    if w is None:\n",
    "        w = numpy.zeros((d, 1))\n",
    "\n",
    "    for t in range(max_epoch):\n",
    "        rand_indices = numpy.random.permutation(n)\n",
    "        x_rand = x[rand_indices, :]\n",
    "        y_rand = y[rand_indices, :]\n",
    "\n",
    "        objval = 0\n",
    "        batch_indices = list(range(0, n - b + 1, b))\n",
    "        for i in batch_indices:\n",
    "            xi = x_rand[i : i+b, :]\n",
    "            yi = y_rand[i : i+b, :]\n",
    "            obj, g = mb_stochastic_objective_gradient(w, xi, yi, lam, b)\n",
    "            objval += obj\n",
    "            w -= stepsize * g\n",
    "\n",
    "        stepsize *= 0.9\n",
    "        objval /= len(batch_indices)\n",
    "        objvals[t] = objval\n",
    "        print(f'Objective value at epoch t= {t} is {objval}')\n",
    "    \n",
    "    return w, objvals"
   ]
  },
  {
   "cell_type": "markdown",
   "metadata": {},
   "source": [
    "## 6.3. Run MB-SGD"
   ]
  },
  {
   "cell_type": "code",
   "execution_count": 74,
   "metadata": {},
   "outputs": [
    {
     "output_type": "stream",
     "name": "stdout",
     "text": [
      "Objective value at epoch t= 0 is 0.5155452904843912\n",
      "Objective value at epoch t= 1 is 0.4849141972886935\n",
      "Objective value at epoch t= 2 is 0.48376697775404676\n",
      "Objective value at epoch t= 3 is 0.4766070357107167\n",
      "Objective value at epoch t= 4 is 0.47913823122697774\n",
      "Objective value at epoch t= 5 is 0.47931068983951164\n",
      "Objective value at epoch t= 6 is 0.47591207817827674\n",
      "Objective value at epoch t= 7 is 0.4767609243031866\n",
      "Objective value at epoch t= 8 is 0.4754395901576361\n",
      "Objective value at epoch t= 9 is 0.4752652606652606\n",
      "Objective value at epoch t= 10 is 0.47448795109259373\n",
      "Objective value at epoch t= 11 is 0.47412588176466014\n",
      "Objective value at epoch t= 12 is 0.4735496031609524\n",
      "Objective value at epoch t= 13 is 0.47343293694114347\n",
      "Objective value at epoch t= 14 is 0.4729075428286434\n",
      "Objective value at epoch t= 15 is 0.47263090127482316\n",
      "Objective value at epoch t= 16 is 0.4723409439092139\n",
      "Objective value at epoch t= 17 is 0.4718963107582293\n",
      "Objective value at epoch t= 18 is 0.4713839018562445\n",
      "Objective value at epoch t= 19 is 0.4714039456476297\n",
      "Objective value at epoch t= 20 is 0.4712796893117779\n",
      "Objective value at epoch t= 21 is 0.47098053031494774\n",
      "Objective value at epoch t= 22 is 0.47083308142582\n",
      "Objective value at epoch t= 23 is 0.4707795146138366\n",
      "Objective value at epoch t= 24 is 0.47069134721935313\n",
      "Objective value at epoch t= 25 is 0.4704478605311042\n",
      "Objective value at epoch t= 26 is 0.4703366462889189\n",
      "Objective value at epoch t= 27 is 0.47022947193718895\n",
      "Objective value at epoch t= 28 is 0.47006212838808004\n",
      "Objective value at epoch t= 29 is 0.4700188617399301\n",
      "Objective value at epoch t= 30 is 0.46996683499431124\n",
      "Objective value at epoch t= 31 is 0.4699188774095866\n",
      "Objective value at epoch t= 32 is 0.46979974140020275\n",
      "Objective value at epoch t= 33 is 0.4697631306710289\n",
      "Objective value at epoch t= 34 is 0.46963986532488233\n",
      "Objective value at epoch t= 35 is 0.46960473717675877\n",
      "Objective value at epoch t= 36 is 0.4695590228709981\n",
      "Objective value at epoch t= 37 is 0.46956246872099694\n",
      "Objective value at epoch t= 38 is 0.46948628635856016\n",
      "Objective value at epoch t= 39 is 0.4694901439191909\n",
      "Objective value at epoch t= 40 is 0.4694535335912762\n",
      "Objective value at epoch t= 41 is 0.4694352999150532\n",
      "Objective value at epoch t= 42 is 0.46940447588841183\n",
      "Objective value at epoch t= 43 is 0.46938661649257296\n",
      "Objective value at epoch t= 44 is 0.4693668083715069\n",
      "Objective value at epoch t= 45 is 0.46933260514136405\n",
      "Objective value at epoch t= 46 is 0.46934116637360435\n",
      "Objective value at epoch t= 47 is 0.46932118219938024\n",
      "Objective value at epoch t= 48 is 0.46930029774195264\n",
      "Objective value at epoch t= 49 is 0.46928581438468164\n",
      "Objective value at epoch t= 50 is 0.46928245208998076\n",
      "Objective value at epoch t= 51 is 0.4692747268204531\n",
      "Objective value at epoch t= 52 is 0.469265128446162\n",
      "Objective value at epoch t= 53 is 0.4692588725794161\n",
      "Objective value at epoch t= 54 is 0.4692517078683399\n",
      "Objective value at epoch t= 55 is 0.4692460694550398\n",
      "Objective value at epoch t= 56 is 0.46923996783840505\n",
      "Objective value at epoch t= 57 is 0.4692396639532159\n",
      "Objective value at epoch t= 58 is 0.46923128541349557\n",
      "Objective value at epoch t= 59 is 0.4692296140829494\n",
      "Objective value at epoch t= 60 is 0.4692278620318027\n",
      "Objective value at epoch t= 61 is 0.4692229243947949\n",
      "Objective value at epoch t= 62 is 0.46922179173431744\n",
      "Objective value at epoch t= 63 is 0.46921746820206456\n",
      "Objective value at epoch t= 64 is 0.46921811037732636\n",
      "Objective value at epoch t= 65 is 0.4692131300547414\n",
      "Objective value at epoch t= 66 is 0.4692110912273762\n",
      "Objective value at epoch t= 67 is 0.4692090077379527\n",
      "Objective value at epoch t= 68 is 0.46920791987474575\n",
      "Objective value at epoch t= 69 is 0.4692062899293262\n",
      "Objective value at epoch t= 70 is 0.46920605573737983\n",
      "Objective value at epoch t= 71 is 0.46920505414515257\n",
      "Objective value at epoch t= 72 is 0.46920383031346874\n",
      "Objective value at epoch t= 73 is 0.4692025234569381\n",
      "Objective value at epoch t= 74 is 0.46920169007337265\n",
      "Objective value at epoch t= 75 is 0.46920117632946584\n",
      "Objective value at epoch t= 76 is 0.4692002239638617\n",
      "Objective value at epoch t= 77 is 0.4691994660571238\n",
      "Objective value at epoch t= 78 is 0.4691996556827432\n",
      "Objective value at epoch t= 79 is 0.4691988082932335\n",
      "Objective value at epoch t= 80 is 0.46919852469724554\n",
      "Objective value at epoch t= 81 is 0.46919817867091573\n",
      "Objective value at epoch t= 82 is 0.46919805127049424\n",
      "Objective value at epoch t= 83 is 0.4691975389645663\n",
      "Objective value at epoch t= 84 is 0.4691971389486633\n",
      "Objective value at epoch t= 85 is 0.46919697636675084\n",
      "Objective value at epoch t= 86 is 0.4691966217818416\n",
      "Objective value at epoch t= 87 is 0.4691964968347751\n",
      "Objective value at epoch t= 88 is 0.46919632526389643\n",
      "Objective value at epoch t= 89 is 0.46919603884324046\n",
      "Objective value at epoch t= 90 is 0.4691959259198669\n",
      "Objective value at epoch t= 91 is 0.4691959445826853\n",
      "Objective value at epoch t= 92 is 0.46919585617565174\n",
      "Objective value at epoch t= 93 is 0.4691956156581279\n",
      "Objective value at epoch t= 94 is 0.469195511797624\n",
      "Objective value at epoch t= 95 is 0.4691953936855159\n",
      "Objective value at epoch t= 96 is 0.46919539888897555\n",
      "Objective value at epoch t= 97 is 0.4691952886902606\n",
      "Objective value at epoch t= 98 is 0.46919523910594607\n",
      "Objective value at epoch t= 99 is 0.4691952328383941\n"
     ]
    }
   ],
   "source": [
    "# MB-SGD with batch size b=8\n",
    "lam = 1E-6 # do not change\n",
    "b = 8 # do not change\n",
    "stepsize = 0.2 # you must tune this parameter\n",
    "\n",
    "w, objvals_mbsgd8 = mb_sgd(x_train, y_train, lam, b, stepsize)"
   ]
  },
  {
   "cell_type": "code",
   "execution_count": 75,
   "metadata": {},
   "outputs": [
    {
     "output_type": "stream",
     "name": "stdout",
     "text": [
      "Objective value at epoch t= 0 is 0.5451028341225491\n",
      "Objective value at epoch t= 1 is 0.48354544837876806\n",
      "Objective value at epoch t= 2 is 0.4764575322956223\n",
      "Objective value at epoch t= 3 is 0.4772351938331577\n",
      "Objective value at epoch t= 4 is 0.4743523892933322\n",
      "Objective value at epoch t= 5 is 0.474065486355987\n",
      "Objective value at epoch t= 6 is 0.47382353570508273\n",
      "Objective value at epoch t= 7 is 0.4718354857158264\n",
      "Objective value at epoch t= 8 is 0.4724902340540037\n",
      "Objective value at epoch t= 9 is 0.47220585308680246\n",
      "Objective value at epoch t= 10 is 0.47148547691416065\n",
      "Objective value at epoch t= 11 is 0.4712939418966758\n",
      "Objective value at epoch t= 12 is 0.4713500979755244\n",
      "Objective value at epoch t= 13 is 0.4709498978428788\n",
      "Objective value at epoch t= 14 is 0.4709955105093841\n",
      "Objective value at epoch t= 15 is 0.4707877054710785\n",
      "Objective value at epoch t= 16 is 0.47018408597168887\n",
      "Objective value at epoch t= 17 is 0.4702871346788987\n",
      "Objective value at epoch t= 18 is 0.4703948687283999\n",
      "Objective value at epoch t= 19 is 0.4701731881849735\n",
      "Objective value at epoch t= 20 is 0.47001760215370203\n",
      "Objective value at epoch t= 21 is 0.47007140926298885\n",
      "Objective value at epoch t= 22 is 0.4700707193565131\n",
      "Objective value at epoch t= 23 is 0.4698445056064533\n",
      "Objective value at epoch t= 24 is 0.4699850376378589\n",
      "Objective value at epoch t= 25 is 0.46986651089482623\n",
      "Objective value at epoch t= 26 is 0.4696719782848128\n",
      "Objective value at epoch t= 27 is 0.4697136581399956\n",
      "Objective value at epoch t= 28 is 0.4695423463121977\n",
      "Objective value at epoch t= 29 is 0.46955637010195306\n",
      "Objective value at epoch t= 30 is 0.46947021126353705\n",
      "Objective value at epoch t= 31 is 0.4694389565399547\n",
      "Objective value at epoch t= 32 is 0.4693702416585378\n",
      "Objective value at epoch t= 33 is 0.46952716431287234\n",
      "Objective value at epoch t= 34 is 0.4694187291387066\n",
      "Objective value at epoch t= 35 is 0.4693292743188298\n",
      "Objective value at epoch t= 36 is 0.4694061529859298\n",
      "Objective value at epoch t= 37 is 0.4693164881110808\n",
      "Objective value at epoch t= 38 is 0.46929608109100335\n",
      "Objective value at epoch t= 39 is 0.46931821159732445\n",
      "Objective value at epoch t= 40 is 0.46930911491721183\n",
      "Objective value at epoch t= 41 is 0.4692806854859441\n",
      "Objective value at epoch t= 42 is 0.4692911752232393\n",
      "Objective value at epoch t= 43 is 0.46927192276133534\n",
      "Objective value at epoch t= 44 is 0.4692670988220491\n",
      "Objective value at epoch t= 45 is 0.4693113160934942\n",
      "Objective value at epoch t= 46 is 0.4692604367646296\n",
      "Objective value at epoch t= 47 is 0.4692468545521459\n",
      "Objective value at epoch t= 48 is 0.46925297820901096\n",
      "Objective value at epoch t= 49 is 0.46923716056129916\n",
      "Objective value at epoch t= 50 is 0.46923401242854446\n",
      "Objective value at epoch t= 51 is 0.4692426446815266\n",
      "Objective value at epoch t= 52 is 0.4692200510560368\n",
      "Objective value at epoch t= 53 is 0.46923473451277686\n",
      "Objective value at epoch t= 54 is 0.46922409204802545\n",
      "Objective value at epoch t= 55 is 0.4692184575912098\n",
      "Objective value at epoch t= 56 is 0.46921368794739166\n",
      "Objective value at epoch t= 57 is 0.4692174709808925\n",
      "Objective value at epoch t= 58 is 0.469214009305269\n",
      "Objective value at epoch t= 59 is 0.4692167112369273\n",
      "Objective value at epoch t= 60 is 0.46921169674642166\n",
      "Objective value at epoch t= 61 is 0.4692078068701326\n",
      "Objective value at epoch t= 62 is 0.4692097292945577\n",
      "Objective value at epoch t= 63 is 0.46920710639176305\n",
      "Objective value at epoch t= 64 is 0.46920503173620787\n",
      "Objective value at epoch t= 65 is 0.46920500893253286\n",
      "Objective value at epoch t= 66 is 0.46920209550282743\n",
      "Objective value at epoch t= 67 is 0.4692029692767258\n",
      "Objective value at epoch t= 68 is 0.4692019418457714\n",
      "Objective value at epoch t= 69 is 0.46920274700279985\n",
      "Objective value at epoch t= 70 is 0.46920043939555633\n",
      "Objective value at epoch t= 71 is 0.4691999365825854\n",
      "Objective value at epoch t= 72 is 0.4691999484614781\n",
      "Objective value at epoch t= 73 is 0.46919932427386124\n",
      "Objective value at epoch t= 74 is 0.46919966842495703\n",
      "Objective value at epoch t= 75 is 0.4691997369816551\n",
      "Objective value at epoch t= 76 is 0.46919790387276833\n",
      "Objective value at epoch t= 77 is 0.469197896264142\n",
      "Objective value at epoch t= 78 is 0.4691971395943108\n",
      "Objective value at epoch t= 79 is 0.46919752542928406\n",
      "Objective value at epoch t= 80 is 0.469197450639646\n",
      "Objective value at epoch t= 81 is 0.4691968318112461\n",
      "Objective value at epoch t= 82 is 0.4691968683228418\n",
      "Objective value at epoch t= 83 is 0.4691969413216871\n",
      "Objective value at epoch t= 84 is 0.4691966635939223\n",
      "Objective value at epoch t= 85 is 0.469196459506505\n",
      "Objective value at epoch t= 86 is 0.4691966004568157\n",
      "Objective value at epoch t= 87 is 0.46919617721867574\n",
      "Objective value at epoch t= 88 is 0.469196213214982\n",
      "Objective value at epoch t= 89 is 0.46919609954699554\n",
      "Objective value at epoch t= 90 is 0.4691961274137729\n",
      "Objective value at epoch t= 91 is 0.46919600558638175\n",
      "Objective value at epoch t= 92 is 0.4691960681288833\n",
      "Objective value at epoch t= 93 is 0.46919598770004034\n",
      "Objective value at epoch t= 94 is 0.4691958697403491\n",
      "Objective value at epoch t= 95 is 0.469195917075141\n",
      "Objective value at epoch t= 96 is 0.46919588876231577\n",
      "Objective value at epoch t= 97 is 0.4691959457053129\n",
      "Objective value at epoch t= 98 is 0.46919574562342065\n",
      "Objective value at epoch t= 99 is 0.4691957881508754\n"
     ]
    }
   ],
   "source": [
    "# MB-SGD with batch size b=64\n",
    "lam = 1E-6 # do not change\n",
    "b = 64 # do not change\n",
    "stepsize = 0.8 # you must tune this parameter\n",
    "\n",
    "w, objvals_mbsgd64 = mb_sgd(x_train, y_train, lam, b, stepsize)"
   ]
  },
  {
   "cell_type": "markdown",
   "metadata": {},
   "source": [
    "# 7. Plot and compare GD, SGD, and MB-SGD"
   ]
  },
  {
   "cell_type": "markdown",
   "metadata": {},
   "source": [
    "You are required to compare the following algorithms:\n",
    "\n",
    "- Gradient descent (GD)\n",
    "\n",
    "- SGD\n",
    "\n",
    "- MB-SGD with b=8\n",
    "\n",
    "- MB-SGD with b=64\n",
    "\n",
    "Follow the code in Section 4 to plot ```objective function value``` against ```epochs```. There should be four curves in the plot; each curve corresponds to one algorithm."
   ]
  },
  {
   "cell_type": "markdown",
   "metadata": {},
   "source": [
    "Hint: Logistic regression with $\\ell_2$-norm regularization is a strongly convex optimization problem. All the algorithms will converge to the same solution. **In the end, the ``objective function value`` of the 4 algorithms will be the same. If not the same, your implementation must be wrong. Do NOT submit wrong code and wrong result!**"
   ]
  },
  {
   "cell_type": "code",
   "execution_count": 76,
   "metadata": {},
   "outputs": [
    {
     "output_type": "display_data",
     "data": {
      "text/plain": "<Figure size 432x288 with 1 Axes>",
      "image/svg+xml": "<?xml version=\"1.0\" encoding=\"utf-8\" standalone=\"no\"?>\r\n<!DOCTYPE svg PUBLIC \"-//W3C//DTD SVG 1.1//EN\"\r\n  \"http://www.w3.org/Graphics/SVG/1.1/DTD/svg11.dtd\">\r\n<!-- Created with matplotlib (https://matplotlib.org/) -->\r\n<svg height=\"281.688342pt\" version=\"1.1\" viewBox=\"0 0 425.047572 281.688342\" width=\"425.047572pt\" xmlns=\"http://www.w3.org/2000/svg\" xmlns:xlink=\"http://www.w3.org/1999/xlink\">\r\n <metadata>\r\n  <rdf:RDF xmlns:cc=\"http://creativecommons.org/ns#\" xmlns:dc=\"http://purl.org/dc/elements/1.1/\" xmlns:rdf=\"http://www.w3.org/1999/02/22-rdf-syntax-ns#\">\r\n   <cc:Work>\r\n    <dc:type rdf:resource=\"http://purl.org/dc/dcmitype/StillImage\"/>\r\n    <dc:date>2021-03-07T13:12:28.738141</dc:date>\r\n    <dc:format>image/svg+xml</dc:format>\r\n    <dc:creator>\r\n     <cc:Agent>\r\n      <dc:title>Matplotlib v3.3.3, https://matplotlib.org/</dc:title>\r\n     </cc:Agent>\r\n    </dc:creator>\r\n   </cc:Work>\r\n  </rdf:RDF>\r\n </metadata>\r\n <defs>\r\n  <style type=\"text/css\">*{stroke-linecap:butt;stroke-linejoin:round;}</style>\r\n </defs>\r\n <g id=\"figure_1\">\r\n  <g id=\"patch_1\">\r\n   <path d=\"M 0 281.688342 \r\nL 425.047572 281.688342 \r\nL 425.047572 0 \r\nL 0 0 \r\nz\r\n\" style=\"fill:none;\"/>\r\n  </g>\r\n  <g id=\"axes_1\">\r\n   <g id=\"patch_2\">\r\n    <path d=\"M 73.18125 228.647092 \r\nL 414.975052 228.647092 \r\nL 414.975052 9.412117 \r\nL 73.18125 9.412117 \r\nz\r\n\" style=\"fill:#ffffff;\"/>\r\n   </g>\r\n   <g id=\"matplotlib.axis_1\">\r\n    <g id=\"xtick_1\">\r\n     <g id=\"line2d_1\">\r\n      <defs>\r\n       <path d=\"M 0 0 \r\nL 0 3.5 \r\n\" id=\"m081f477025\" style=\"stroke:#000000;stroke-width:0.8;\"/>\r\n      </defs>\r\n      <g>\r\n       <use style=\"stroke:#000000;stroke-width:0.8;\" x=\"88.717332\" xlink:href=\"#m081f477025\" y=\"228.647092\"/>\r\n      </g>\r\n     </g>\r\n     <g id=\"text_1\">\r\n      <!-- 0 -->\r\n      <g transform=\"translate(83.627332 247.804592)scale(0.16 -0.16)\">\r\n       <defs>\r\n        <path d=\"M 31.78125 66.40625 \r\nQ 24.171875 66.40625 20.328125 58.90625 \r\nQ 16.5 51.421875 16.5 36.375 \r\nQ 16.5 21.390625 20.328125 13.890625 \r\nQ 24.171875 6.390625 31.78125 6.390625 \r\nQ 39.453125 6.390625 43.28125 13.890625 \r\nQ 47.125 21.390625 47.125 36.375 \r\nQ 47.125 51.421875 43.28125 58.90625 \r\nQ 39.453125 66.40625 31.78125 66.40625 \r\nz\r\nM 31.78125 74.21875 \r\nQ 44.046875 74.21875 50.515625 64.515625 \r\nQ 56.984375 54.828125 56.984375 36.375 \r\nQ 56.984375 17.96875 50.515625 8.265625 \r\nQ 44.046875 -1.421875 31.78125 -1.421875 \r\nQ 19.53125 -1.421875 13.0625 8.265625 \r\nQ 6.59375 17.96875 6.59375 36.375 \r\nQ 6.59375 54.828125 13.0625 64.515625 \r\nQ 19.53125 74.21875 31.78125 74.21875 \r\nz\r\n\" id=\"DejaVuSans-48\"/>\r\n       </defs>\r\n       <use xlink:href=\"#DejaVuSans-48\"/>\r\n      </g>\r\n     </g>\r\n    </g>\r\n    <g id=\"xtick_2\">\r\n     <g id=\"line2d_2\">\r\n      <g>\r\n       <use style=\"stroke:#000000;stroke-width:0.8;\" x=\"151.48938\" xlink:href=\"#m081f477025\" y=\"228.647092\"/>\r\n      </g>\r\n     </g>\r\n     <g id=\"text_2\">\r\n      <!-- 20 -->\r\n      <g transform=\"translate(141.30938 247.804592)scale(0.16 -0.16)\">\r\n       <defs>\r\n        <path d=\"M 19.1875 8.296875 \r\nL 53.609375 8.296875 \r\nL 53.609375 0 \r\nL 7.328125 0 \r\nL 7.328125 8.296875 \r\nQ 12.9375 14.109375 22.625 23.890625 \r\nQ 32.328125 33.6875 34.8125 36.53125 \r\nQ 39.546875 41.84375 41.421875 45.53125 \r\nQ 43.3125 49.21875 43.3125 52.78125 \r\nQ 43.3125 58.59375 39.234375 62.25 \r\nQ 35.15625 65.921875 28.609375 65.921875 \r\nQ 23.96875 65.921875 18.8125 64.3125 \r\nQ 13.671875 62.703125 7.8125 59.421875 \r\nL 7.8125 69.390625 \r\nQ 13.765625 71.78125 18.9375 73 \r\nQ 24.125 74.21875 28.421875 74.21875 \r\nQ 39.75 74.21875 46.484375 68.546875 \r\nQ 53.21875 62.890625 53.21875 53.421875 \r\nQ 53.21875 48.921875 51.53125 44.890625 \r\nQ 49.859375 40.875 45.40625 35.40625 \r\nQ 44.1875 33.984375 37.640625 27.21875 \r\nQ 31.109375 20.453125 19.1875 8.296875 \r\nz\r\n\" id=\"DejaVuSans-50\"/>\r\n       </defs>\r\n       <use xlink:href=\"#DejaVuSans-50\"/>\r\n       <use x=\"63.623047\" xlink:href=\"#DejaVuSans-48\"/>\r\n      </g>\r\n     </g>\r\n    </g>\r\n    <g id=\"xtick_3\">\r\n     <g id=\"line2d_3\">\r\n      <g>\r\n       <use style=\"stroke:#000000;stroke-width:0.8;\" x=\"214.261428\" xlink:href=\"#m081f477025\" y=\"228.647092\"/>\r\n      </g>\r\n     </g>\r\n     <g id=\"text_3\">\r\n      <!-- 40 -->\r\n      <g transform=\"translate(204.081428 247.804592)scale(0.16 -0.16)\">\r\n       <defs>\r\n        <path d=\"M 37.796875 64.3125 \r\nL 12.890625 25.390625 \r\nL 37.796875 25.390625 \r\nz\r\nM 35.203125 72.90625 \r\nL 47.609375 72.90625 \r\nL 47.609375 25.390625 \r\nL 58.015625 25.390625 \r\nL 58.015625 17.1875 \r\nL 47.609375 17.1875 \r\nL 47.609375 0 \r\nL 37.796875 0 \r\nL 37.796875 17.1875 \r\nL 4.890625 17.1875 \r\nL 4.890625 26.703125 \r\nz\r\n\" id=\"DejaVuSans-52\"/>\r\n       </defs>\r\n       <use xlink:href=\"#DejaVuSans-52\"/>\r\n       <use x=\"63.623047\" xlink:href=\"#DejaVuSans-48\"/>\r\n      </g>\r\n     </g>\r\n    </g>\r\n    <g id=\"xtick_4\">\r\n     <g id=\"line2d_4\">\r\n      <g>\r\n       <use style=\"stroke:#000000;stroke-width:0.8;\" x=\"277.033476\" xlink:href=\"#m081f477025\" y=\"228.647092\"/>\r\n      </g>\r\n     </g>\r\n     <g id=\"text_4\">\r\n      <!-- 60 -->\r\n      <g transform=\"translate(266.853476 247.804592)scale(0.16 -0.16)\">\r\n       <defs>\r\n        <path d=\"M 33.015625 40.375 \r\nQ 26.375 40.375 22.484375 35.828125 \r\nQ 18.609375 31.296875 18.609375 23.390625 \r\nQ 18.609375 15.53125 22.484375 10.953125 \r\nQ 26.375 6.390625 33.015625 6.390625 \r\nQ 39.65625 6.390625 43.53125 10.953125 \r\nQ 47.40625 15.53125 47.40625 23.390625 \r\nQ 47.40625 31.296875 43.53125 35.828125 \r\nQ 39.65625 40.375 33.015625 40.375 \r\nz\r\nM 52.59375 71.296875 \r\nL 52.59375 62.3125 \r\nQ 48.875 64.0625 45.09375 64.984375 \r\nQ 41.3125 65.921875 37.59375 65.921875 \r\nQ 27.828125 65.921875 22.671875 59.328125 \r\nQ 17.53125 52.734375 16.796875 39.40625 \r\nQ 19.671875 43.65625 24.015625 45.921875 \r\nQ 28.375 48.1875 33.59375 48.1875 \r\nQ 44.578125 48.1875 50.953125 41.515625 \r\nQ 57.328125 34.859375 57.328125 23.390625 \r\nQ 57.328125 12.15625 50.6875 5.359375 \r\nQ 44.046875 -1.421875 33.015625 -1.421875 \r\nQ 20.359375 -1.421875 13.671875 8.265625 \r\nQ 6.984375 17.96875 6.984375 36.375 \r\nQ 6.984375 53.65625 15.1875 63.9375 \r\nQ 23.390625 74.21875 37.203125 74.21875 \r\nQ 40.921875 74.21875 44.703125 73.484375 \r\nQ 48.484375 72.75 52.59375 71.296875 \r\nz\r\n\" id=\"DejaVuSans-54\"/>\r\n       </defs>\r\n       <use xlink:href=\"#DejaVuSans-54\"/>\r\n       <use x=\"63.623047\" xlink:href=\"#DejaVuSans-48\"/>\r\n      </g>\r\n     </g>\r\n    </g>\r\n    <g id=\"xtick_5\">\r\n     <g id=\"line2d_5\">\r\n      <g>\r\n       <use style=\"stroke:#000000;stroke-width:0.8;\" x=\"339.805524\" xlink:href=\"#m081f477025\" y=\"228.647092\"/>\r\n      </g>\r\n     </g>\r\n     <g id=\"text_5\">\r\n      <!-- 80 -->\r\n      <g transform=\"translate(329.625524 247.804592)scale(0.16 -0.16)\">\r\n       <defs>\r\n        <path d=\"M 31.78125 34.625 \r\nQ 24.75 34.625 20.71875 30.859375 \r\nQ 16.703125 27.09375 16.703125 20.515625 \r\nQ 16.703125 13.921875 20.71875 10.15625 \r\nQ 24.75 6.390625 31.78125 6.390625 \r\nQ 38.8125 6.390625 42.859375 10.171875 \r\nQ 46.921875 13.96875 46.921875 20.515625 \r\nQ 46.921875 27.09375 42.890625 30.859375 \r\nQ 38.875 34.625 31.78125 34.625 \r\nz\r\nM 21.921875 38.8125 \r\nQ 15.578125 40.375 12.03125 44.71875 \r\nQ 8.5 49.078125 8.5 55.328125 \r\nQ 8.5 64.0625 14.71875 69.140625 \r\nQ 20.953125 74.21875 31.78125 74.21875 \r\nQ 42.671875 74.21875 48.875 69.140625 \r\nQ 55.078125 64.0625 55.078125 55.328125 \r\nQ 55.078125 49.078125 51.53125 44.71875 \r\nQ 48 40.375 41.703125 38.8125 \r\nQ 48.828125 37.15625 52.796875 32.3125 \r\nQ 56.78125 27.484375 56.78125 20.515625 \r\nQ 56.78125 9.90625 50.3125 4.234375 \r\nQ 43.84375 -1.421875 31.78125 -1.421875 \r\nQ 19.734375 -1.421875 13.25 4.234375 \r\nQ 6.78125 9.90625 6.78125 20.515625 \r\nQ 6.78125 27.484375 10.78125 32.3125 \r\nQ 14.796875 37.15625 21.921875 38.8125 \r\nz\r\nM 18.3125 54.390625 \r\nQ 18.3125 48.734375 21.84375 45.5625 \r\nQ 25.390625 42.390625 31.78125 42.390625 \r\nQ 38.140625 42.390625 41.71875 45.5625 \r\nQ 45.3125 48.734375 45.3125 54.390625 \r\nQ 45.3125 60.0625 41.71875 63.234375 \r\nQ 38.140625 66.40625 31.78125 66.40625 \r\nQ 25.390625 66.40625 21.84375 63.234375 \r\nQ 18.3125 60.0625 18.3125 54.390625 \r\nz\r\n\" id=\"DejaVuSans-56\"/>\r\n       </defs>\r\n       <use xlink:href=\"#DejaVuSans-56\"/>\r\n       <use x=\"63.623047\" xlink:href=\"#DejaVuSans-48\"/>\r\n      </g>\r\n     </g>\r\n    </g>\r\n    <g id=\"xtick_6\">\r\n     <g id=\"line2d_6\">\r\n      <g>\r\n       <use style=\"stroke:#000000;stroke-width:0.8;\" x=\"402.577572\" xlink:href=\"#m081f477025\" y=\"228.647092\"/>\r\n      </g>\r\n     </g>\r\n     <g id=\"text_6\">\r\n      <!-- 100 -->\r\n      <g transform=\"translate(387.307572 247.804592)scale(0.16 -0.16)\">\r\n       <defs>\r\n        <path d=\"M 12.40625 8.296875 \r\nL 28.515625 8.296875 \r\nL 28.515625 63.921875 \r\nL 10.984375 60.40625 \r\nL 10.984375 69.390625 \r\nL 28.421875 72.90625 \r\nL 38.28125 72.90625 \r\nL 38.28125 8.296875 \r\nL 54.390625 8.296875 \r\nL 54.390625 0 \r\nL 12.40625 0 \r\nz\r\n\" id=\"DejaVuSans-49\"/>\r\n       </defs>\r\n       <use xlink:href=\"#DejaVuSans-49\"/>\r\n       <use x=\"63.623047\" xlink:href=\"#DejaVuSans-48\"/>\r\n       <use x=\"127.246094\" xlink:href=\"#DejaVuSans-48\"/>\r\n      </g>\r\n     </g>\r\n    </g>\r\n    <g id=\"text_7\">\r\n     <!-- Epochs -->\r\n     <g transform=\"translate(208.246901 270.328967)scale(0.2 -0.2)\">\r\n      <defs>\r\n       <path d=\"M 9.8125 72.90625 \r\nL 55.90625 72.90625 \r\nL 55.90625 64.59375 \r\nL 19.671875 64.59375 \r\nL 19.671875 43.015625 \r\nL 54.390625 43.015625 \r\nL 54.390625 34.71875 \r\nL 19.671875 34.71875 \r\nL 19.671875 8.296875 \r\nL 56.78125 8.296875 \r\nL 56.78125 0 \r\nL 9.8125 0 \r\nz\r\n\" id=\"DejaVuSans-69\"/>\r\n       <path d=\"M 18.109375 8.203125 \r\nL 18.109375 -20.796875 \r\nL 9.078125 -20.796875 \r\nL 9.078125 54.6875 \r\nL 18.109375 54.6875 \r\nL 18.109375 46.390625 \r\nQ 20.953125 51.265625 25.265625 53.625 \r\nQ 29.59375 56 35.59375 56 \r\nQ 45.5625 56 51.78125 48.09375 \r\nQ 58.015625 40.1875 58.015625 27.296875 \r\nQ 58.015625 14.40625 51.78125 6.484375 \r\nQ 45.5625 -1.421875 35.59375 -1.421875 \r\nQ 29.59375 -1.421875 25.265625 0.953125 \r\nQ 20.953125 3.328125 18.109375 8.203125 \r\nz\r\nM 48.6875 27.296875 \r\nQ 48.6875 37.203125 44.609375 42.84375 \r\nQ 40.53125 48.484375 33.40625 48.484375 \r\nQ 26.265625 48.484375 22.1875 42.84375 \r\nQ 18.109375 37.203125 18.109375 27.296875 \r\nQ 18.109375 17.390625 22.1875 11.75 \r\nQ 26.265625 6.109375 33.40625 6.109375 \r\nQ 40.53125 6.109375 44.609375 11.75 \r\nQ 48.6875 17.390625 48.6875 27.296875 \r\nz\r\n\" id=\"DejaVuSans-112\"/>\r\n       <path d=\"M 30.609375 48.390625 \r\nQ 23.390625 48.390625 19.1875 42.75 \r\nQ 14.984375 37.109375 14.984375 27.296875 \r\nQ 14.984375 17.484375 19.15625 11.84375 \r\nQ 23.34375 6.203125 30.609375 6.203125 \r\nQ 37.796875 6.203125 41.984375 11.859375 \r\nQ 46.1875 17.53125 46.1875 27.296875 \r\nQ 46.1875 37.015625 41.984375 42.703125 \r\nQ 37.796875 48.390625 30.609375 48.390625 \r\nz\r\nM 30.609375 56 \r\nQ 42.328125 56 49.015625 48.375 \r\nQ 55.71875 40.765625 55.71875 27.296875 \r\nQ 55.71875 13.875 49.015625 6.21875 \r\nQ 42.328125 -1.421875 30.609375 -1.421875 \r\nQ 18.84375 -1.421875 12.171875 6.21875 \r\nQ 5.515625 13.875 5.515625 27.296875 \r\nQ 5.515625 40.765625 12.171875 48.375 \r\nQ 18.84375 56 30.609375 56 \r\nz\r\n\" id=\"DejaVuSans-111\"/>\r\n       <path d=\"M 48.78125 52.59375 \r\nL 48.78125 44.1875 \r\nQ 44.96875 46.296875 41.140625 47.34375 \r\nQ 37.3125 48.390625 33.40625 48.390625 \r\nQ 24.65625 48.390625 19.8125 42.84375 \r\nQ 14.984375 37.3125 14.984375 27.296875 \r\nQ 14.984375 17.28125 19.8125 11.734375 \r\nQ 24.65625 6.203125 33.40625 6.203125 \r\nQ 37.3125 6.203125 41.140625 7.25 \r\nQ 44.96875 8.296875 48.78125 10.40625 \r\nL 48.78125 2.09375 \r\nQ 45.015625 0.34375 40.984375 -0.53125 \r\nQ 36.96875 -1.421875 32.421875 -1.421875 \r\nQ 20.0625 -1.421875 12.78125 6.34375 \r\nQ 5.515625 14.109375 5.515625 27.296875 \r\nQ 5.515625 40.671875 12.859375 48.328125 \r\nQ 20.21875 56 33.015625 56 \r\nQ 37.15625 56 41.109375 55.140625 \r\nQ 45.0625 54.296875 48.78125 52.59375 \r\nz\r\n\" id=\"DejaVuSans-99\"/>\r\n       <path d=\"M 54.890625 33.015625 \r\nL 54.890625 0 \r\nL 45.90625 0 \r\nL 45.90625 32.71875 \r\nQ 45.90625 40.484375 42.875 44.328125 \r\nQ 39.84375 48.1875 33.796875 48.1875 \r\nQ 26.515625 48.1875 22.3125 43.546875 \r\nQ 18.109375 38.921875 18.109375 30.90625 \r\nL 18.109375 0 \r\nL 9.078125 0 \r\nL 9.078125 75.984375 \r\nL 18.109375 75.984375 \r\nL 18.109375 46.1875 \r\nQ 21.34375 51.125 25.703125 53.5625 \r\nQ 30.078125 56 35.796875 56 \r\nQ 45.21875 56 50.046875 50.171875 \r\nQ 54.890625 44.34375 54.890625 33.015625 \r\nz\r\n\" id=\"DejaVuSans-104\"/>\r\n       <path d=\"M 44.28125 53.078125 \r\nL 44.28125 44.578125 \r\nQ 40.484375 46.53125 36.375 47.5 \r\nQ 32.28125 48.484375 27.875 48.484375 \r\nQ 21.1875 48.484375 17.84375 46.4375 \r\nQ 14.5 44.390625 14.5 40.28125 \r\nQ 14.5 37.15625 16.890625 35.375 \r\nQ 19.28125 33.59375 26.515625 31.984375 \r\nL 29.59375 31.296875 \r\nQ 39.15625 29.25 43.1875 25.515625 \r\nQ 47.21875 21.78125 47.21875 15.09375 \r\nQ 47.21875 7.46875 41.1875 3.015625 \r\nQ 35.15625 -1.421875 24.609375 -1.421875 \r\nQ 20.21875 -1.421875 15.453125 -0.5625 \r\nQ 10.6875 0.296875 5.421875 2 \r\nL 5.421875 11.28125 \r\nQ 10.40625 8.6875 15.234375 7.390625 \r\nQ 20.0625 6.109375 24.8125 6.109375 \r\nQ 31.15625 6.109375 34.5625 8.28125 \r\nQ 37.984375 10.453125 37.984375 14.40625 \r\nQ 37.984375 18.0625 35.515625 20.015625 \r\nQ 33.0625 21.96875 24.703125 23.78125 \r\nL 21.578125 24.515625 \r\nQ 13.234375 26.265625 9.515625 29.90625 \r\nQ 5.8125 33.546875 5.8125 39.890625 \r\nQ 5.8125 47.609375 11.28125 51.796875 \r\nQ 16.75 56 26.8125 56 \r\nQ 31.78125 56 36.171875 55.265625 \r\nQ 40.578125 54.546875 44.28125 53.078125 \r\nz\r\n\" id=\"DejaVuSans-115\"/>\r\n      </defs>\r\n      <use xlink:href=\"#DejaVuSans-69\"/>\r\n      <use x=\"63.183594\" xlink:href=\"#DejaVuSans-112\"/>\r\n      <use x=\"126.660156\" xlink:href=\"#DejaVuSans-111\"/>\r\n      <use x=\"187.841797\" xlink:href=\"#DejaVuSans-99\"/>\r\n      <use x=\"242.822266\" xlink:href=\"#DejaVuSans-104\"/>\r\n      <use x=\"306.201172\" xlink:href=\"#DejaVuSans-115\"/>\r\n     </g>\r\n    </g>\r\n   </g>\r\n   <g id=\"matplotlib.axis_2\">\r\n    <g id=\"ytick_1\">\r\n     <g id=\"line2d_7\">\r\n      <defs>\r\n       <path d=\"M 0 0 \r\nL -3.5 0 \r\n\" id=\"m6d7d5e7690\" style=\"stroke:#000000;stroke-width:0.8;\"/>\r\n      </defs>\r\n      <g>\r\n       <use style=\"stroke:#000000;stroke-width:0.8;\" x=\"73.18125\" xlink:href=\"#m6d7d5e7690\" y=\"191.266609\"/>\r\n      </g>\r\n     </g>\r\n     <g id=\"text_8\">\r\n      <!-- 0.50 -->\r\n      <g transform=\"translate(30.55625 197.345359)scale(0.16 -0.16)\">\r\n       <defs>\r\n        <path d=\"M 10.6875 12.40625 \r\nL 21 12.40625 \r\nL 21 0 \r\nL 10.6875 0 \r\nz\r\n\" id=\"DejaVuSans-46\"/>\r\n        <path d=\"M 10.796875 72.90625 \r\nL 49.515625 72.90625 \r\nL 49.515625 64.59375 \r\nL 19.828125 64.59375 \r\nL 19.828125 46.734375 \r\nQ 21.96875 47.46875 24.109375 47.828125 \r\nQ 26.265625 48.1875 28.421875 48.1875 \r\nQ 40.625 48.1875 47.75 41.5 \r\nQ 54.890625 34.8125 54.890625 23.390625 \r\nQ 54.890625 11.625 47.5625 5.09375 \r\nQ 40.234375 -1.421875 26.90625 -1.421875 \r\nQ 22.3125 -1.421875 17.546875 -0.640625 \r\nQ 12.796875 0.140625 7.71875 1.703125 \r\nL 7.71875 11.625 \r\nQ 12.109375 9.234375 16.796875 8.0625 \r\nQ 21.484375 6.890625 26.703125 6.890625 \r\nQ 35.15625 6.890625 40.078125 11.328125 \r\nQ 45.015625 15.765625 45.015625 23.390625 \r\nQ 45.015625 31 40.078125 35.4375 \r\nQ 35.15625 39.890625 26.703125 39.890625 \r\nQ 22.75 39.890625 18.8125 39.015625 \r\nQ 14.890625 38.140625 10.796875 36.28125 \r\nz\r\n\" id=\"DejaVuSans-53\"/>\r\n       </defs>\r\n       <use xlink:href=\"#DejaVuSans-48\"/>\r\n       <use x=\"63.623047\" xlink:href=\"#DejaVuSans-46\"/>\r\n       <use x=\"95.410156\" xlink:href=\"#DejaVuSans-53\"/>\r\n       <use x=\"159.033203\" xlink:href=\"#DejaVuSans-48\"/>\r\n      </g>\r\n     </g>\r\n    </g>\r\n    <g id=\"ytick_2\">\r\n     <g id=\"line2d_8\">\r\n      <g>\r\n       <use style=\"stroke:#000000;stroke-width:0.8;\" x=\"73.18125\" xlink:href=\"#m6d7d5e7690\" y=\"146.769644\"/>\r\n      </g>\r\n     </g>\r\n     <g id=\"text_9\">\r\n      <!-- 0.55 -->\r\n      <g transform=\"translate(30.55625 152.848394)scale(0.16 -0.16)\">\r\n       <use xlink:href=\"#DejaVuSans-48\"/>\r\n       <use x=\"63.623047\" xlink:href=\"#DejaVuSans-46\"/>\r\n       <use x=\"95.410156\" xlink:href=\"#DejaVuSans-53\"/>\r\n       <use x=\"159.033203\" xlink:href=\"#DejaVuSans-53\"/>\r\n      </g>\r\n     </g>\r\n    </g>\r\n    <g id=\"ytick_3\">\r\n     <g id=\"line2d_9\">\r\n      <g>\r\n       <use style=\"stroke:#000000;stroke-width:0.8;\" x=\"73.18125\" xlink:href=\"#m6d7d5e7690\" y=\"102.272679\"/>\r\n      </g>\r\n     </g>\r\n     <g id=\"text_10\">\r\n      <!-- 0.60 -->\r\n      <g transform=\"translate(30.55625 108.351429)scale(0.16 -0.16)\">\r\n       <use xlink:href=\"#DejaVuSans-48\"/>\r\n       <use x=\"63.623047\" xlink:href=\"#DejaVuSans-46\"/>\r\n       <use x=\"95.410156\" xlink:href=\"#DejaVuSans-54\"/>\r\n       <use x=\"159.033203\" xlink:href=\"#DejaVuSans-48\"/>\r\n      </g>\r\n     </g>\r\n    </g>\r\n    <g id=\"ytick_4\">\r\n     <g id=\"line2d_10\">\r\n      <g>\r\n       <use style=\"stroke:#000000;stroke-width:0.8;\" x=\"73.18125\" xlink:href=\"#m6d7d5e7690\" y=\"57.775715\"/>\r\n      </g>\r\n     </g>\r\n     <g id=\"text_11\">\r\n      <!-- 0.65 -->\r\n      <g transform=\"translate(30.55625 63.854465)scale(0.16 -0.16)\">\r\n       <use xlink:href=\"#DejaVuSans-48\"/>\r\n       <use x=\"63.623047\" xlink:href=\"#DejaVuSans-46\"/>\r\n       <use x=\"95.410156\" xlink:href=\"#DejaVuSans-54\"/>\r\n       <use x=\"159.033203\" xlink:href=\"#DejaVuSans-53\"/>\r\n      </g>\r\n     </g>\r\n    </g>\r\n    <g id=\"ytick_5\">\r\n     <g id=\"line2d_11\">\r\n      <g>\r\n       <use style=\"stroke:#000000;stroke-width:0.8;\" x=\"73.18125\" xlink:href=\"#m6d7d5e7690\" y=\"13.27875\"/>\r\n      </g>\r\n     </g>\r\n     <g id=\"text_12\">\r\n      <!-- 0.70 -->\r\n      <g transform=\"translate(30.55625 19.3575)scale(0.16 -0.16)\">\r\n       <defs>\r\n        <path d=\"M 8.203125 72.90625 \r\nL 55.078125 72.90625 \r\nL 55.078125 68.703125 \r\nL 28.609375 0 \r\nL 18.3125 0 \r\nL 43.21875 64.59375 \r\nL 8.203125 64.59375 \r\nz\r\n\" id=\"DejaVuSans-55\"/>\r\n       </defs>\r\n       <use xlink:href=\"#DejaVuSans-48\"/>\r\n       <use x=\"63.623047\" xlink:href=\"#DejaVuSans-46\"/>\r\n       <use x=\"95.410156\" xlink:href=\"#DejaVuSans-55\"/>\r\n       <use x=\"159.033203\" xlink:href=\"#DejaVuSans-48\"/>\r\n      </g>\r\n     </g>\r\n    </g>\r\n    <g id=\"text_13\">\r\n     <!-- Objective Value -->\r\n     <g transform=\"translate(22.396875 197.090542)rotate(-90)scale(0.2 -0.2)\">\r\n      <defs>\r\n       <path d=\"M 39.40625 66.21875 \r\nQ 28.65625 66.21875 22.328125 58.203125 \r\nQ 16.015625 50.203125 16.015625 36.375 \r\nQ 16.015625 22.609375 22.328125 14.59375 \r\nQ 28.65625 6.59375 39.40625 6.59375 \r\nQ 50.140625 6.59375 56.421875 14.59375 \r\nQ 62.703125 22.609375 62.703125 36.375 \r\nQ 62.703125 50.203125 56.421875 58.203125 \r\nQ 50.140625 66.21875 39.40625 66.21875 \r\nz\r\nM 39.40625 74.21875 \r\nQ 54.734375 74.21875 63.90625 63.9375 \r\nQ 73.09375 53.65625 73.09375 36.375 \r\nQ 73.09375 19.140625 63.90625 8.859375 \r\nQ 54.734375 -1.421875 39.40625 -1.421875 \r\nQ 24.03125 -1.421875 14.8125 8.828125 \r\nQ 5.609375 19.09375 5.609375 36.375 \r\nQ 5.609375 53.65625 14.8125 63.9375 \r\nQ 24.03125 74.21875 39.40625 74.21875 \r\nz\r\n\" id=\"DejaVuSans-79\"/>\r\n       <path d=\"M 48.6875 27.296875 \r\nQ 48.6875 37.203125 44.609375 42.84375 \r\nQ 40.53125 48.484375 33.40625 48.484375 \r\nQ 26.265625 48.484375 22.1875 42.84375 \r\nQ 18.109375 37.203125 18.109375 27.296875 \r\nQ 18.109375 17.390625 22.1875 11.75 \r\nQ 26.265625 6.109375 33.40625 6.109375 \r\nQ 40.53125 6.109375 44.609375 11.75 \r\nQ 48.6875 17.390625 48.6875 27.296875 \r\nz\r\nM 18.109375 46.390625 \r\nQ 20.953125 51.265625 25.265625 53.625 \r\nQ 29.59375 56 35.59375 56 \r\nQ 45.5625 56 51.78125 48.09375 \r\nQ 58.015625 40.1875 58.015625 27.296875 \r\nQ 58.015625 14.40625 51.78125 6.484375 \r\nQ 45.5625 -1.421875 35.59375 -1.421875 \r\nQ 29.59375 -1.421875 25.265625 0.953125 \r\nQ 20.953125 3.328125 18.109375 8.203125 \r\nL 18.109375 0 \r\nL 9.078125 0 \r\nL 9.078125 75.984375 \r\nL 18.109375 75.984375 \r\nz\r\n\" id=\"DejaVuSans-98\"/>\r\n       <path d=\"M 9.421875 54.6875 \r\nL 18.40625 54.6875 \r\nL 18.40625 -0.984375 \r\nQ 18.40625 -11.421875 14.421875 -16.109375 \r\nQ 10.453125 -20.796875 1.609375 -20.796875 \r\nL -1.8125 -20.796875 \r\nL -1.8125 -13.1875 \r\nL 0.59375 -13.1875 \r\nQ 5.71875 -13.1875 7.5625 -10.8125 \r\nQ 9.421875 -8.453125 9.421875 -0.984375 \r\nz\r\nM 9.421875 75.984375 \r\nL 18.40625 75.984375 \r\nL 18.40625 64.59375 \r\nL 9.421875 64.59375 \r\nz\r\n\" id=\"DejaVuSans-106\"/>\r\n       <path d=\"M 56.203125 29.59375 \r\nL 56.203125 25.203125 \r\nL 14.890625 25.203125 \r\nQ 15.484375 15.921875 20.484375 11.0625 \r\nQ 25.484375 6.203125 34.421875 6.203125 \r\nQ 39.59375 6.203125 44.453125 7.46875 \r\nQ 49.3125 8.734375 54.109375 11.28125 \r\nL 54.109375 2.78125 \r\nQ 49.265625 0.734375 44.1875 -0.34375 \r\nQ 39.109375 -1.421875 33.890625 -1.421875 \r\nQ 20.796875 -1.421875 13.15625 6.1875 \r\nQ 5.515625 13.8125 5.515625 26.8125 \r\nQ 5.515625 40.234375 12.765625 48.109375 \r\nQ 20.015625 56 32.328125 56 \r\nQ 43.359375 56 49.78125 48.890625 \r\nQ 56.203125 41.796875 56.203125 29.59375 \r\nz\r\nM 47.21875 32.234375 \r\nQ 47.125 39.59375 43.09375 43.984375 \r\nQ 39.0625 48.390625 32.421875 48.390625 \r\nQ 24.90625 48.390625 20.390625 44.140625 \r\nQ 15.875 39.890625 15.1875 32.171875 \r\nz\r\n\" id=\"DejaVuSans-101\"/>\r\n       <path d=\"M 18.3125 70.21875 \r\nL 18.3125 54.6875 \r\nL 36.8125 54.6875 \r\nL 36.8125 47.703125 \r\nL 18.3125 47.703125 \r\nL 18.3125 18.015625 \r\nQ 18.3125 11.328125 20.140625 9.421875 \r\nQ 21.96875 7.515625 27.59375 7.515625 \r\nL 36.8125 7.515625 \r\nL 36.8125 0 \r\nL 27.59375 0 \r\nQ 17.1875 0 13.234375 3.875 \r\nQ 9.28125 7.765625 9.28125 18.015625 \r\nL 9.28125 47.703125 \r\nL 2.6875 47.703125 \r\nL 2.6875 54.6875 \r\nL 9.28125 54.6875 \r\nL 9.28125 70.21875 \r\nz\r\n\" id=\"DejaVuSans-116\"/>\r\n       <path d=\"M 9.421875 54.6875 \r\nL 18.40625 54.6875 \r\nL 18.40625 0 \r\nL 9.421875 0 \r\nz\r\nM 9.421875 75.984375 \r\nL 18.40625 75.984375 \r\nL 18.40625 64.59375 \r\nL 9.421875 64.59375 \r\nz\r\n\" id=\"DejaVuSans-105\"/>\r\n       <path d=\"M 2.984375 54.6875 \r\nL 12.5 54.6875 \r\nL 29.59375 8.796875 \r\nL 46.6875 54.6875 \r\nL 56.203125 54.6875 \r\nL 35.6875 0 \r\nL 23.484375 0 \r\nz\r\n\" id=\"DejaVuSans-118\"/>\r\n       <path id=\"DejaVuSans-32\"/>\r\n       <path d=\"M 28.609375 0 \r\nL 0.78125 72.90625 \r\nL 11.078125 72.90625 \r\nL 34.1875 11.53125 \r\nL 57.328125 72.90625 \r\nL 67.578125 72.90625 \r\nL 39.796875 0 \r\nz\r\n\" id=\"DejaVuSans-86\"/>\r\n       <path d=\"M 34.28125 27.484375 \r\nQ 23.390625 27.484375 19.1875 25 \r\nQ 14.984375 22.515625 14.984375 16.5 \r\nQ 14.984375 11.71875 18.140625 8.90625 \r\nQ 21.296875 6.109375 26.703125 6.109375 \r\nQ 34.1875 6.109375 38.703125 11.40625 \r\nQ 43.21875 16.703125 43.21875 25.484375 \r\nL 43.21875 27.484375 \r\nz\r\nM 52.203125 31.203125 \r\nL 52.203125 0 \r\nL 43.21875 0 \r\nL 43.21875 8.296875 \r\nQ 40.140625 3.328125 35.546875 0.953125 \r\nQ 30.953125 -1.421875 24.3125 -1.421875 \r\nQ 15.921875 -1.421875 10.953125 3.296875 \r\nQ 6 8.015625 6 15.921875 \r\nQ 6 25.140625 12.171875 29.828125 \r\nQ 18.359375 34.515625 30.609375 34.515625 \r\nL 43.21875 34.515625 \r\nL 43.21875 35.40625 \r\nQ 43.21875 41.609375 39.140625 45 \r\nQ 35.0625 48.390625 27.6875 48.390625 \r\nQ 23 48.390625 18.546875 47.265625 \r\nQ 14.109375 46.140625 10.015625 43.890625 \r\nL 10.015625 52.203125 \r\nQ 14.9375 54.109375 19.578125 55.046875 \r\nQ 24.21875 56 28.609375 56 \r\nQ 40.484375 56 46.34375 49.84375 \r\nQ 52.203125 43.703125 52.203125 31.203125 \r\nz\r\n\" id=\"DejaVuSans-97\"/>\r\n       <path d=\"M 9.421875 75.984375 \r\nL 18.40625 75.984375 \r\nL 18.40625 0 \r\nL 9.421875 0 \r\nz\r\n\" id=\"DejaVuSans-108\"/>\r\n       <path d=\"M 8.5 21.578125 \r\nL 8.5 54.6875 \r\nL 17.484375 54.6875 \r\nL 17.484375 21.921875 \r\nQ 17.484375 14.15625 20.5 10.265625 \r\nQ 23.53125 6.390625 29.59375 6.390625 \r\nQ 36.859375 6.390625 41.078125 11.03125 \r\nQ 45.3125 15.671875 45.3125 23.6875 \r\nL 45.3125 54.6875 \r\nL 54.296875 54.6875 \r\nL 54.296875 0 \r\nL 45.3125 0 \r\nL 45.3125 8.40625 \r\nQ 42.046875 3.421875 37.71875 1 \r\nQ 33.40625 -1.421875 27.6875 -1.421875 \r\nQ 18.265625 -1.421875 13.375 4.4375 \r\nQ 8.5 10.296875 8.5 21.578125 \r\nz\r\nM 31.109375 56 \r\nz\r\n\" id=\"DejaVuSans-117\"/>\r\n      </defs>\r\n      <use xlink:href=\"#DejaVuSans-79\"/>\r\n      <use x=\"78.710938\" xlink:href=\"#DejaVuSans-98\"/>\r\n      <use x=\"142.1875\" xlink:href=\"#DejaVuSans-106\"/>\r\n      <use x=\"169.970703\" xlink:href=\"#DejaVuSans-101\"/>\r\n      <use x=\"231.494141\" xlink:href=\"#DejaVuSans-99\"/>\r\n      <use x=\"286.474609\" xlink:href=\"#DejaVuSans-116\"/>\r\n      <use x=\"325.683594\" xlink:href=\"#DejaVuSans-105\"/>\r\n      <use x=\"353.466797\" xlink:href=\"#DejaVuSans-118\"/>\r\n      <use x=\"412.646484\" xlink:href=\"#DejaVuSans-101\"/>\r\n      <use x=\"474.169922\" xlink:href=\"#DejaVuSans-32\"/>\r\n      <use x=\"505.957031\" xlink:href=\"#DejaVuSans-86\"/>\r\n      <use x=\"566.615234\" xlink:href=\"#DejaVuSans-97\"/>\r\n      <use x=\"627.894531\" xlink:href=\"#DejaVuSans-108\"/>\r\n      <use x=\"655.677734\" xlink:href=\"#DejaVuSans-117\"/>\r\n      <use x=\"719.056641\" xlink:href=\"#DejaVuSans-101\"/>\r\n     </g>\r\n    </g>\r\n   </g>\r\n   <g id=\"line2d_12\">\r\n    <path clip-path=\"url(#pdc4f4081d8)\" d=\"M 88.717332 19.377343 \r\nL 91.855934 111.54765 \r\nL 94.994537 149.637907 \r\nL 98.133139 170.093707 \r\nL 101.271742 182.79927 \r\nL 104.410344 191.363228 \r\nL 107.548946 197.43675 \r\nL 110.687549 201.895387 \r\nL 113.826151 205.251843 \r\nL 116.964754 207.827834 \r\nL 120.103356 209.835571 \r\nL 123.241958 211.420387 \r\nL 126.380561 212.684762 \r\nL 129.519163 213.702693 \r\nL 132.657766 214.528659 \r\nL 135.796368 215.203451 \r\nL 138.93497 215.758045 \r\nL 142.073573 216.216266 \r\nL 145.212175 216.59664 \r\nL 148.350778 216.913719 \r\nL 151.48938 217.179027 \r\nL 154.627982 217.40177 \r\nL 157.766585 217.589348 \r\nL 160.905187 217.747753 \r\nL 164.04379 217.88186 \r\nL 167.182392 217.995659 \r\nL 170.320994 218.092431 \r\nL 173.459597 218.174884 \r\nL 176.598199 218.245263 \r\nL 179.736802 218.305438 \r\nL 182.875404 218.356968 \r\nL 186.014006 218.401158 \r\nL 189.152609 218.439106 \r\nL 192.291211 218.471734 \r\nL 195.429814 218.499821 \r\nL 198.568416 218.524026 \r\nL 201.707018 218.544909 \r\nL 204.845621 218.562941 \r\nL 207.984223 218.578529 \r\nL 211.122826 218.592014 \r\nL 214.261428 218.60369 \r\nL 217.40003 218.613808 \r\nL 220.538633 218.622583 \r\nL 223.677235 218.630198 \r\nL 226.815838 218.636812 \r\nL 229.95444 218.642559 \r\nL 233.093042 218.647558 \r\nL 236.231645 218.651907 \r\nL 239.370247 218.655693 \r\nL 242.50885 218.658991 \r\nL 245.647452 218.661866 \r\nL 248.786054 218.664373 \r\nL 251.924657 218.666561 \r\nL 255.063259 218.66847 \r\nL 258.201862 218.670138 \r\nL 261.340464 218.671594 \r\nL 264.479066 218.672868 \r\nL 267.617669 218.673981 \r\nL 270.756271 218.674955 \r\nL 273.894874 218.675808 \r\nL 277.033476 218.676554 \r\nL 280.172078 218.677208 \r\nL 283.310681 218.677781 \r\nL 286.449283 218.678282 \r\nL 289.587886 218.678722 \r\nL 292.726488 218.679108 \r\nL 295.86509 218.679447 \r\nL 299.003693 218.679744 \r\nL 302.142295 218.680004 \r\nL 305.280898 218.680233 \r\nL 308.4195 218.680434 \r\nL 311.558102 218.680611 \r\nL 314.696705 218.680766 \r\nL 317.835307 218.680902 \r\nL 320.97391 218.681022 \r\nL 324.112512 218.681127 \r\nL 327.251114 218.68122 \r\nL 330.389717 218.681301 \r\nL 333.528319 218.681373 \r\nL 336.666922 218.681436 \r\nL 339.805524 218.681492 \r\nL 342.944127 218.681541 \r\nL 346.082729 218.681584 \r\nL 349.221331 218.681622 \r\nL 352.359934 218.681655 \r\nL 355.498536 218.681685 \r\nL 358.637139 218.68171 \r\nL 361.775741 218.681733 \r\nL 364.914343 218.681753 \r\nL 368.052946 218.681771 \r\nL 371.191548 218.681787 \r\nL 374.330151 218.681801 \r\nL 377.468753 218.681813 \r\nL 380.607355 218.681824 \r\nL 383.745958 218.681833 \r\nL 386.88456 218.681841 \r\nL 390.023163 218.681849 \r\nL 393.161765 218.681855 \r\nL 396.300367 218.681861 \r\nL 399.43897 218.681866 \r\n\" style=\"fill:none;stroke:#0000ff;stroke-dasharray:14.8,6.4;stroke-dashoffset:0;stroke-width:4;\"/>\r\n   </g>\r\n   <g id=\"line2d_13\">\r\n    <path clip-path=\"url(#pdc4f4081d8)\" d=\"M 88.717332 170.625643 \r\nL 91.855934 173.960499 \r\nL 94.994537 184.642785 \r\nL 98.133139 184.284816 \r\nL 101.271742 193.056031 \r\nL 104.410344 189.510745 \r\nL 107.548946 195.113518 \r\nL 110.687549 194.173559 \r\nL 113.826151 197.154656 \r\nL 116.964754 200.885487 \r\nL 120.103356 199.210825 \r\nL 123.241958 204.589941 \r\nL 126.380561 204.31811 \r\nL 129.519163 209.109844 \r\nL 132.657766 205.222187 \r\nL 135.796368 207.500181 \r\nL 138.93497 210.216985 \r\nL 142.073573 210.106164 \r\nL 145.212175 210.098613 \r\nL 148.350778 210.939563 \r\nL 151.48938 211.889313 \r\nL 154.627982 211.990293 \r\nL 157.766585 213.021523 \r\nL 160.905187 214.003069 \r\nL 164.04379 213.747253 \r\nL 167.182392 214.346653 \r\nL 170.320994 215.499505 \r\nL 173.459597 215.232657 \r\nL 176.598199 215.688176 \r\nL 179.736802 215.717919 \r\nL 182.875404 216.167508 \r\nL 186.014006 216.34065 \r\nL 189.152609 216.675757 \r\nL 192.291211 216.728367 \r\nL 195.429814 216.973951 \r\nL 198.568416 217.144135 \r\nL 201.707018 217.313286 \r\nL 204.845621 217.485956 \r\nL 207.984223 217.547939 \r\nL 211.122826 217.659014 \r\nL 214.261428 217.749779 \r\nL 217.40003 217.848703 \r\nL 220.538633 217.927483 \r\nL 223.677235 218.009817 \r\nL 226.815838 218.074751 \r\nL 229.95444 218.130576 \r\nL 233.093042 218.185975 \r\nL 236.231645 218.240941 \r\nL 239.370247 218.279965 \r\nL 242.50885 218.319172 \r\nL 245.647452 218.355839 \r\nL 248.786054 218.390454 \r\nL 251.924657 218.417769 \r\nL 255.063259 218.444131 \r\nL 258.201862 218.466953 \r\nL 261.340464 218.488887 \r\nL 264.479066 218.508133 \r\nL 267.617669 218.5255 \r\nL 270.756271 218.540652 \r\nL 273.894874 218.554727 \r\nL 277.033476 218.56728 \r\nL 280.172078 218.578778 \r\nL 283.310681 218.58903 \r\nL 286.449283 218.598331 \r\nL 289.587886 218.606781 \r\nL 292.726488 218.614167 \r\nL 295.86509 218.621056 \r\nL 299.003693 218.627157 \r\nL 302.142295 218.632584 \r\nL 305.280898 218.637431 \r\nL 308.4195 218.641823 \r\nL 311.558102 218.645843 \r\nL 314.696705 218.649432 \r\nL 317.835307 218.652643 \r\nL 320.97391 218.655544 \r\nL 324.112512 218.658165 \r\nL 327.251114 218.660528 \r\nL 330.389717 218.662654 \r\nL 333.528319 218.664562 \r\nL 336.666922 218.666287 \r\nL 339.805524 218.667831 \r\nL 342.944127 218.66923 \r\nL 346.082729 218.67048 \r\nL 349.221331 218.671607 \r\nL 352.359934 218.672623 \r\nL 355.498536 218.673539 \r\nL 358.637139 218.674361 \r\nL 361.775741 218.675102 \r\nL 364.914343 218.675769 \r\nL 368.052946 218.676369 \r\nL 371.191548 218.676908 \r\nL 374.330151 218.677394 \r\nL 377.468753 218.677832 \r\nL 380.607355 218.678225 \r\nL 383.745958 218.67858 \r\nL 386.88456 218.678899 \r\nL 390.023163 218.679186 \r\nL 393.161765 218.679444 \r\nL 396.300367 218.679676 \r\nL 399.43897 218.679886 \r\n\" style=\"fill:none;stroke:#ff0000;stroke-linecap:square;stroke-width:2;\"/>\r\n   </g>\r\n   <g id=\"line2d_14\">\r\n    <defs>\r\n     <path d=\"M 0 1.5 \r\nC 0.397805 1.5 0.77937 1.341951 1.06066 1.06066 \r\nC 1.341951 0.77937 1.5 0.397805 1.5 0 \r\nC 1.5 -0.397805 1.341951 -0.77937 1.06066 -1.06066 \r\nC 0.77937 -1.341951 0.397805 -1.5 0 -1.5 \r\nC -0.397805 -1.5 -0.77937 -1.341951 -1.06066 -1.06066 \r\nC -1.341951 -0.77937 -1.5 -0.397805 -1.5 0 \r\nC -1.5 0.397805 -1.341951 0.77937 -1.06066 1.06066 \r\nC -0.77937 1.341951 -0.397805 1.5 0 1.5 \r\nz\r\n\" id=\"mf332686bde\" style=\"stroke:#008000;\"/>\r\n    </defs>\r\n    <g clip-path=\"url(#pdc4f4081d8)\">\r\n     <use style=\"fill:#008000;stroke:#008000;\" x=\"88.717332\" xlink:href=\"#mf332686bde\" y=\"177.432244\"/>\r\n     <use style=\"fill:#008000;stroke:#008000;\" x=\"91.855934\" xlink:href=\"#mf332686bde\" y=\"204.692057\"/>\r\n     <use style=\"fill:#008000;stroke:#008000;\" x=\"94.994537\" xlink:href=\"#mf332686bde\" y=\"205.713013\"/>\r\n     <use style=\"fill:#008000;stroke:#008000;\" x=\"98.133139\" xlink:href=\"#mf332686bde\" y=\"212.084927\"/>\r\n     <use style=\"fill:#008000;stroke:#008000;\" x=\"101.271742\" xlink:href=\"#mf332686bde\" y=\"209.832316\"/>\r\n     <use style=\"fill:#008000;stroke:#008000;\" x=\"104.410344\" xlink:href=\"#mf332686bde\" y=\"209.678839\"/>\r\n     <use style=\"fill:#008000;stroke:#008000;\" x=\"107.548946\" xlink:href=\"#mf332686bde\" y=\"212.703397\"/>\r\n     <use style=\"fill:#008000;stroke:#008000;\" x=\"110.687549\" xlink:href=\"#mf332686bde\" y=\"211.947975\"/>\r\n     <use style=\"fill:#008000;stroke:#008000;\" x=\"113.826151\" xlink:href=\"#mf332686bde\" y=\"213.123882\"/>\r\n     <use style=\"fill:#008000;stroke:#008000;\" x=\"116.964754\" xlink:href=\"#mf332686bde\" y=\"213.279025\"/>\r\n     <use style=\"fill:#008000;stroke:#008000;\" x=\"120.103356\" xlink:href=\"#mf332686bde\" y=\"213.970783\"/>\r\n     <use style=\"fill:#008000;stroke:#008000;\" x=\"123.241958\" xlink:href=\"#mf332686bde\" y=\"214.293003\"/>\r\n     <use style=\"fill:#008000;stroke:#008000;\" x=\"126.380561\" xlink:href=\"#mf332686bde\" y=\"214.805856\"/>\r\n     <use style=\"fill:#008000;stroke:#008000;\" x=\"129.519163\" xlink:href=\"#mf332686bde\" y=\"214.909682\"/>\r\n     <use style=\"fill:#008000;stroke:#008000;\" x=\"132.657766\" xlink:href=\"#mf332686bde\" y=\"215.377251\"/>\r\n     <use style=\"fill:#008000;stroke:#008000;\" x=\"135.796368\" xlink:href=\"#mf332686bde\" y=\"215.623445\"/>\r\n     <use style=\"fill:#008000;stroke:#008000;\" x=\"138.93497\" xlink:href=\"#mf332686bde\" y=\"215.881489\"/>\r\n     <use style=\"fill:#008000;stroke:#008000;\" x=\"142.073573\" xlink:href=\"#mf332686bde\" y=\"216.277186\"/>\r\n     <use style=\"fill:#008000;stroke:#008000;\" x=\"145.212175\" xlink:href=\"#mf332686bde\" y=\"216.733199\"/>\r\n     <use style=\"fill:#008000;stroke:#008000;\" x=\"148.350778\" xlink:href=\"#mf332686bde\" y=\"216.715361\"/>\r\n     <use style=\"fill:#008000;stroke:#008000;\" x=\"151.48938\" xlink:href=\"#mf332686bde\" y=\"216.825942\"/>\r\n     <use style=\"fill:#008000;stroke:#008000;\" x=\"154.627982\" xlink:href=\"#mf332686bde\" y=\"217.092175\"/>\r\n     <use style=\"fill:#008000;stroke:#008000;\" x=\"157.766585\" xlink:href=\"#mf332686bde\" y=\"217.223395\"/>\r\n     <use style=\"fill:#008000;stroke:#008000;\" x=\"160.905187\" xlink:href=\"#mf332686bde\" y=\"217.271067\"/>\r\n     <use style=\"fill:#008000;stroke:#008000;\" x=\"164.04379\" xlink:href=\"#mf332686bde\" y=\"217.34953\"/>\r\n     <use style=\"fill:#008000;stroke:#008000;\" x=\"167.182392\" xlink:href=\"#mf332686bde\" y=\"217.566219\"/>\r\n     <use style=\"fill:#008000;stroke:#008000;\" x=\"170.320994\" xlink:href=\"#mf332686bde\" y=\"217.665193\"/>\r\n     <use style=\"fill:#008000;stroke:#008000;\" x=\"173.459597\" xlink:href=\"#mf332686bde\" y=\"217.760571\"/>\r\n     <use style=\"fill:#008000;stroke:#008000;\" x=\"176.598199\" xlink:href=\"#mf332686bde\" y=\"217.909497\"/>\r\n     <use style=\"fill:#008000;stroke:#008000;\" x=\"179.736802\" xlink:href=\"#mf332686bde\" y=\"217.948002\"/>\r\n     <use style=\"fill:#008000;stroke:#008000;\" x=\"182.875404\" xlink:href=\"#mf332686bde\" y=\"217.994302\"/>\r\n     <use style=\"fill:#008000;stroke:#008000;\" x=\"186.014006\" xlink:href=\"#mf332686bde\" y=\"218.036982\"/>\r\n     <use style=\"fill:#008000;stroke:#008000;\" x=\"189.152609\" xlink:href=\"#mf332686bde\" y=\"218.143005\"/>\r\n     <use style=\"fill:#008000;stroke:#008000;\" x=\"192.291211\" xlink:href=\"#mf332686bde\" y=\"218.175587\"/>\r\n     <use style=\"fill:#008000;stroke:#008000;\" x=\"195.429814\" xlink:href=\"#mf332686bde\" y=\"218.285285\"/>\r\n     <use style=\"fill:#008000;stroke:#008000;\" x=\"198.568416\" xlink:href=\"#mf332686bde\" y=\"218.316547\"/>\r\n     <use style=\"fill:#008000;stroke:#008000;\" x=\"201.707018\" xlink:href=\"#mf332686bde\" y=\"218.35723\"/>\r\n     <use style=\"fill:#008000;stroke:#008000;\" x=\"204.845621\" xlink:href=\"#mf332686bde\" y=\"218.354164\"/>\r\n     <use style=\"fill:#008000;stroke:#008000;\" x=\"207.984223\" xlink:href=\"#mf332686bde\" y=\"218.421961\"/>\r\n     <use style=\"fill:#008000;stroke:#008000;\" x=\"211.122826\" xlink:href=\"#mf332686bde\" y=\"218.418528\"/>\r\n     <use style=\"fill:#008000;stroke:#008000;\" x=\"214.261428\" xlink:href=\"#mf332686bde\" y=\"218.451109\"/>\r\n     <use style=\"fill:#008000;stroke:#008000;\" x=\"217.40003\" xlink:href=\"#mf332686bde\" y=\"218.467336\"/>\r\n     <use style=\"fill:#008000;stroke:#008000;\" x=\"220.538633\" xlink:href=\"#mf332686bde\" y=\"218.494768\"/>\r\n     <use style=\"fill:#008000;stroke:#008000;\" x=\"223.677235\" xlink:href=\"#mf332686bde\" y=\"218.510661\"/>\r\n     <use style=\"fill:#008000;stroke:#008000;\" x=\"226.815838\" xlink:href=\"#mf332686bde\" y=\"218.528289\"/>\r\n     <use style=\"fill:#008000;stroke:#008000;\" x=\"229.95444\" xlink:href=\"#mf332686bde\" y=\"218.558728\"/>\r\n     <use style=\"fill:#008000;stroke:#008000;\" x=\"233.093042\" xlink:href=\"#mf332686bde\" y=\"218.551109\"/>\r\n     <use style=\"fill:#008000;stroke:#008000;\" x=\"236.231645\" xlink:href=\"#mf332686bde\" y=\"218.568894\"/>\r\n     <use style=\"fill:#008000;stroke:#008000;\" x=\"239.370247\" xlink:href=\"#mf332686bde\" y=\"218.58748\"/>\r\n     <use style=\"fill:#008000;stroke:#008000;\" x=\"242.50885\" xlink:href=\"#mf332686bde\" y=\"218.600369\"/>\r\n     <use style=\"fill:#008000;stroke:#008000;\" x=\"245.647452\" xlink:href=\"#mf332686bde\" y=\"218.603361\"/>\r\n     <use style=\"fill:#008000;stroke:#008000;\" x=\"248.786054\" xlink:href=\"#mf332686bde\" y=\"218.610236\"/>\r\n     <use style=\"fill:#008000;stroke:#008000;\" x=\"251.924657\" xlink:href=\"#mf332686bde\" y=\"218.618778\"/>\r\n     <use style=\"fill:#008000;stroke:#008000;\" x=\"255.063259\" xlink:href=\"#mf332686bde\" y=\"218.624346\"/>\r\n     <use style=\"fill:#008000;stroke:#008000;\" x=\"258.201862\" xlink:href=\"#mf332686bde\" y=\"218.630722\"/>\r\n     <use style=\"fill:#008000;stroke:#008000;\" x=\"261.340464\" xlink:href=\"#mf332686bde\" y=\"218.63574\"/>\r\n     <use style=\"fill:#008000;stroke:#008000;\" x=\"264.479066\" xlink:href=\"#mf332686bde\" y=\"218.64117\"/>\r\n     <use style=\"fill:#008000;stroke:#008000;\" x=\"267.617669\" xlink:href=\"#mf332686bde\" y=\"218.64144\"/>\r\n     <use style=\"fill:#008000;stroke:#008000;\" x=\"270.756271\" xlink:href=\"#mf332686bde\" y=\"218.648897\"/>\r\n     <use style=\"fill:#008000;stroke:#008000;\" x=\"273.894874\" xlink:href=\"#mf332686bde\" y=\"218.650384\"/>\r\n     <use style=\"fill:#008000;stroke:#008000;\" x=\"277.033476\" xlink:href=\"#mf332686bde\" y=\"218.651943\"/>\r\n     <use style=\"fill:#008000;stroke:#008000;\" x=\"280.172078\" xlink:href=\"#mf332686bde\" y=\"218.656337\"/>\r\n     <use style=\"fill:#008000;stroke:#008000;\" x=\"283.310681\" xlink:href=\"#mf332686bde\" y=\"218.657345\"/>\r\n     <use style=\"fill:#008000;stroke:#008000;\" x=\"286.449283\" xlink:href=\"#mf332686bde\" y=\"218.661193\"/>\r\n     <use style=\"fill:#008000;stroke:#008000;\" x=\"289.587886\" xlink:href=\"#mf332686bde\" y=\"218.660622\"/>\r\n     <use style=\"fill:#008000;stroke:#008000;\" x=\"292.726488\" xlink:href=\"#mf332686bde\" y=\"218.665054\"/>\r\n     <use style=\"fill:#008000;stroke:#008000;\" x=\"295.86509\" xlink:href=\"#mf332686bde\" y=\"218.666868\"/>\r\n     <use style=\"fill:#008000;stroke:#008000;\" x=\"299.003693\" xlink:href=\"#mf332686bde\" y=\"218.668722\"/>\r\n     <use style=\"fill:#008000;stroke:#008000;\" x=\"302.142295\" xlink:href=\"#mf332686bde\" y=\"218.669691\"/>\r\n     <use style=\"fill:#008000;stroke:#008000;\" x=\"305.280898\" xlink:href=\"#mf332686bde\" y=\"218.671141\"/>\r\n     <use style=\"fill:#008000;stroke:#008000;\" x=\"308.4195\" xlink:href=\"#mf332686bde\" y=\"218.67135\"/>\r\n     <use style=\"fill:#008000;stroke:#008000;\" x=\"311.558102\" xlink:href=\"#mf332686bde\" y=\"218.672241\"/>\r\n     <use style=\"fill:#008000;stroke:#008000;\" x=\"314.696705\" xlink:href=\"#mf332686bde\" y=\"218.67333\"/>\r\n     <use style=\"fill:#008000;stroke:#008000;\" x=\"317.835307\" xlink:href=\"#mf332686bde\" y=\"218.674493\"/>\r\n     <use style=\"fill:#008000;stroke:#008000;\" x=\"320.97391\" xlink:href=\"#mf332686bde\" y=\"218.675235\"/>\r\n     <use style=\"fill:#008000;stroke:#008000;\" x=\"324.112512\" xlink:href=\"#mf332686bde\" y=\"218.675692\"/>\r\n     <use style=\"fill:#008000;stroke:#008000;\" x=\"327.251114\" xlink:href=\"#mf332686bde\" y=\"218.676539\"/>\r\n     <use style=\"fill:#008000;stroke:#008000;\" x=\"330.389717\" xlink:href=\"#mf332686bde\" y=\"218.677214\"/>\r\n     <use style=\"fill:#008000;stroke:#008000;\" x=\"333.528319\" xlink:href=\"#mf332686bde\" y=\"218.677045\"/>\r\n     <use style=\"fill:#008000;stroke:#008000;\" x=\"336.666922\" xlink:href=\"#mf332686bde\" y=\"218.677799\"/>\r\n     <use style=\"fill:#008000;stroke:#008000;\" x=\"339.805524\" xlink:href=\"#mf332686bde\" y=\"218.678052\"/>\r\n     <use style=\"fill:#008000;stroke:#008000;\" x=\"342.944127\" xlink:href=\"#mf332686bde\" y=\"218.67836\"/>\r\n     <use style=\"fill:#008000;stroke:#008000;\" x=\"346.082729\" xlink:href=\"#mf332686bde\" y=\"218.678473\"/>\r\n     <use style=\"fill:#008000;stroke:#008000;\" x=\"349.221331\" xlink:href=\"#mf332686bde\" y=\"218.678929\"/>\r\n     <use style=\"fill:#008000;stroke:#008000;\" x=\"352.359934\" xlink:href=\"#mf332686bde\" y=\"218.679285\"/>\r\n     <use style=\"fill:#008000;stroke:#008000;\" x=\"355.498536\" xlink:href=\"#mf332686bde\" y=\"218.67943\"/>\r\n     <use style=\"fill:#008000;stroke:#008000;\" x=\"358.637139\" xlink:href=\"#mf332686bde\" y=\"218.679745\"/>\r\n     <use style=\"fill:#008000;stroke:#008000;\" x=\"361.775741\" xlink:href=\"#mf332686bde\" y=\"218.679856\"/>\r\n     <use style=\"fill:#008000;stroke:#008000;\" x=\"364.914343\" xlink:href=\"#mf332686bde\" y=\"218.680009\"/>\r\n     <use style=\"fill:#008000;stroke:#008000;\" x=\"368.052946\" xlink:href=\"#mf332686bde\" y=\"218.680264\"/>\r\n     <use style=\"fill:#008000;stroke:#008000;\" x=\"371.191548\" xlink:href=\"#mf332686bde\" y=\"218.680364\"/>\r\n     <use style=\"fill:#008000;stroke:#008000;\" x=\"374.330151\" xlink:href=\"#mf332686bde\" y=\"218.680348\"/>\r\n     <use style=\"fill:#008000;stroke:#008000;\" x=\"377.468753\" xlink:href=\"#mf332686bde\" y=\"218.680427\"/>\r\n     <use style=\"fill:#008000;stroke:#008000;\" x=\"380.607355\" xlink:href=\"#mf332686bde\" y=\"218.680641\"/>\r\n     <use style=\"fill:#008000;stroke:#008000;\" x=\"383.745958\" xlink:href=\"#mf332686bde\" y=\"218.680733\"/>\r\n     <use style=\"fill:#008000;stroke:#008000;\" x=\"386.88456\" xlink:href=\"#mf332686bde\" y=\"218.680838\"/>\r\n     <use style=\"fill:#008000;stroke:#008000;\" x=\"390.023163\" xlink:href=\"#mf332686bde\" y=\"218.680833\"/>\r\n     <use style=\"fill:#008000;stroke:#008000;\" x=\"393.161765\" xlink:href=\"#mf332686bde\" y=\"218.680932\"/>\r\n     <use style=\"fill:#008000;stroke:#008000;\" x=\"396.300367\" xlink:href=\"#mf332686bde\" y=\"218.680976\"/>\r\n     <use style=\"fill:#008000;stroke:#008000;\" x=\"399.43897\" xlink:href=\"#mf332686bde\" y=\"218.680981\"/>\r\n    </g>\r\n   </g>\r\n   <g id=\"line2d_15\">\r\n    <path clip-path=\"url(#pdc4f4081d8)\" d=\"M 88.717332 151.127824 \r\nL 91.855934 205.910161 \r\nL 94.994537 212.217976 \r\nL 98.133139 211.525904 \r\nL 101.271742 214.091425 \r\nL 104.410344 214.346751 \r\nL 107.548946 214.562073 \r\nL 110.687549 216.331316 \r\nL 113.826151 215.74863 \r\nL 116.964754 216.001712 \r\nL 120.103356 216.642803 \r\nL 123.241958 216.813258 \r\nL 126.380561 216.763282 \r\nL 129.519163 217.119436 \r\nL 132.657766 217.078843 \r\nL 135.796368 217.263777 \r\nL 138.93497 217.800962 \r\nL 142.073573 217.709255 \r\nL 145.212175 217.613378 \r\nL 148.350778 217.81066 \r\nL 151.48938 217.949123 \r\nL 154.627982 217.901237 \r\nL 157.766585 217.901851 \r\nL 160.905187 218.103168 \r\nL 164.04379 217.978103 \r\nL 167.182392 218.083585 \r\nL 170.320994 218.256707 \r\nL 173.459597 218.219614 \r\nL 176.598199 218.372071 \r\nL 179.736802 218.359591 \r\nL 182.875404 218.436267 \r\nL 186.014006 218.464082 \r\nL 189.152609 218.525234 \r\nL 192.291211 218.385582 \r\nL 195.429814 218.482083 \r\nL 198.568416 218.561692 \r\nL 201.707018 218.493275 \r\nL 204.845621 218.573071 \r\nL 207.984223 218.591232 \r\nL 211.122826 218.571538 \r\nL 214.261428 218.579633 \r\nL 217.40003 218.604934 \r\nL 220.538633 218.595598 \r\nL 223.677235 218.612732 \r\nL 226.815838 218.617025 \r\nL 229.95444 218.577674 \r\nL 233.093042 218.622954 \r\nL 236.231645 218.635041 \r\nL 239.370247 218.629591 \r\nL 242.50885 218.643668 \r\nL 245.647452 218.64647 \r\nL 248.786054 218.638788 \r\nL 251.924657 218.658895 \r\nL 255.063259 218.645827 \r\nL 258.201862 218.655298 \r\nL 261.340464 218.660313 \r\nL 264.479066 218.664557 \r\nL 267.617669 218.661191 \r\nL 270.756271 218.664271 \r\nL 273.894874 218.661867 \r\nL 277.033476 218.666329 \r\nL 280.172078 218.669791 \r\nL 283.310681 218.66808 \r\nL 286.449283 218.670415 \r\nL 289.587886 218.672261 \r\nL 292.726488 218.672281 \r\nL 295.86509 218.674874 \r\nL 299.003693 218.674096 \r\nL 302.142295 218.675011 \r\nL 305.280898 218.674294 \r\nL 308.4195 218.676348 \r\nL 311.558102 218.676795 \r\nL 314.696705 218.676785 \r\nL 317.835307 218.67734 \r\nL 320.97391 218.677034 \r\nL 324.112512 218.676973 \r\nL 327.251114 218.678604 \r\nL 330.389717 218.678611 \r\nL 333.528319 218.679284 \r\nL 336.666922 218.678941 \r\nL 339.805524 218.679008 \r\nL 342.944127 218.679558 \r\nL 346.082729 218.679526 \r\nL 349.221331 218.679461 \r\nL 352.359934 218.679708 \r\nL 355.498536 218.67989 \r\nL 358.637139 218.679764 \r\nL 361.775741 218.680141 \r\nL 364.914343 218.680109 \r\nL 368.052946 218.68021 \r\nL 371.191548 218.680185 \r\nL 374.330151 218.680294 \r\nL 377.468753 218.680238 \r\nL 380.607355 218.680309 \r\nL 383.745958 218.680414 \r\nL 386.88456 218.680372 \r\nL 390.023163 218.680398 \r\nL 393.161765 218.680347 \r\nL 396.300367 218.680525 \r\nL 399.43897 218.680487 \r\n\" style=\"fill:none;stroke:#bf00bf;stroke-dasharray:7.4,3.2;stroke-dashoffset:0;stroke-width:2;\"/>\r\n   </g>\r\n   <g id=\"patch_3\">\r\n    <path d=\"M 73.18125 228.647092 \r\nL 73.18125 9.412117 \r\n\" style=\"fill:none;stroke:#000000;stroke-linecap:square;stroke-linejoin:miter;stroke-width:0.8;\"/>\r\n   </g>\r\n   <g id=\"patch_4\">\r\n    <path d=\"M 414.975052 228.647092 \r\nL 414.975052 9.412117 \r\n\" style=\"fill:none;stroke:#000000;stroke-linecap:square;stroke-linejoin:miter;stroke-width:0.8;\"/>\r\n   </g>\r\n   <g id=\"patch_5\">\r\n    <path d=\"M 73.18125 228.647092 \r\nL 414.975052 228.647092 \r\n\" style=\"fill:none;stroke:#000000;stroke-linecap:square;stroke-linejoin:miter;stroke-width:0.8;\"/>\r\n   </g>\r\n   <g id=\"patch_6\">\r\n    <path d=\"M 73.18125 9.412117 \r\nL 414.975052 9.412117 \r\n\" style=\"fill:none;stroke:#000000;stroke-linecap:square;stroke-linejoin:miter;stroke-width:0.8;\"/>\r\n   </g>\r\n   <g id=\"legend_1\">\r\n    <g id=\"patch_7\">\r\n     <path d=\"M 229.737552 142.837117 \r\nL 400.975052 142.837117 \r\nQ 404.975052 142.837117 404.975052 138.837117 \r\nL 404.975052 23.412117 \r\nQ 404.975052 19.412117 400.975052 19.412117 \r\nL 229.737552 19.412117 \r\nQ 225.737552 19.412117 225.737552 23.412117 \r\nL 225.737552 138.837117 \r\nQ 225.737552 142.837117 229.737552 142.837117 \r\nz\r\n\" style=\"fill:#ffffff;opacity:0.8;stroke:#cccccc;stroke-linejoin:miter;\"/>\r\n    </g>\r\n    <g id=\"line2d_16\">\r\n     <path d=\"M 233.737552 35.608992 \r\nL 273.737552 35.608992 \r\n\" style=\"fill:none;stroke:#0000ff;stroke-dasharray:14.8,6.4;stroke-dashoffset:0;stroke-width:4;\"/>\r\n    </g>\r\n    <g id=\"line2d_17\"/>\r\n    <g id=\"text_14\">\r\n     <!-- GD -->\r\n     <g transform=\"translate(289.737552 42.608992)scale(0.2 -0.2)\">\r\n      <defs>\r\n       <path d=\"M 59.515625 10.40625 \r\nL 59.515625 29.984375 \r\nL 43.40625 29.984375 \r\nL 43.40625 38.09375 \r\nL 69.28125 38.09375 \r\nL 69.28125 6.78125 \r\nQ 63.578125 2.734375 56.6875 0.65625 \r\nQ 49.8125 -1.421875 42 -1.421875 \r\nQ 24.90625 -1.421875 15.25 8.5625 \r\nQ 5.609375 18.5625 5.609375 36.375 \r\nQ 5.609375 54.25 15.25 64.234375 \r\nQ 24.90625 74.21875 42 74.21875 \r\nQ 49.125 74.21875 55.546875 72.453125 \r\nQ 61.96875 70.703125 67.390625 67.28125 \r\nL 67.390625 56.78125 \r\nQ 61.921875 61.421875 55.765625 63.765625 \r\nQ 49.609375 66.109375 42.828125 66.109375 \r\nQ 29.4375 66.109375 22.71875 58.640625 \r\nQ 16.015625 51.171875 16.015625 36.375 \r\nQ 16.015625 21.625 22.71875 14.15625 \r\nQ 29.4375 6.6875 42.828125 6.6875 \r\nQ 48.046875 6.6875 52.140625 7.59375 \r\nQ 56.25 8.5 59.515625 10.40625 \r\nz\r\n\" id=\"DejaVuSans-71\"/>\r\n       <path d=\"M 19.671875 64.796875 \r\nL 19.671875 8.109375 \r\nL 31.59375 8.109375 \r\nQ 46.6875 8.109375 53.6875 14.9375 \r\nQ 60.6875 21.78125 60.6875 36.53125 \r\nQ 60.6875 51.171875 53.6875 57.984375 \r\nQ 46.6875 64.796875 31.59375 64.796875 \r\nz\r\nM 9.8125 72.90625 \r\nL 30.078125 72.90625 \r\nQ 51.265625 72.90625 61.171875 64.09375 \r\nQ 71.09375 55.28125 71.09375 36.53125 \r\nQ 71.09375 17.671875 61.125 8.828125 \r\nQ 51.171875 0 30.078125 0 \r\nL 9.8125 0 \r\nz\r\n\" id=\"DejaVuSans-68\"/>\r\n      </defs>\r\n      <use xlink:href=\"#DejaVuSans-71\"/>\r\n      <use x=\"77.490234\" xlink:href=\"#DejaVuSans-68\"/>\r\n     </g>\r\n    </g>\r\n    <g id=\"line2d_18\">\r\n     <path d=\"M 233.737552 64.965242 \r\nL 273.737552 64.965242 \r\n\" style=\"fill:none;stroke:#ff0000;stroke-linecap:square;stroke-width:2;\"/>\r\n    </g>\r\n    <g id=\"line2d_19\"/>\r\n    <g id=\"text_15\">\r\n     <!-- SGD -->\r\n     <g transform=\"translate(289.737552 71.965242)scale(0.2 -0.2)\">\r\n      <defs>\r\n       <path d=\"M 53.515625 70.515625 \r\nL 53.515625 60.890625 \r\nQ 47.90625 63.578125 42.921875 64.890625 \r\nQ 37.9375 66.21875 33.296875 66.21875 \r\nQ 25.25 66.21875 20.875 63.09375 \r\nQ 16.5 59.96875 16.5 54.203125 \r\nQ 16.5 49.359375 19.40625 46.890625 \r\nQ 22.3125 44.4375 30.421875 42.921875 \r\nL 36.375 41.703125 \r\nQ 47.40625 39.59375 52.65625 34.296875 \r\nQ 57.90625 29 57.90625 20.125 \r\nQ 57.90625 9.515625 50.796875 4.046875 \r\nQ 43.703125 -1.421875 29.984375 -1.421875 \r\nQ 24.8125 -1.421875 18.96875 -0.25 \r\nQ 13.140625 0.921875 6.890625 3.21875 \r\nL 6.890625 13.375 \r\nQ 12.890625 10.015625 18.65625 8.296875 \r\nQ 24.421875 6.59375 29.984375 6.59375 \r\nQ 38.421875 6.59375 43.015625 9.90625 \r\nQ 47.609375 13.234375 47.609375 19.390625 \r\nQ 47.609375 24.75 44.3125 27.78125 \r\nQ 41.015625 30.8125 33.5 32.328125 \r\nL 27.484375 33.5 \r\nQ 16.453125 35.6875 11.515625 40.375 \r\nQ 6.59375 45.0625 6.59375 53.421875 \r\nQ 6.59375 63.09375 13.40625 68.65625 \r\nQ 20.21875 74.21875 32.171875 74.21875 \r\nQ 37.3125 74.21875 42.625 73.28125 \r\nQ 47.953125 72.359375 53.515625 70.515625 \r\nz\r\n\" id=\"DejaVuSans-83\"/>\r\n      </defs>\r\n      <use xlink:href=\"#DejaVuSans-83\"/>\r\n      <use x=\"63.476562\" xlink:href=\"#DejaVuSans-71\"/>\r\n      <use x=\"140.966797\" xlink:href=\"#DejaVuSans-68\"/>\r\n     </g>\r\n    </g>\r\n    <g id=\"line2d_20\"/>\r\n    <g id=\"line2d_21\">\r\n     <g>\r\n      <use style=\"fill:#008000;stroke:#008000;\" x=\"253.737552\" xlink:href=\"#mf332686bde\" y=\"94.321492\"/>\r\n     </g>\r\n    </g>\r\n    <g id=\"text_16\">\r\n     <!-- MB-SGD8 -->\r\n     <g transform=\"translate(289.737552 101.321492)scale(0.2 -0.2)\">\r\n      <defs>\r\n       <path d=\"M 9.8125 72.90625 \r\nL 24.515625 72.90625 \r\nL 43.109375 23.296875 \r\nL 61.8125 72.90625 \r\nL 76.515625 72.90625 \r\nL 76.515625 0 \r\nL 66.890625 0 \r\nL 66.890625 64.015625 \r\nL 48.09375 14.015625 \r\nL 38.1875 14.015625 \r\nL 19.390625 64.015625 \r\nL 19.390625 0 \r\nL 9.8125 0 \r\nz\r\n\" id=\"DejaVuSans-77\"/>\r\n       <path d=\"M 19.671875 34.8125 \r\nL 19.671875 8.109375 \r\nL 35.5 8.109375 \r\nQ 43.453125 8.109375 47.28125 11.40625 \r\nQ 51.125 14.703125 51.125 21.484375 \r\nQ 51.125 28.328125 47.28125 31.5625 \r\nQ 43.453125 34.8125 35.5 34.8125 \r\nz\r\nM 19.671875 64.796875 \r\nL 19.671875 42.828125 \r\nL 34.28125 42.828125 \r\nQ 41.5 42.828125 45.03125 45.53125 \r\nQ 48.578125 48.25 48.578125 53.8125 \r\nQ 48.578125 59.328125 45.03125 62.0625 \r\nQ 41.5 64.796875 34.28125 64.796875 \r\nz\r\nM 9.8125 72.90625 \r\nL 35.015625 72.90625 \r\nQ 46.296875 72.90625 52.390625 68.21875 \r\nQ 58.5 63.53125 58.5 54.890625 \r\nQ 58.5 48.1875 55.375 44.234375 \r\nQ 52.25 40.28125 46.1875 39.3125 \r\nQ 53.46875 37.75 57.5 32.78125 \r\nQ 61.53125 27.828125 61.53125 20.40625 \r\nQ 61.53125 10.640625 54.890625 5.3125 \r\nQ 48.25 0 35.984375 0 \r\nL 9.8125 0 \r\nz\r\n\" id=\"DejaVuSans-66\"/>\r\n       <path d=\"M 4.890625 31.390625 \r\nL 31.203125 31.390625 \r\nL 31.203125 23.390625 \r\nL 4.890625 23.390625 \r\nz\r\n\" id=\"DejaVuSans-45\"/>\r\n      </defs>\r\n      <use xlink:href=\"#DejaVuSans-77\"/>\r\n      <use x=\"86.279297\" xlink:href=\"#DejaVuSans-66\"/>\r\n      <use x=\"154.882812\" xlink:href=\"#DejaVuSans-45\"/>\r\n      <use x=\"190.966797\" xlink:href=\"#DejaVuSans-83\"/>\r\n      <use x=\"254.443359\" xlink:href=\"#DejaVuSans-71\"/>\r\n      <use x=\"331.933594\" xlink:href=\"#DejaVuSans-68\"/>\r\n      <use x=\"408.935547\" xlink:href=\"#DejaVuSans-56\"/>\r\n     </g>\r\n    </g>\r\n    <g id=\"line2d_22\">\r\n     <path d=\"M 233.737552 123.677742 \r\nL 273.737552 123.677742 \r\n\" style=\"fill:none;stroke:#bf00bf;stroke-dasharray:7.4,3.2;stroke-dashoffset:0;stroke-width:2;\"/>\r\n    </g>\r\n    <g id=\"line2d_23\"/>\r\n    <g id=\"text_17\">\r\n     <!-- MB-SGD64 -->\r\n     <g transform=\"translate(289.737552 130.677742)scale(0.2 -0.2)\">\r\n      <use xlink:href=\"#DejaVuSans-77\"/>\r\n      <use x=\"86.279297\" xlink:href=\"#DejaVuSans-66\"/>\r\n      <use x=\"154.882812\" xlink:href=\"#DejaVuSans-45\"/>\r\n      <use x=\"190.966797\" xlink:href=\"#DejaVuSans-83\"/>\r\n      <use x=\"254.443359\" xlink:href=\"#DejaVuSans-71\"/>\r\n      <use x=\"331.933594\" xlink:href=\"#DejaVuSans-68\"/>\r\n      <use x=\"408.935547\" xlink:href=\"#DejaVuSans-54\"/>\r\n      <use x=\"472.558594\" xlink:href=\"#DejaVuSans-52\"/>\r\n     </g>\r\n    </g>\r\n   </g>\r\n  </g>\r\n </g>\r\n <defs>\r\n  <clipPath id=\"pdc4f4081d8\">\r\n   <rect height=\"219.234975\" width=\"341.793802\" x=\"73.18125\" y=\"9.412117\"/>\r\n  </clipPath>\r\n </defs>\r\n</svg>\r\n",
      "image/png": "[encoded data removed]"
     },
     "metadata": {
      "needs_background": "light"
     }
    }
   ],
   "source": [
    "# plot the 4 curves:\n",
    "fig = plt.figure(figsize=(6, 4))\n",
    "\n",
    "epochs_mbsgd8 = range(len(objvals_mbsgd8))\n",
    "epochs_mbsgd64 = range(len(objvals_mbsgd64))\n",
    "\n",
    "line0, = plt.plot(epochs_gd, objvals_gd, '--b', linewidth=4)\n",
    "line1, = plt.plot(epochs_sgd, objvals_sgd, '-r', linewidth=2)\n",
    "line2, = plt.plot(epochs_mbsgd8, objvals_mbsgd8, '.g', linewidth=1)\n",
    "line3, = plt.plot(epochs_mbsgd64, objvals_mbsgd64, '--m', linewidth=2)\n",
    "plt.xlabel('Epochs', fontsize=20)\n",
    "plt.ylabel('Objective Value', fontsize=20)\n",
    "plt.xticks(fontsize=16)\n",
    "plt.yticks(fontsize=16)\n",
    "plt.legend([line0, line1, line2, line3], ['GD', 'SGD', 'MB-SGD8', 'MB-SGD64'], fontsize=20)\n",
    "plt.tight_layout()\n",
    "plt.show()\n",
    "fig.savefig('compare_gd_sgd_bsgd.pdf', format='pdf', dpi=1200)"
   ]
  },
  {
   "cell_type": "markdown",
   "metadata": {},
   "source": []
  }
 ],
 "metadata": {
  "kernelspec": {
   "display_name": "Python 3",
   "language": "python",
   "name": "python3"
  },
  "language_info": {
   "codemirror_mode": {
    "name": "ipython",
    "version": 3
   },
   "file_extension": ".py",
   "mimetype": "text/x-python",
   "name": "python",
   "nbconvert_exporter": "python",
   "pygments_lexer": "ipython3",
   "version": "3.8.5-final"
  }
 },
 "nbformat": 4,
 "nbformat_minor": 2
}